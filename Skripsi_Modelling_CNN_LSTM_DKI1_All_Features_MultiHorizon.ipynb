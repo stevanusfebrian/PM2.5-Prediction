{
  "nbformat": 4,
  "nbformat_minor": 0,
  "metadata": {
    "colab": {
      "provenance": []
    },
    "kernelspec": {
      "name": "python3",
      "display_name": "Python 3"
    },
    "language_info": {
      "name": "python"
    }
  },
  "cells": [
    {
      "cell_type": "code",
      "source": [
        "# pip install meteostat"
      ],
      "metadata": {
        "colab": {
          "base_uri": "https://localhost:8080/"
        },
        "id": "xyZaUcCAKP02",
        "outputId": "47c377ce-8c09-4151-9423-6d038c74cd11"
      },
      "execution_count": null,
      "outputs": [
        {
          "output_type": "stream",
          "name": "stdout",
          "text": [
            "Requirement already satisfied: meteostat in /usr/local/lib/python3.11/dist-packages (1.6.8)\n",
            "Requirement already satisfied: pandas>=1.1 in /usr/local/lib/python3.11/dist-packages (from meteostat) (2.2.2)\n",
            "Requirement already satisfied: pytz in /usr/local/lib/python3.11/dist-packages (from meteostat) (2025.2)\n",
            "Requirement already satisfied: numpy in /usr/local/lib/python3.11/dist-packages (from meteostat) (2.0.2)\n",
            "Requirement already satisfied: python-dateutil>=2.8.2 in /usr/local/lib/python3.11/dist-packages (from pandas>=1.1->meteostat) (2.8.2)\n",
            "Requirement already satisfied: tzdata>=2022.7 in /usr/local/lib/python3.11/dist-packages (from pandas>=1.1->meteostat) (2025.2)\n",
            "Requirement already satisfied: six>=1.5 in /usr/local/lib/python3.11/dist-packages (from python-dateutil>=2.8.2->pandas>=1.1->meteostat) (1.17.0)\n"
          ]
        }
      ]
    },
    {
      "cell_type": "code",
      "execution_count": null,
      "metadata": {
        "id": "LKdtNEEarUNi"
      },
      "outputs": [],
      "source": [
        "from keras.src import optimizers\n",
        "from keras.src.utils import plot_model\n",
        "from keras.src.models import Sequential, Model\n",
        "from keras.src.layers.convolutional.conv1d import Conv1D\n",
        "from keras.src.layers.pooling.max_pooling1d import MaxPooling1D\n",
        "from keras.src.layers import Dense, LSTM, RepeatVector, TimeDistributed, Flatten\n",
        "from keras.src import metrics\n",
        "from keras.layers import Input\n",
        "import numpy as np\n",
        "import pandas as pd\n",
        "\n",
        "import matplotlib.pyplot as plt\n",
        "import seaborn as sns\n",
        "from datetime import datetime, date\n",
        "from sklearn.model_selection import train_test_split\n",
        "\n",
        "import math\n",
        "from sklearn.preprocessing import MinMaxScaler\n",
        "\n",
        "from datetime import datetime as dt, date, timedelta\n",
        "# from meteostat import Point, Daily"
      ]
    },
    {
      "cell_type": "code",
      "source": [
        "data = pd.read_csv('/content/preprocessed_main_data_dki1_kemayoran.csv')\n",
        "data = data.set_index('tanggal')\n",
        "data"
      ],
      "metadata": {
        "colab": {
          "base_uri": "https://localhost:8080/",
          "height": 455
        },
        "id": "KXtFrgf2GT05",
        "outputId": "36bf0502-f2c9-4ceb-965f-2a2e43d04fcf"
      },
      "execution_count": null,
      "outputs": [
        {
          "output_type": "execute_result",
          "data": {
            "text/plain": [
              "            index  pm10   pm25   so2    co    o3   no2  Tavg_km  RH_avg_km  \\\n",
              "tanggal                                                                      \n",
              "2023-01-01    0.0  44.0   55.0  47.0  10.0  24.0   9.0     26.3       87.0   \n",
              "2023-01-02    1.0  32.0   43.0  52.0   9.0  24.0   8.0     27.5       81.0   \n",
              "2023-01-03    2.0  31.0   35.0  49.0   9.0  12.0   7.0     26.6       82.0   \n",
              "2023-01-04    3.0  30.0   47.0  53.0  11.0  15.0   9.0     26.4       86.0   \n",
              "2023-01-05    4.0  38.0   50.0  50.0  13.0  26.0  11.0     27.4       83.0   \n",
              "...           ...   ...    ...   ...   ...   ...   ...      ...        ...   \n",
              "2024-12-27  726.0  53.0   83.0  12.0  10.0  11.0  36.0     29.2       78.0   \n",
              "2024-12-28  727.0  64.0  101.0  14.0   9.0  11.0  35.0     30.0       70.0   \n",
              "2024-12-29  728.0  51.0   21.0  13.0  10.0  13.0  35.0     29.7       73.0   \n",
              "2024-12-30  729.0  35.0   10.0  13.0   5.0  12.0  13.0     28.4       76.0   \n",
              "2024-12-31  730.0  29.0   11.0   6.0  13.0  10.0  18.0     28.4       76.0   \n",
              "\n",
              "            RR_km  ss_km  ff_avg_km  DDD_CAR_km  \n",
              "tanggal                                          \n",
              "2023-01-01   14.5    0.0        1.0         1.0  \n",
              "2023-01-02   31.5    0.7        2.0         9.0  \n",
              "2023-01-03    0.5    0.0        1.0         1.0  \n",
              "2023-01-04    2.4    2.1        1.0         1.0  \n",
              "2023-01-05   35.3    4.9        2.0         1.0  \n",
              "...           ...    ...        ...         ...  \n",
              "2024-12-27    7.5    1.2        2.0         1.0  \n",
              "2024-12-28    0.6    3.8        2.0         1.0  \n",
              "2024-12-29    0.0    3.0        1.0         1.0  \n",
              "2024-12-30    1.0    1.8        2.0         7.0  \n",
              "2024-12-31    2.0    2.4        2.0         8.0  \n",
              "\n",
              "[731 rows x 13 columns]"
            ],
            "text/html": [
              "\n",
              "  <div id=\"df-582997ac-defd-4c12-b7a7-2dd05e7d28bd\" class=\"colab-df-container\">\n",
              "    <div>\n",
              "<style scoped>\n",
              "    .dataframe tbody tr th:only-of-type {\n",
              "        vertical-align: middle;\n",
              "    }\n",
              "\n",
              "    .dataframe tbody tr th {\n",
              "        vertical-align: top;\n",
              "    }\n",
              "\n",
              "    .dataframe thead th {\n",
              "        text-align: right;\n",
              "    }\n",
              "</style>\n",
              "<table border=\"1\" class=\"dataframe\">\n",
              "  <thead>\n",
              "    <tr style=\"text-align: right;\">\n",
              "      <th></th>\n",
              "      <th>index</th>\n",
              "      <th>pm10</th>\n",
              "      <th>pm25</th>\n",
              "      <th>so2</th>\n",
              "      <th>co</th>\n",
              "      <th>o3</th>\n",
              "      <th>no2</th>\n",
              "      <th>Tavg_km</th>\n",
              "      <th>RH_avg_km</th>\n",
              "      <th>RR_km</th>\n",
              "      <th>ss_km</th>\n",
              "      <th>ff_avg_km</th>\n",
              "      <th>DDD_CAR_km</th>\n",
              "    </tr>\n",
              "    <tr>\n",
              "      <th>tanggal</th>\n",
              "      <th></th>\n",
              "      <th></th>\n",
              "      <th></th>\n",
              "      <th></th>\n",
              "      <th></th>\n",
              "      <th></th>\n",
              "      <th></th>\n",
              "      <th></th>\n",
              "      <th></th>\n",
              "      <th></th>\n",
              "      <th></th>\n",
              "      <th></th>\n",
              "      <th></th>\n",
              "    </tr>\n",
              "  </thead>\n",
              "  <tbody>\n",
              "    <tr>\n",
              "      <th>2023-01-01</th>\n",
              "      <td>0.0</td>\n",
              "      <td>44.0</td>\n",
              "      <td>55.0</td>\n",
              "      <td>47.0</td>\n",
              "      <td>10.0</td>\n",
              "      <td>24.0</td>\n",
              "      <td>9.0</td>\n",
              "      <td>26.3</td>\n",
              "      <td>87.0</td>\n",
              "      <td>14.5</td>\n",
              "      <td>0.0</td>\n",
              "      <td>1.0</td>\n",
              "      <td>1.0</td>\n",
              "    </tr>\n",
              "    <tr>\n",
              "      <th>2023-01-02</th>\n",
              "      <td>1.0</td>\n",
              "      <td>32.0</td>\n",
              "      <td>43.0</td>\n",
              "      <td>52.0</td>\n",
              "      <td>9.0</td>\n",
              "      <td>24.0</td>\n",
              "      <td>8.0</td>\n",
              "      <td>27.5</td>\n",
              "      <td>81.0</td>\n",
              "      <td>31.5</td>\n",
              "      <td>0.7</td>\n",
              "      <td>2.0</td>\n",
              "      <td>9.0</td>\n",
              "    </tr>\n",
              "    <tr>\n",
              "      <th>2023-01-03</th>\n",
              "      <td>2.0</td>\n",
              "      <td>31.0</td>\n",
              "      <td>35.0</td>\n",
              "      <td>49.0</td>\n",
              "      <td>9.0</td>\n",
              "      <td>12.0</td>\n",
              "      <td>7.0</td>\n",
              "      <td>26.6</td>\n",
              "      <td>82.0</td>\n",
              "      <td>0.5</td>\n",
              "      <td>0.0</td>\n",
              "      <td>1.0</td>\n",
              "      <td>1.0</td>\n",
              "    </tr>\n",
              "    <tr>\n",
              "      <th>2023-01-04</th>\n",
              "      <td>3.0</td>\n",
              "      <td>30.0</td>\n",
              "      <td>47.0</td>\n",
              "      <td>53.0</td>\n",
              "      <td>11.0</td>\n",
              "      <td>15.0</td>\n",
              "      <td>9.0</td>\n",
              "      <td>26.4</td>\n",
              "      <td>86.0</td>\n",
              "      <td>2.4</td>\n",
              "      <td>2.1</td>\n",
              "      <td>1.0</td>\n",
              "      <td>1.0</td>\n",
              "    </tr>\n",
              "    <tr>\n",
              "      <th>2023-01-05</th>\n",
              "      <td>4.0</td>\n",
              "      <td>38.0</td>\n",
              "      <td>50.0</td>\n",
              "      <td>50.0</td>\n",
              "      <td>13.0</td>\n",
              "      <td>26.0</td>\n",
              "      <td>11.0</td>\n",
              "      <td>27.4</td>\n",
              "      <td>83.0</td>\n",
              "      <td>35.3</td>\n",
              "      <td>4.9</td>\n",
              "      <td>2.0</td>\n",
              "      <td>1.0</td>\n",
              "    </tr>\n",
              "    <tr>\n",
              "      <th>...</th>\n",
              "      <td>...</td>\n",
              "      <td>...</td>\n",
              "      <td>...</td>\n",
              "      <td>...</td>\n",
              "      <td>...</td>\n",
              "      <td>...</td>\n",
              "      <td>...</td>\n",
              "      <td>...</td>\n",
              "      <td>...</td>\n",
              "      <td>...</td>\n",
              "      <td>...</td>\n",
              "      <td>...</td>\n",
              "      <td>...</td>\n",
              "    </tr>\n",
              "    <tr>\n",
              "      <th>2024-12-27</th>\n",
              "      <td>726.0</td>\n",
              "      <td>53.0</td>\n",
              "      <td>83.0</td>\n",
              "      <td>12.0</td>\n",
              "      <td>10.0</td>\n",
              "      <td>11.0</td>\n",
              "      <td>36.0</td>\n",
              "      <td>29.2</td>\n",
              "      <td>78.0</td>\n",
              "      <td>7.5</td>\n",
              "      <td>1.2</td>\n",
              "      <td>2.0</td>\n",
              "      <td>1.0</td>\n",
              "    </tr>\n",
              "    <tr>\n",
              "      <th>2024-12-28</th>\n",
              "      <td>727.0</td>\n",
              "      <td>64.0</td>\n",
              "      <td>101.0</td>\n",
              "      <td>14.0</td>\n",
              "      <td>9.0</td>\n",
              "      <td>11.0</td>\n",
              "      <td>35.0</td>\n",
              "      <td>30.0</td>\n",
              "      <td>70.0</td>\n",
              "      <td>0.6</td>\n",
              "      <td>3.8</td>\n",
              "      <td>2.0</td>\n",
              "      <td>1.0</td>\n",
              "    </tr>\n",
              "    <tr>\n",
              "      <th>2024-12-29</th>\n",
              "      <td>728.0</td>\n",
              "      <td>51.0</td>\n",
              "      <td>21.0</td>\n",
              "      <td>13.0</td>\n",
              "      <td>10.0</td>\n",
              "      <td>13.0</td>\n",
              "      <td>35.0</td>\n",
              "      <td>29.7</td>\n",
              "      <td>73.0</td>\n",
              "      <td>0.0</td>\n",
              "      <td>3.0</td>\n",
              "      <td>1.0</td>\n",
              "      <td>1.0</td>\n",
              "    </tr>\n",
              "    <tr>\n",
              "      <th>2024-12-30</th>\n",
              "      <td>729.0</td>\n",
              "      <td>35.0</td>\n",
              "      <td>10.0</td>\n",
              "      <td>13.0</td>\n",
              "      <td>5.0</td>\n",
              "      <td>12.0</td>\n",
              "      <td>13.0</td>\n",
              "      <td>28.4</td>\n",
              "      <td>76.0</td>\n",
              "      <td>1.0</td>\n",
              "      <td>1.8</td>\n",
              "      <td>2.0</td>\n",
              "      <td>7.0</td>\n",
              "    </tr>\n",
              "    <tr>\n",
              "      <th>2024-12-31</th>\n",
              "      <td>730.0</td>\n",
              "      <td>29.0</td>\n",
              "      <td>11.0</td>\n",
              "      <td>6.0</td>\n",
              "      <td>13.0</td>\n",
              "      <td>10.0</td>\n",
              "      <td>18.0</td>\n",
              "      <td>28.4</td>\n",
              "      <td>76.0</td>\n",
              "      <td>2.0</td>\n",
              "      <td>2.4</td>\n",
              "      <td>2.0</td>\n",
              "      <td>8.0</td>\n",
              "    </tr>\n",
              "  </tbody>\n",
              "</table>\n",
              "<p>731 rows × 13 columns</p>\n",
              "</div>\n",
              "    <div class=\"colab-df-buttons\">\n",
              "\n",
              "  <div class=\"colab-df-container\">\n",
              "    <button class=\"colab-df-convert\" onclick=\"convertToInteractive('df-582997ac-defd-4c12-b7a7-2dd05e7d28bd')\"\n",
              "            title=\"Convert this dataframe to an interactive table.\"\n",
              "            style=\"display:none;\">\n",
              "\n",
              "  <svg xmlns=\"http://www.w3.org/2000/svg\" height=\"24px\" viewBox=\"0 -960 960 960\">\n",
              "    <path d=\"M120-120v-720h720v720H120Zm60-500h600v-160H180v160Zm220 220h160v-160H400v160Zm0 220h160v-160H400v160ZM180-400h160v-160H180v160Zm440 0h160v-160H620v160ZM180-180h160v-160H180v160Zm440 0h160v-160H620v160Z\"/>\n",
              "  </svg>\n",
              "    </button>\n",
              "\n",
              "  <style>\n",
              "    .colab-df-container {\n",
              "      display:flex;\n",
              "      gap: 12px;\n",
              "    }\n",
              "\n",
              "    .colab-df-convert {\n",
              "      background-color: #E8F0FE;\n",
              "      border: none;\n",
              "      border-radius: 50%;\n",
              "      cursor: pointer;\n",
              "      display: none;\n",
              "      fill: #1967D2;\n",
              "      height: 32px;\n",
              "      padding: 0 0 0 0;\n",
              "      width: 32px;\n",
              "    }\n",
              "\n",
              "    .colab-df-convert:hover {\n",
              "      background-color: #E2EBFA;\n",
              "      box-shadow: 0px 1px 2px rgba(60, 64, 67, 0.3), 0px 1px 3px 1px rgba(60, 64, 67, 0.15);\n",
              "      fill: #174EA6;\n",
              "    }\n",
              "\n",
              "    .colab-df-buttons div {\n",
              "      margin-bottom: 4px;\n",
              "    }\n",
              "\n",
              "    [theme=dark] .colab-df-convert {\n",
              "      background-color: #3B4455;\n",
              "      fill: #D2E3FC;\n",
              "    }\n",
              "\n",
              "    [theme=dark] .colab-df-convert:hover {\n",
              "      background-color: #434B5C;\n",
              "      box-shadow: 0px 1px 3px 1px rgba(0, 0, 0, 0.15);\n",
              "      filter: drop-shadow(0px 1px 2px rgba(0, 0, 0, 0.3));\n",
              "      fill: #FFFFFF;\n",
              "    }\n",
              "  </style>\n",
              "\n",
              "    <script>\n",
              "      const buttonEl =\n",
              "        document.querySelector('#df-582997ac-defd-4c12-b7a7-2dd05e7d28bd button.colab-df-convert');\n",
              "      buttonEl.style.display =\n",
              "        google.colab.kernel.accessAllowed ? 'block' : 'none';\n",
              "\n",
              "      async function convertToInteractive(key) {\n",
              "        const element = document.querySelector('#df-582997ac-defd-4c12-b7a7-2dd05e7d28bd');\n",
              "        const dataTable =\n",
              "          await google.colab.kernel.invokeFunction('convertToInteractive',\n",
              "                                                    [key], {});\n",
              "        if (!dataTable) return;\n",
              "\n",
              "        const docLinkHtml = 'Like what you see? Visit the ' +\n",
              "          '<a target=\"_blank\" href=https://colab.research.google.com/notebooks/data_table.ipynb>data table notebook</a>'\n",
              "          + ' to learn more about interactive tables.';\n",
              "        element.innerHTML = '';\n",
              "        dataTable['output_type'] = 'display_data';\n",
              "        await google.colab.output.renderOutput(dataTable, element);\n",
              "        const docLink = document.createElement('div');\n",
              "        docLink.innerHTML = docLinkHtml;\n",
              "        element.appendChild(docLink);\n",
              "      }\n",
              "    </script>\n",
              "  </div>\n",
              "\n",
              "\n",
              "    <div id=\"df-3faf9dd8-c4ea-4576-bba3-ac1c5b9cd17d\">\n",
              "      <button class=\"colab-df-quickchart\" onclick=\"quickchart('df-3faf9dd8-c4ea-4576-bba3-ac1c5b9cd17d')\"\n",
              "                title=\"Suggest charts\"\n",
              "                style=\"display:none;\">\n",
              "\n",
              "<svg xmlns=\"http://www.w3.org/2000/svg\" height=\"24px\"viewBox=\"0 0 24 24\"\n",
              "     width=\"24px\">\n",
              "    <g>\n",
              "        <path d=\"M19 3H5c-1.1 0-2 .9-2 2v14c0 1.1.9 2 2 2h14c1.1 0 2-.9 2-2V5c0-1.1-.9-2-2-2zM9 17H7v-7h2v7zm4 0h-2V7h2v10zm4 0h-2v-4h2v4z\"/>\n",
              "    </g>\n",
              "</svg>\n",
              "      </button>\n",
              "\n",
              "<style>\n",
              "  .colab-df-quickchart {\n",
              "      --bg-color: #E8F0FE;\n",
              "      --fill-color: #1967D2;\n",
              "      --hover-bg-color: #E2EBFA;\n",
              "      --hover-fill-color: #174EA6;\n",
              "      --disabled-fill-color: #AAA;\n",
              "      --disabled-bg-color: #DDD;\n",
              "  }\n",
              "\n",
              "  [theme=dark] .colab-df-quickchart {\n",
              "      --bg-color: #3B4455;\n",
              "      --fill-color: #D2E3FC;\n",
              "      --hover-bg-color: #434B5C;\n",
              "      --hover-fill-color: #FFFFFF;\n",
              "      --disabled-bg-color: #3B4455;\n",
              "      --disabled-fill-color: #666;\n",
              "  }\n",
              "\n",
              "  .colab-df-quickchart {\n",
              "    background-color: var(--bg-color);\n",
              "    border: none;\n",
              "    border-radius: 50%;\n",
              "    cursor: pointer;\n",
              "    display: none;\n",
              "    fill: var(--fill-color);\n",
              "    height: 32px;\n",
              "    padding: 0;\n",
              "    width: 32px;\n",
              "  }\n",
              "\n",
              "  .colab-df-quickchart:hover {\n",
              "    background-color: var(--hover-bg-color);\n",
              "    box-shadow: 0 1px 2px rgba(60, 64, 67, 0.3), 0 1px 3px 1px rgba(60, 64, 67, 0.15);\n",
              "    fill: var(--button-hover-fill-color);\n",
              "  }\n",
              "\n",
              "  .colab-df-quickchart-complete:disabled,\n",
              "  .colab-df-quickchart-complete:disabled:hover {\n",
              "    background-color: var(--disabled-bg-color);\n",
              "    fill: var(--disabled-fill-color);\n",
              "    box-shadow: none;\n",
              "  }\n",
              "\n",
              "  .colab-df-spinner {\n",
              "    border: 2px solid var(--fill-color);\n",
              "    border-color: transparent;\n",
              "    border-bottom-color: var(--fill-color);\n",
              "    animation:\n",
              "      spin 1s steps(1) infinite;\n",
              "  }\n",
              "\n",
              "  @keyframes spin {\n",
              "    0% {\n",
              "      border-color: transparent;\n",
              "      border-bottom-color: var(--fill-color);\n",
              "      border-left-color: var(--fill-color);\n",
              "    }\n",
              "    20% {\n",
              "      border-color: transparent;\n",
              "      border-left-color: var(--fill-color);\n",
              "      border-top-color: var(--fill-color);\n",
              "    }\n",
              "    30% {\n",
              "      border-color: transparent;\n",
              "      border-left-color: var(--fill-color);\n",
              "      border-top-color: var(--fill-color);\n",
              "      border-right-color: var(--fill-color);\n",
              "    }\n",
              "    40% {\n",
              "      border-color: transparent;\n",
              "      border-right-color: var(--fill-color);\n",
              "      border-top-color: var(--fill-color);\n",
              "    }\n",
              "    60% {\n",
              "      border-color: transparent;\n",
              "      border-right-color: var(--fill-color);\n",
              "    }\n",
              "    80% {\n",
              "      border-color: transparent;\n",
              "      border-right-color: var(--fill-color);\n",
              "      border-bottom-color: var(--fill-color);\n",
              "    }\n",
              "    90% {\n",
              "      border-color: transparent;\n",
              "      border-bottom-color: var(--fill-color);\n",
              "    }\n",
              "  }\n",
              "</style>\n",
              "\n",
              "      <script>\n",
              "        async function quickchart(key) {\n",
              "          const quickchartButtonEl =\n",
              "            document.querySelector('#' + key + ' button');\n",
              "          quickchartButtonEl.disabled = true;  // To prevent multiple clicks.\n",
              "          quickchartButtonEl.classList.add('colab-df-spinner');\n",
              "          try {\n",
              "            const charts = await google.colab.kernel.invokeFunction(\n",
              "                'suggestCharts', [key], {});\n",
              "          } catch (error) {\n",
              "            console.error('Error during call to suggestCharts:', error);\n",
              "          }\n",
              "          quickchartButtonEl.classList.remove('colab-df-spinner');\n",
              "          quickchartButtonEl.classList.add('colab-df-quickchart-complete');\n",
              "        }\n",
              "        (() => {\n",
              "          let quickchartButtonEl =\n",
              "            document.querySelector('#df-3faf9dd8-c4ea-4576-bba3-ac1c5b9cd17d button');\n",
              "          quickchartButtonEl.style.display =\n",
              "            google.colab.kernel.accessAllowed ? 'block' : 'none';\n",
              "        })();\n",
              "      </script>\n",
              "    </div>\n",
              "\n",
              "  <div id=\"id_cd1a101f-b844-476b-957f-8589dc183070\">\n",
              "    <style>\n",
              "      .colab-df-generate {\n",
              "        background-color: #E8F0FE;\n",
              "        border: none;\n",
              "        border-radius: 50%;\n",
              "        cursor: pointer;\n",
              "        display: none;\n",
              "        fill: #1967D2;\n",
              "        height: 32px;\n",
              "        padding: 0 0 0 0;\n",
              "        width: 32px;\n",
              "      }\n",
              "\n",
              "      .colab-df-generate:hover {\n",
              "        background-color: #E2EBFA;\n",
              "        box-shadow: 0px 1px 2px rgba(60, 64, 67, 0.3), 0px 1px 3px 1px rgba(60, 64, 67, 0.15);\n",
              "        fill: #174EA6;\n",
              "      }\n",
              "\n",
              "      [theme=dark] .colab-df-generate {\n",
              "        background-color: #3B4455;\n",
              "        fill: #D2E3FC;\n",
              "      }\n",
              "\n",
              "      [theme=dark] .colab-df-generate:hover {\n",
              "        background-color: #434B5C;\n",
              "        box-shadow: 0px 1px 3px 1px rgba(0, 0, 0, 0.15);\n",
              "        filter: drop-shadow(0px 1px 2px rgba(0, 0, 0, 0.3));\n",
              "        fill: #FFFFFF;\n",
              "      }\n",
              "    </style>\n",
              "    <button class=\"colab-df-generate\" onclick=\"generateWithVariable('data')\"\n",
              "            title=\"Generate code using this dataframe.\"\n",
              "            style=\"display:none;\">\n",
              "\n",
              "  <svg xmlns=\"http://www.w3.org/2000/svg\" height=\"24px\"viewBox=\"0 0 24 24\"\n",
              "       width=\"24px\">\n",
              "    <path d=\"M7,19H8.4L18.45,9,17,7.55,7,17.6ZM5,21V16.75L18.45,3.32a2,2,0,0,1,2.83,0l1.4,1.43a1.91,1.91,0,0,1,.58,1.4,1.91,1.91,0,0,1-.58,1.4L9.25,21ZM18.45,9,17,7.55Zm-12,3A5.31,5.31,0,0,0,4.9,8.1,5.31,5.31,0,0,0,1,6.5,5.31,5.31,0,0,0,4.9,4.9,5.31,5.31,0,0,0,6.5,1,5.31,5.31,0,0,0,8.1,4.9,5.31,5.31,0,0,0,12,6.5,5.46,5.46,0,0,0,6.5,12Z\"/>\n",
              "  </svg>\n",
              "    </button>\n",
              "    <script>\n",
              "      (() => {\n",
              "      const buttonEl =\n",
              "        document.querySelector('#id_cd1a101f-b844-476b-957f-8589dc183070 button.colab-df-generate');\n",
              "      buttonEl.style.display =\n",
              "        google.colab.kernel.accessAllowed ? 'block' : 'none';\n",
              "\n",
              "      buttonEl.onclick = () => {\n",
              "        google.colab.notebook.generateWithVariable('data');\n",
              "      }\n",
              "      })();\n",
              "    </script>\n",
              "  </div>\n",
              "\n",
              "    </div>\n",
              "  </div>\n"
            ],
            "application/vnd.google.colaboratory.intrinsic+json": {
              "type": "dataframe",
              "variable_name": "data",
              "summary": "{\n  \"name\": \"data\",\n  \"rows\": 731,\n  \"fields\": [\n    {\n      \"column\": \"tanggal\",\n      \"properties\": {\n        \"dtype\": \"object\",\n        \"num_unique_values\": 731,\n        \"samples\": [\n          \"2024-12-04\",\n          \"2023-02-03\",\n          \"2023-10-28\"\n        ],\n        \"semantic_type\": \"\",\n        \"description\": \"\"\n      }\n    },\n    {\n      \"column\": \"index\",\n      \"properties\": {\n        \"dtype\": \"number\",\n        \"std\": 211.16581162678773,\n        \"min\": 0.0,\n        \"max\": 730.0,\n        \"num_unique_values\": 731,\n        \"samples\": [\n          703.0,\n          33.0,\n          300.0\n        ],\n        \"semantic_type\": \"\",\n        \"description\": \"\"\n      }\n    },\n    {\n      \"column\": \"pm10\",\n      \"properties\": {\n        \"dtype\": \"number\",\n        \"std\": 13.130790299141534,\n        \"min\": 14.0,\n        \"max\": 77.0,\n        \"num_unique_values\": 65,\n        \"samples\": [\n          66.4,\n          73.0,\n          44.0\n        ],\n        \"semantic_type\": \"\",\n        \"description\": \"\"\n      }\n    },\n    {\n      \"column\": \"pm25\",\n      \"properties\": {\n        \"dtype\": \"number\",\n        \"std\": 19.99508821870296,\n        \"min\": 10.0,\n        \"max\": 122.0,\n        \"num_unique_values\": 96,\n        \"samples\": [\n          102.8,\n          104.0,\n          90.0\n        ],\n        \"semantic_type\": \"\",\n        \"description\": \"\"\n      }\n    },\n    {\n      \"column\": \"so2\",\n      \"properties\": {\n        \"dtype\": \"number\",\n        \"std\": 16.83269267465502,\n        \"min\": 6.0,\n        \"max\": 112.0,\n        \"num_unique_values\": 56,\n        \"samples\": [\n          47.0,\n          45.0,\n          112.0\n        ],\n        \"semantic_type\": \"\",\n        \"description\": \"\"\n      }\n    },\n    {\n      \"column\": \"co\",\n      \"properties\": {\n        \"dtype\": \"number\",\n        \"std\": 7.9098688167858615,\n        \"min\": 3.0,\n        \"max\": 38.0,\n        \"num_unique_values\": 46,\n        \"samples\": [\n          34.0,\n          6.8,\n          6.4\n        ],\n        \"semantic_type\": \"\",\n        \"description\": \"\"\n      }\n    },\n    {\n      \"column\": \"o3\",\n      \"properties\": {\n        \"dtype\": \"number\",\n        \"std\": 8.300088660299275,\n        \"min\": 4.0,\n        \"max\": 75.0,\n        \"num_unique_values\": 46,\n        \"samples\": [\n          45.0,\n          35.0,\n          33.0\n        ],\n        \"semantic_type\": \"\",\n        \"description\": \"\"\n      }\n    },\n    {\n      \"column\": \"no2\",\n      \"properties\": {\n        \"dtype\": \"number\",\n        \"std\": 10.993327511714089,\n        \"min\": 4.0,\n        \"max\": 98.0,\n        \"num_unique_values\": 60,\n        \"samples\": [\n          9.0,\n          4.0,\n          29.8\n        ],\n        \"semantic_type\": \"\",\n        \"description\": \"\"\n      }\n    },\n    {\n      \"column\": \"Tavg_km\",\n      \"properties\": {\n        \"dtype\": \"number\",\n        \"std\": 1.0892152659692949,\n        \"min\": 24.8,\n        \"max\": 31.8,\n        \"num_unique_values\": 61,\n        \"samples\": [\n          26.3,\n          29.6,\n          26.2\n        ],\n        \"semantic_type\": \"\",\n        \"description\": \"\"\n      }\n    },\n    {\n      \"column\": \"RH_avg_km\",\n      \"properties\": {\n        \"dtype\": \"number\",\n        \"std\": 6.504130908036769,\n        \"min\": 56.0,\n        \"max\": 94.0,\n        \"num_unique_values\": 39,\n        \"samples\": [\n          58.0,\n          89.0,\n          83.0\n        ],\n        \"semantic_type\": \"\",\n        \"description\": \"\"\n      }\n    },\n    {\n      \"column\": \"RR_km\",\n      \"properties\": {\n        \"dtype\": \"number\",\n        \"std\": 14.366142320135205,\n        \"min\": 0.0,\n        \"max\": 140.9,\n        \"num_unique_values\": 184,\n        \"samples\": [\n          13.2,\n          36.7,\n          6.1\n        ],\n        \"semantic_type\": \"\",\n        \"description\": \"\"\n      }\n    },\n    {\n      \"column\": \"ss_km\",\n      \"properties\": {\n        \"dtype\": \"number\",\n        \"std\": 2.5908280328150988,\n        \"min\": 0.0,\n        \"max\": 9.9,\n        \"num_unique_values\": 92,\n        \"samples\": [\n          4.0,\n          2.0,\n          1.4\n        ],\n        \"semantic_type\": \"\",\n        \"description\": \"\"\n      }\n    },\n    {\n      \"column\": \"ff_avg_km\",\n      \"properties\": {\n        \"dtype\": \"number\",\n        \"std\": 0.5720766601724218,\n        \"min\": 0.0,\n        \"max\": 3.0,\n        \"num_unique_values\": 4,\n        \"samples\": [\n          2.0,\n          0.0,\n          1.0\n        ],\n        \"semantic_type\": \"\",\n        \"description\": \"\"\n      }\n    },\n    {\n      \"column\": \"DDD_CAR_km\",\n      \"properties\": {\n        \"dtype\": \"number\",\n        \"std\": 1.7042580861797376,\n        \"min\": 1.0,\n        \"max\": 9.0,\n        \"num_unique_values\": 7,\n        \"samples\": [\n          1.0,\n          9.0,\n          7.0\n        ],\n        \"semantic_type\": \"\",\n        \"description\": \"\"\n      }\n    }\n  ]\n}"
            }
          },
          "metadata": {},
          "execution_count": 2
        }
      ]
    },
    {
      "cell_type": "code",
      "source": [
        "WINDOW_SIZE = 7\n",
        "HORIZON = 7\n",
        "\n",
        "scaler = None\n",
        "scaled_data = None\n",
        "training_data_len = None"
      ],
      "metadata": {
        "id": "RSrQWpWFJqyV"
      },
      "execution_count": null,
      "outputs": []
    },
    {
      "cell_type": "code",
      "source": [
        "def make_window(data):\n",
        "    global scaler\n",
        "    global scaled_data\n",
        "    global training_data_len\n",
        "\n",
        "    features = [\n",
        "        'pm10', 'so2', 'co', 'o3', 'no2', 'Tavg_km',\n",
        "      'RH_avg_km', 'RR_km', 'ss_km', 'ff_avg_km', 'DDD_CAR_km']\n",
        "\n",
        "    targets = ['pm25']\n",
        "\n",
        "\n",
        "    scaler = MinMaxScaler(feature_range=(0,1))\n",
        "    data[features] = scaler.fit_transform(data[features])\n",
        "    data[targets] = scaler.fit_transform(data[targets])\n",
        "\n",
        "    data_X = data[features].values\n",
        "    data_Y = data[targets].values\n",
        "\n",
        "\n",
        "    X = []\n",
        "    y = []\n",
        "\n",
        "    for i in range(len(data) - WINDOW_SIZE - HORIZON + 1):\n",
        "        X.append(data_X[i:i+WINDOW_SIZE])\n",
        "        y.append(data_Y[i+WINDOW_SIZE:i+WINDOW_SIZE + HORIZON])\n",
        "\n",
        "    training_data_len = math.ceil(len(X)* 0.8)\n",
        "\n",
        "    #splitting train\n",
        "    x_train = X[:training_data_len]\n",
        "    y_train = y[:training_data_len]\n",
        "\n",
        "    # Val set\n",
        "    val_test_len = len(X[training_data_len:])\n",
        "    val_len = math.ceil(val_test_len/2)\n",
        "\n",
        "    # x_val_test_set = X[training_data_len: training_data_len+val_len]\n",
        "    # y_val_test_set = y[training_data_len: training_data_len+val_len]\n",
        "    # # val_len = int(len(x_val_test_set)/2)\n",
        "\n",
        "    # # Val set\n",
        "    # x_val = x_val_test_set[: val_len]\n",
        "    # y_val = y_val_test_set[: val_len]\n",
        "    x_val = X[training_data_len: training_data_len+val_len]\n",
        "    y_val = y[training_data_len: training_data_len+val_len]\n",
        "\n",
        "    # # Test set\n",
        "    # x_test = x_val_test_set[val_len:]\n",
        "    # y_test = y_val_test_set[val_len:]\n",
        "\n",
        "    # Test set\n",
        "    x_test = X[training_data_len+val_len: ]\n",
        "    y_test = y[training_data_len+val_len: ]\n",
        "\n",
        "    # return training_data_len, val_test_len, val_len, x_val_test_set, y_val_test_set\n",
        "\n",
        "    # Reshaping\n",
        "    x_train, y_train = np.array(x_train), np.array(y_train)\n",
        "    # x_train = np.reshape(x_train, (x_train.shape[0], x_train.shape[1], 1))\n",
        "\n",
        "    x_val, y_val = np.array(x_val), np.array(y_val)\n",
        "    # x_val = np.reshape(x_val, (x_val.shape[0], x_val.shape[1], 1))\n",
        "\n",
        "    x_test, y_test = np.array(x_test), np.array(y_test)\n",
        "    # x_test = np.reshape(x_test, (x_test.shape[0], x_test.shape[1], 1))\n",
        "\n",
        "    return x_train, y_train, x_val, y_val, x_test, y_test"
      ],
      "metadata": {
        "id": "yM95ZmkBJs_k"
      },
      "execution_count": null,
      "outputs": []
    },
    {
      "cell_type": "code",
      "source": [
        "x_train, y_train, x_val, y_val, x_test, y_test = make_window(data)"
      ],
      "metadata": {
        "id": "a-QjUSGUJucQ"
      },
      "execution_count": null,
      "outputs": []
    },
    {
      "cell_type": "code",
      "source": [
        "x_train.shape, x_val.shape, x_test.shape"
      ],
      "metadata": {
        "colab": {
          "base_uri": "https://localhost:8080/"
        },
        "id": "LcVMteaLNOcP",
        "outputId": "7bf67ffb-12f3-4969-86a7-84d949035c8a"
      },
      "execution_count": null,
      "outputs": [
        {
          "output_type": "execute_result",
          "data": {
            "text/plain": [
              "((575, 7, 11), (72, 7, 11), (71, 7, 11))"
            ]
          },
          "metadata": {},
          "execution_count": 8
        }
      ]
    },
    {
      "cell_type": "code",
      "source": [
        "y_train.shape, y_val.shape, y_test.shape"
      ],
      "metadata": {
        "colab": {
          "base_uri": "https://localhost:8080/"
        },
        "id": "Xwo18sM_coio",
        "outputId": "1d70b645-1caa-4055-ac9f-762490a0bebf"
      },
      "execution_count": null,
      "outputs": [
        {
          "output_type": "execute_result",
          "data": {
            "text/plain": [
              "((575, 7, 1), (72, 7, 1), (71, 7, 1))"
            ]
          },
          "metadata": {},
          "execution_count": 9
        }
      ]
    },
    {
      "cell_type": "markdown",
      "source": [
        "# Define Evaluate Error"
      ],
      "metadata": {
        "id": "sRhSKsP7eRm-"
      }
    },
    {
      "cell_type": "code",
      "source": [
        "from math import sqrt\n",
        "import tensorflow as tf\n",
        "from sklearn.metrics import mean_squared_error, mean_absolute_error\n",
        "\n",
        "# MASE implemented courtesy of sktime - https://github.com/alan-turing-institute/sktime/blob/ee7a06843a44f4aaec7582d847e36073a9ab0566/sktime/performance_metrics/forecasting/_functions.py#L16\n",
        "def mean_absolute_scaled_error(y_true, y_pred):\n",
        "  \"\"\"\n",
        "  Implement MASE (assuming no seasonality of data).\n",
        "  \"\"\"\n",
        "  mae = tf.reduce_mean(tf.abs(y_true - y_pred))\n",
        "\n",
        "  # Find MAE of naive forecast (no seasonality)\n",
        "  mae_naive_no_season = tf.reduce_mean(tf.abs(y_true[1:] - y_true[:-1])) # our seasonality is 1 day (hence the shifting of 1 day)\n",
        "\n",
        "  return mae / mae_naive_no_season\n",
        "\n",
        "def mean_absolute_percentage_error(y_true, y_pred):\n",
        "  y_true, y_pred = np.array(y_true), np.array(y_pred)\n",
        "  return np.mean(np.abs((y_true - y_pred) / y_true)) * 100\n",
        "\n",
        "def evaluate_preds(y_true, y_pred):\n",
        "  # Make sure float32 (for metric calculations)\n",
        "  # y_true = tf.cast(y_true, dtype=tf.float32)\n",
        "  # y_pred = tf.cast(y_pred, dtype=tf.float32)\n",
        "\n",
        "  # Calculate various metrics\n",
        "  mape = mean_absolute_percentage_error(y_true, y_pred)\n",
        "\n",
        "  y_pred = y_pred.reshape(y_pred.shape[0], -1)\n",
        "  y_true = y_true.reshape(y_true.shape[0], -1)\n",
        "\n",
        "  mae = mean_absolute_error(y_true, y_pred)\n",
        "  mse = mean_squared_error(y_true, y_pred) # puts and emphasis on outliers (all errors get squared)\n",
        "  # rmse = sqrt(mse)\n",
        "  # mase = mean_absolute_scaled_error(y_true, y_pred)\n",
        "  # print(mae, mse, rmse, mape, mase)\n",
        "\n",
        "  return {\n",
        "           \"mae\": mae,\n",
        "          \"mse\": mse,\n",
        "          # \"rmse\": rmse,\n",
        "          \"mape\": mape\n",
        "          # \"mase\": mase.numpy()\n",
        "          }"
      ],
      "metadata": {
        "id": "JWI4nmKGeVkl"
      },
      "execution_count": null,
      "outputs": []
    },
    {
      "cell_type": "markdown",
      "source": [
        "# CNN Only"
      ],
      "metadata": {
        "id": "mrvGlhxU_E3c"
      }
    },
    {
      "cell_type": "markdown",
      "source": [
        "## model 1 (64)"
      ],
      "metadata": {
        "id": "FaJQK22qEYOv"
      }
    },
    {
      "cell_type": "code",
      "source": [
        "lr = 0.0003\n",
        "\n",
        "model_cnn_1 = Sequential()\n",
        "model_cnn_1.add(Conv1D(filters=64, kernel_size=1, activation='relu', input_shape=(x_train.shape[1], x_train.shape[2])))\n",
        "model_cnn_1.add(Dense(1))\n",
        "model_cnn_1.compile(loss='mse', optimizer='adam', metrics=[metrics.MeanAbsoluteError(), metrics.MeanAbsolutePercentageError(), metrics.RootMeanSquaredError()])\n",
        "model_cnn_1.summary()"
      ],
      "metadata": {
        "colab": {
          "base_uri": "https://localhost:8080/",
          "height": 204
        },
        "id": "JA2RdHtREYOw",
        "outputId": "d8b6db5d-e0e6-414b-f777-9f3d727d3a97"
      },
      "execution_count": null,
      "outputs": [
        {
          "output_type": "display_data",
          "data": {
            "text/plain": [
              "\u001b[1mModel: \"sequential_10\"\u001b[0m\n"
            ],
            "text/html": [
              "<pre style=\"white-space:pre;overflow-x:auto;line-height:normal;font-family:Menlo,'DejaVu Sans Mono',consolas,'Courier New',monospace\"><span style=\"font-weight: bold\">Model: \"sequential_10\"</span>\n",
              "</pre>\n"
            ]
          },
          "metadata": {}
        },
        {
          "output_type": "display_data",
          "data": {
            "text/plain": [
              "┏━━━━━━━━━━━━━━━━━━━━━━━━━━━━━━━━━┳━━━━━━━━━━━━━━━━━━━━━━━━┳━━━━━━━━━━━━━━━┓\n",
              "┃\u001b[1m \u001b[0m\u001b[1mLayer (type)                   \u001b[0m\u001b[1m \u001b[0m┃\u001b[1m \u001b[0m\u001b[1mOutput Shape          \u001b[0m\u001b[1m \u001b[0m┃\u001b[1m \u001b[0m\u001b[1m      Param #\u001b[0m\u001b[1m \u001b[0m┃\n",
              "┡━━━━━━━━━━━━━━━━━━━━━━━━━━━━━━━━━╇━━━━━━━━━━━━━━━━━━━━━━━━╇━━━━━━━━━━━━━━━┩\n",
              "│ conv1d_11 (\u001b[38;5;33mConv1D\u001b[0m)              │ (\u001b[38;5;45mNone\u001b[0m, \u001b[38;5;34m7\u001b[0m, \u001b[38;5;34m64\u001b[0m)          │           \u001b[38;5;34m768\u001b[0m │\n",
              "├─────────────────────────────────┼────────────────────────┼───────────────┤\n",
              "│ dense_10 (\u001b[38;5;33mDense\u001b[0m)                │ (\u001b[38;5;45mNone\u001b[0m, \u001b[38;5;34m7\u001b[0m, \u001b[38;5;34m1\u001b[0m)           │            \u001b[38;5;34m65\u001b[0m │\n",
              "└─────────────────────────────────┴────────────────────────┴───────────────┘\n"
            ],
            "text/html": [
              "<pre style=\"white-space:pre;overflow-x:auto;line-height:normal;font-family:Menlo,'DejaVu Sans Mono',consolas,'Courier New',monospace\">┏━━━━━━━━━━━━━━━━━━━━━━━━━━━━━━━━━┳━━━━━━━━━━━━━━━━━━━━━━━━┳━━━━━━━━━━━━━━━┓\n",
              "┃<span style=\"font-weight: bold\"> Layer (type)                    </span>┃<span style=\"font-weight: bold\"> Output Shape           </span>┃<span style=\"font-weight: bold\">       Param # </span>┃\n",
              "┡━━━━━━━━━━━━━━━━━━━━━━━━━━━━━━━━━╇━━━━━━━━━━━━━━━━━━━━━━━━╇━━━━━━━━━━━━━━━┩\n",
              "│ conv1d_11 (<span style=\"color: #0087ff; text-decoration-color: #0087ff\">Conv1D</span>)              │ (<span style=\"color: #00d7ff; text-decoration-color: #00d7ff\">None</span>, <span style=\"color: #00af00; text-decoration-color: #00af00\">7</span>, <span style=\"color: #00af00; text-decoration-color: #00af00\">64</span>)          │           <span style=\"color: #00af00; text-decoration-color: #00af00\">768</span> │\n",
              "├─────────────────────────────────┼────────────────────────┼───────────────┤\n",
              "│ dense_10 (<span style=\"color: #0087ff; text-decoration-color: #0087ff\">Dense</span>)                │ (<span style=\"color: #00d7ff; text-decoration-color: #00d7ff\">None</span>, <span style=\"color: #00af00; text-decoration-color: #00af00\">7</span>, <span style=\"color: #00af00; text-decoration-color: #00af00\">1</span>)           │            <span style=\"color: #00af00; text-decoration-color: #00af00\">65</span> │\n",
              "└─────────────────────────────────┴────────────────────────┴───────────────┘\n",
              "</pre>\n"
            ]
          },
          "metadata": {}
        },
        {
          "output_type": "display_data",
          "data": {
            "text/plain": [
              "\u001b[1m Total params: \u001b[0m\u001b[38;5;34m833\u001b[0m (3.25 KB)\n"
            ],
            "text/html": [
              "<pre style=\"white-space:pre;overflow-x:auto;line-height:normal;font-family:Menlo,'DejaVu Sans Mono',consolas,'Courier New',monospace\"><span style=\"font-weight: bold\"> Total params: </span><span style=\"color: #00af00; text-decoration-color: #00af00\">833</span> (3.25 KB)\n",
              "</pre>\n"
            ]
          },
          "metadata": {}
        },
        {
          "output_type": "display_data",
          "data": {
            "text/plain": [
              "\u001b[1m Trainable params: \u001b[0m\u001b[38;5;34m833\u001b[0m (3.25 KB)\n"
            ],
            "text/html": [
              "<pre style=\"white-space:pre;overflow-x:auto;line-height:normal;font-family:Menlo,'DejaVu Sans Mono',consolas,'Courier New',monospace\"><span style=\"font-weight: bold\"> Trainable params: </span><span style=\"color: #00af00; text-decoration-color: #00af00\">833</span> (3.25 KB)\n",
              "</pre>\n"
            ]
          },
          "metadata": {}
        },
        {
          "output_type": "display_data",
          "data": {
            "text/plain": [
              "\u001b[1m Non-trainable params: \u001b[0m\u001b[38;5;34m0\u001b[0m (0.00 B)\n"
            ],
            "text/html": [
              "<pre style=\"white-space:pre;overflow-x:auto;line-height:normal;font-family:Menlo,'DejaVu Sans Mono',consolas,'Courier New',monospace\"><span style=\"font-weight: bold\"> Non-trainable params: </span><span style=\"color: #00af00; text-decoration-color: #00af00\">0</span> (0.00 B)\n",
              "</pre>\n"
            ]
          },
          "metadata": {}
        }
      ]
    },
    {
      "cell_type": "code",
      "source": [
        "model_cnn_1.fit(\n",
        "    x_train,\n",
        "    y_train,\n",
        "    validation_data=(x_val ,y_val),\n",
        "    epochs=20,\n",
        "    batch_size=42\n",
        ")"
      ],
      "metadata": {
        "colab": {
          "base_uri": "https://localhost:8080/"
        },
        "id": "kKYec2JBEYOw",
        "outputId": "a01d6ebb-bdc4-46e0-84b6-0819b414e476"
      },
      "execution_count": null,
      "outputs": [
        {
          "output_type": "stream",
          "name": "stdout",
          "text": [
            "Epoch 1/20\n",
            "\u001b[1m14/14\u001b[0m \u001b[32m━━━━━━━━━━━━━━━━━━━━\u001b[0m\u001b[37m\u001b[0m \u001b[1m1s\u001b[0m 25ms/step - loss: 0.9600 - mean_absolute_error: 0.9459 - mean_absolute_percentage_error: 171.8285 - root_mean_squared_error: 0.9767 - val_loss: 0.7131 - val_mean_absolute_error: 0.8393 - val_mean_absolute_percentage_error: 128.0792 - val_root_mean_squared_error: 0.8445\n",
            "Epoch 2/20\n",
            "\u001b[1m14/14\u001b[0m \u001b[32m━━━━━━━━━━━━━━━━━━━━\u001b[0m\u001b[37m\u001b[0m \u001b[1m0s\u001b[0m 9ms/step - loss: 0.3427 - mean_absolute_error: 0.5378 - mean_absolute_percentage_error: 93.4658 - root_mean_squared_error: 0.5833 - val_loss: 0.2224 - val_mean_absolute_error: 0.4606 - val_mean_absolute_percentage_error: 69.3427 - val_root_mean_squared_error: 0.4716\n",
            "Epoch 3/20\n",
            "\u001b[1m14/14\u001b[0m \u001b[32m━━━━━━━━━━━━━━━━━━━━\u001b[0m\u001b[37m\u001b[0m \u001b[1m0s\u001b[0m 7ms/step - loss: 0.0923 - mean_absolute_error: 0.2597 - mean_absolute_percentage_error: 50.2662 - root_mean_squared_error: 0.3028 - val_loss: 0.0437 - val_mean_absolute_error: 0.1820 - val_mean_absolute_percentage_error: 26.3597 - val_root_mean_squared_error: 0.2091\n",
            "Epoch 4/20\n",
            "\u001b[1m14/14\u001b[0m \u001b[32m━━━━━━━━━━━━━━━━━━━━\u001b[0m\u001b[37m\u001b[0m \u001b[1m0s\u001b[0m 7ms/step - loss: 0.0500 - mean_absolute_error: 0.1784 - mean_absolute_percentage_error: 49.0160 - root_mean_squared_error: 0.2235 - val_loss: 0.0228 - val_mean_absolute_error: 0.1228 - val_mean_absolute_percentage_error: 17.7610 - val_root_mean_squared_error: 0.1509\n",
            "Epoch 5/20\n",
            "\u001b[1m14/14\u001b[0m \u001b[32m━━━━━━━━━━━━━━━━━━━━\u001b[0m\u001b[37m\u001b[0m \u001b[1m0s\u001b[0m 7ms/step - loss: 0.0444 - mean_absolute_error: 0.1680 - mean_absolute_percentage_error: 46.4893 - root_mean_squared_error: 0.2102 - val_loss: 0.0285 - val_mean_absolute_error: 0.1418 - val_mean_absolute_percentage_error: 20.4210 - val_root_mean_squared_error: 0.1688\n",
            "Epoch 6/20\n",
            "\u001b[1m14/14\u001b[0m \u001b[32m━━━━━━━━━━━━━━━━━━━━\u001b[0m\u001b[37m\u001b[0m \u001b[1m0s\u001b[0m 10ms/step - loss: 0.0346 - mean_absolute_error: 0.1528 - mean_absolute_percentage_error: 38.7203 - root_mean_squared_error: 0.1860 - val_loss: 0.0297 - val_mean_absolute_error: 0.1459 - val_mean_absolute_percentage_error: 21.0216 - val_root_mean_squared_error: 0.1723\n",
            "Epoch 7/20\n",
            "\u001b[1m14/14\u001b[0m \u001b[32m━━━━━━━━━━━━━━━━━━━━\u001b[0m\u001b[37m\u001b[0m \u001b[1m0s\u001b[0m 13ms/step - loss: 0.0314 - mean_absolute_error: 0.1452 - mean_absolute_percentage_error: 37.1331 - root_mean_squared_error: 0.1773 - val_loss: 0.0236 - val_mean_absolute_error: 0.1283 - val_mean_absolute_percentage_error: 18.5471 - val_root_mean_squared_error: 0.1537\n",
            "Epoch 8/20\n",
            "\u001b[1m14/14\u001b[0m \u001b[32m━━━━━━━━━━━━━━━━━━━━\u001b[0m\u001b[37m\u001b[0m \u001b[1m0s\u001b[0m 13ms/step - loss: 0.0285 - mean_absolute_error: 0.1359 - mean_absolute_percentage_error: 34.6450 - root_mean_squared_error: 0.1688 - val_loss: 0.0190 - val_mean_absolute_error: 0.1157 - val_mean_absolute_percentage_error: 16.9234 - val_root_mean_squared_error: 0.1380\n",
            "Epoch 9/20\n",
            "\u001b[1m14/14\u001b[0m \u001b[32m━━━━━━━━━━━━━━━━━━━━\u001b[0m\u001b[37m\u001b[0m \u001b[1m0s\u001b[0m 12ms/step - loss: 0.0269 - mean_absolute_error: 0.1320 - mean_absolute_percentage_error: 33.7971 - root_mean_squared_error: 0.1641 - val_loss: 0.0185 - val_mean_absolute_error: 0.1143 - val_mean_absolute_percentage_error: 16.7590 - val_root_mean_squared_error: 0.1359\n",
            "Epoch 10/20\n",
            "\u001b[1m14/14\u001b[0m \u001b[32m━━━━━━━━━━━━━━━━━━━━\u001b[0m\u001b[37m\u001b[0m \u001b[1m0s\u001b[0m 10ms/step - loss: 0.0248 - mean_absolute_error: 0.1265 - mean_absolute_percentage_error: 32.4235 - root_mean_squared_error: 0.1576 - val_loss: 0.0171 - val_mean_absolute_error: 0.1106 - val_mean_absolute_percentage_error: 16.3577 - val_root_mean_squared_error: 0.1307\n",
            "Epoch 11/20\n",
            "\u001b[1m14/14\u001b[0m \u001b[32m━━━━━━━━━━━━━━━━━━━━\u001b[0m\u001b[37m\u001b[0m \u001b[1m0s\u001b[0m 10ms/step - loss: 0.0253 - mean_absolute_error: 0.1267 - mean_absolute_percentage_error: 32.8639 - root_mean_squared_error: 0.1590 - val_loss: 0.0152 - val_mean_absolute_error: 0.1058 - val_mean_absolute_percentage_error: 15.8570 - val_root_mean_squared_error: 0.1234\n",
            "Epoch 12/20\n",
            "\u001b[1m14/14\u001b[0m \u001b[32m━━━━━━━━━━━━━━━━━━━━\u001b[0m\u001b[37m\u001b[0m \u001b[1m0s\u001b[0m 14ms/step - loss: 0.0246 - mean_absolute_error: 0.1255 - mean_absolute_percentage_error: 31.5991 - root_mean_squared_error: 0.1569 - val_loss: 0.0151 - val_mean_absolute_error: 0.1058 - val_mean_absolute_percentage_error: 15.9178 - val_root_mean_squared_error: 0.1229\n",
            "Epoch 13/20\n",
            "\u001b[1m14/14\u001b[0m \u001b[32m━━━━━━━━━━━━━━━━━━━━\u001b[0m\u001b[37m\u001b[0m \u001b[1m0s\u001b[0m 13ms/step - loss: 0.0258 - mean_absolute_error: 0.1286 - mean_absolute_percentage_error: 36.7747 - root_mean_squared_error: 0.1606 - val_loss: 0.0143 - val_mean_absolute_error: 0.1036 - val_mean_absolute_percentage_error: 15.7322 - val_root_mean_squared_error: 0.1196\n",
            "Epoch 14/20\n",
            "\u001b[1m14/14\u001b[0m \u001b[32m━━━━━━━━━━━━━━━━━━━━\u001b[0m\u001b[37m\u001b[0m \u001b[1m0s\u001b[0m 8ms/step - loss: 0.0232 - mean_absolute_error: 0.1205 - mean_absolute_percentage_error: 32.5473 - root_mean_squared_error: 0.1523 - val_loss: 0.0139 - val_mean_absolute_error: 0.1023 - val_mean_absolute_percentage_error: 15.6200 - val_root_mean_squared_error: 0.1179\n",
            "Epoch 15/20\n",
            "\u001b[1m14/14\u001b[0m \u001b[32m━━━━━━━━━━━━━━━━━━━━\u001b[0m\u001b[37m\u001b[0m \u001b[1m0s\u001b[0m 11ms/step - loss: 0.0237 - mean_absolute_error: 0.1224 - mean_absolute_percentage_error: 32.5264 - root_mean_squared_error: 0.1540 - val_loss: 0.0136 - val_mean_absolute_error: 0.1010 - val_mean_absolute_percentage_error: 15.4874 - val_root_mean_squared_error: 0.1164\n",
            "Epoch 16/20\n",
            "\u001b[1m14/14\u001b[0m \u001b[32m━━━━━━━━━━━━━━━━━━━━\u001b[0m\u001b[37m\u001b[0m \u001b[1m0s\u001b[0m 15ms/step - loss: 0.0223 - mean_absolute_error: 0.1181 - mean_absolute_percentage_error: 30.0050 - root_mean_squared_error: 0.1491 - val_loss: 0.0130 - val_mean_absolute_error: 0.0984 - val_mean_absolute_percentage_error: 15.2051 - val_root_mean_squared_error: 0.1140\n",
            "Epoch 17/20\n",
            "\u001b[1m14/14\u001b[0m \u001b[32m━━━━━━━━━━━━━━━━━━━━\u001b[0m\u001b[37m\u001b[0m \u001b[1m0s\u001b[0m 8ms/step - loss: 0.0215 - mean_absolute_error: 0.1165 - mean_absolute_percentage_error: 28.9128 - root_mean_squared_error: 0.1466 - val_loss: 0.0130 - val_mean_absolute_error: 0.0982 - val_mean_absolute_percentage_error: 15.1750 - val_root_mean_squared_error: 0.1138\n",
            "Epoch 18/20\n",
            "\u001b[1m14/14\u001b[0m \u001b[32m━━━━━━━━━━━━━━━━━━━━\u001b[0m\u001b[37m\u001b[0m \u001b[1m0s\u001b[0m 7ms/step - loss: 0.0228 - mean_absolute_error: 0.1202 - mean_absolute_percentage_error: 30.7746 - root_mean_squared_error: 0.1510 - val_loss: 0.0128 - val_mean_absolute_error: 0.0977 - val_mean_absolute_percentage_error: 15.1011 - val_root_mean_squared_error: 0.1133\n",
            "Epoch 19/20\n",
            "\u001b[1m14/14\u001b[0m \u001b[32m━━━━━━━━━━━━━━━━━━━━\u001b[0m\u001b[37m\u001b[0m \u001b[1m0s\u001b[0m 7ms/step - loss: 0.0221 - mean_absolute_error: 0.1185 - mean_absolute_percentage_error: 30.2224 - root_mean_squared_error: 0.1487 - val_loss: 0.0126 - val_mean_absolute_error: 0.0964 - val_mean_absolute_percentage_error: 14.9494 - val_root_mean_squared_error: 0.1121\n",
            "Epoch 20/20\n",
            "\u001b[1m14/14\u001b[0m \u001b[32m━━━━━━━━━━━━━━━━━━━━\u001b[0m\u001b[37m\u001b[0m \u001b[1m0s\u001b[0m 7ms/step - loss: 0.0214 - mean_absolute_error: 0.1160 - mean_absolute_percentage_error: 27.9296 - root_mean_squared_error: 0.1463 - val_loss: 0.0126 - val_mean_absolute_error: 0.0968 - val_mean_absolute_percentage_error: 14.9637 - val_root_mean_squared_error: 0.1124\n"
          ]
        },
        {
          "output_type": "execute_result",
          "data": {
            "text/plain": [
              "<keras.src.callbacks.history.History at 0x7b26e6254910>"
            ]
          },
          "metadata": {},
          "execution_count": 54
        }
      ]
    },
    {
      "cell_type": "code",
      "source": [
        "y_pred = model_cnn_1.predict(x_test)"
      ],
      "metadata": {
        "colab": {
          "base_uri": "https://localhost:8080/"
        },
        "id": "cRK9EtgQEYOw",
        "outputId": "e0f6aa31-3daf-47de-926a-f31cca359d57"
      },
      "execution_count": null,
      "outputs": [
        {
          "output_type": "stream",
          "name": "stdout",
          "text": [
            "\u001b[1m3/3\u001b[0m \u001b[32m━━━━━━━━━━━━━━━━━━━━\u001b[0m\u001b[37m\u001b[0m \u001b[1m0s\u001b[0m 25ms/step\n"
          ]
        }
      ]
    },
    {
      "cell_type": "code",
      "source": [
        "loss, mae, mape, rmse = model_cnn_1.evaluate(x_test, y_test)\n",
        "print(\"model cnn 1\")\n",
        "print(\"Mean Absolute Error:\", mae)\n",
        "print(\"Mean Square Error:\", loss)\n",
        "print(\"Mean Absolute Percentage Error:\", mape)\n",
        "print(\"Root Mean Squared Error:\", rmse)"
      ],
      "metadata": {
        "colab": {
          "base_uri": "https://localhost:8080/"
        },
        "id": "qbskEgaCEYOw",
        "outputId": "0172564f-c5ec-47f9-916c-d33e60d53681"
      },
      "execution_count": null,
      "outputs": [
        {
          "output_type": "stream",
          "name": "stdout",
          "text": [
            "\u001b[1m3/3\u001b[0m \u001b[32m━━━━━━━━━━━━━━━━━━━━\u001b[0m\u001b[37m\u001b[0m \u001b[1m0s\u001b[0m 14ms/step - loss: 0.0304 - mean_absolute_error: 0.1344 - mean_absolute_percentage_error: 950024.3125 - root_mean_squared_error: 0.1737\n",
            "model cnn 1\n",
            "Mean Absolute Error: 0.1446235328912735\n",
            "Mean Square Error: 0.034323032945394516\n",
            "Mean Absolute Percentage Error: 1900020.75\n",
            "Root Mean Squared Error: 0.18526476621627808\n"
          ]
        }
      ]
    },
    {
      "cell_type": "code",
      "source": [
        "evaluate_preds(y_test, y_pred)"
      ],
      "metadata": {
        "colab": {
          "base_uri": "https://localhost:8080/"
        },
        "id": "nD1SYkqNBXgv",
        "outputId": "ddd8fcf2-1199-4785-99cc-99ca0e89641f"
      },
      "execution_count": null,
      "outputs": [
        {
          "output_type": "stream",
          "name": "stderr",
          "text": [
            "<ipython-input-10-af04d3513049>:19: RuntimeWarning: divide by zero encountered in divide\n",
            "  return np.mean(np.abs((y_true - y_pred) / y_true)) * 100\n"
          ]
        },
        {
          "output_type": "execute_result",
          "data": {
            "text/plain": [
              "{'mae': 0.14462352648792884,\n",
              " 'mse': 0.034323030846736234,\n",
              " 'mape': np.float64(inf)}"
            ]
          },
          "metadata": {},
          "execution_count": 57
        }
      ]
    },
    {
      "cell_type": "markdown",
      "source": [
        "## model 2 (128 & 32)\n",
        " erornya tinggi"
      ],
      "metadata": {
        "id": "2lrwvOZjGvpD"
      }
    },
    {
      "cell_type": "code",
      "source": [
        "lr = 0.0003\n",
        "\n",
        "model_cnn_2 = Sequential()\n",
        "model_cnn_2.add(Conv1D(filters=128, kernel_size=1, activation='relu', input_shape=(x_train.shape[1], x_train.shape[2])))\n",
        "model_cnn_2.add(Conv1D(filters=32, kernel_size=1, activation='relu'))\n",
        "model_cnn_2.add(Dense(1))\n",
        "model_cnn_2.compile(loss='mse', optimizer='adam', metrics=[metrics.MeanAbsoluteError(), metrics.MeanAbsolutePercentageError(), metrics.RootMeanSquaredError()])\n",
        "model_cnn_2.summary()"
      ],
      "metadata": {
        "colab": {
          "base_uri": "https://localhost:8080/",
          "height": 293
        },
        "outputId": "24d46d79-0315-4097-c3da-69354d036edd",
        "id": "mkIl2jSQGvpD"
      },
      "execution_count": null,
      "outputs": [
        {
          "output_type": "stream",
          "name": "stderr",
          "text": [
            "/usr/local/lib/python3.11/dist-packages/keras/src/layers/convolutional/base_conv.py:107: UserWarning: Do not pass an `input_shape`/`input_dim` argument to a layer. When using Sequential models, prefer using an `Input(shape)` object as the first layer in the model instead.\n",
            "  super().__init__(activity_regularizer=activity_regularizer, **kwargs)\n"
          ]
        },
        {
          "output_type": "display_data",
          "data": {
            "text/plain": [
              "\u001b[1mModel: \"sequential_11\"\u001b[0m\n"
            ],
            "text/html": [
              "<pre style=\"white-space:pre;overflow-x:auto;line-height:normal;font-family:Menlo,'DejaVu Sans Mono',consolas,'Courier New',monospace\"><span style=\"font-weight: bold\">Model: \"sequential_11\"</span>\n",
              "</pre>\n"
            ]
          },
          "metadata": {}
        },
        {
          "output_type": "display_data",
          "data": {
            "text/plain": [
              "┏━━━━━━━━━━━━━━━━━━━━━━━━━━━━━━━━━┳━━━━━━━━━━━━━━━━━━━━━━━━┳━━━━━━━━━━━━━━━┓\n",
              "┃\u001b[1m \u001b[0m\u001b[1mLayer (type)                   \u001b[0m\u001b[1m \u001b[0m┃\u001b[1m \u001b[0m\u001b[1mOutput Shape          \u001b[0m\u001b[1m \u001b[0m┃\u001b[1m \u001b[0m\u001b[1m      Param #\u001b[0m\u001b[1m \u001b[0m┃\n",
              "┡━━━━━━━━━━━━━━━━━━━━━━━━━━━━━━━━━╇━━━━━━━━━━━━━━━━━━━━━━━━╇━━━━━━━━━━━━━━━┩\n",
              "│ conv1d_12 (\u001b[38;5;33mConv1D\u001b[0m)              │ (\u001b[38;5;45mNone\u001b[0m, \u001b[38;5;34m7\u001b[0m, \u001b[38;5;34m128\u001b[0m)         │         \u001b[38;5;34m1,536\u001b[0m │\n",
              "├─────────────────────────────────┼────────────────────────┼───────────────┤\n",
              "│ conv1d_13 (\u001b[38;5;33mConv1D\u001b[0m)              │ (\u001b[38;5;45mNone\u001b[0m, \u001b[38;5;34m7\u001b[0m, \u001b[38;5;34m32\u001b[0m)          │         \u001b[38;5;34m4,128\u001b[0m │\n",
              "├─────────────────────────────────┼────────────────────────┼───────────────┤\n",
              "│ dense_11 (\u001b[38;5;33mDense\u001b[0m)                │ (\u001b[38;5;45mNone\u001b[0m, \u001b[38;5;34m7\u001b[0m, \u001b[38;5;34m1\u001b[0m)           │            \u001b[38;5;34m33\u001b[0m │\n",
              "└─────────────────────────────────┴────────────────────────┴───────────────┘\n"
            ],
            "text/html": [
              "<pre style=\"white-space:pre;overflow-x:auto;line-height:normal;font-family:Menlo,'DejaVu Sans Mono',consolas,'Courier New',monospace\">┏━━━━━━━━━━━━━━━━━━━━━━━━━━━━━━━━━┳━━━━━━━━━━━━━━━━━━━━━━━━┳━━━━━━━━━━━━━━━┓\n",
              "┃<span style=\"font-weight: bold\"> Layer (type)                    </span>┃<span style=\"font-weight: bold\"> Output Shape           </span>┃<span style=\"font-weight: bold\">       Param # </span>┃\n",
              "┡━━━━━━━━━━━━━━━━━━━━━━━━━━━━━━━━━╇━━━━━━━━━━━━━━━━━━━━━━━━╇━━━━━━━━━━━━━━━┩\n",
              "│ conv1d_12 (<span style=\"color: #0087ff; text-decoration-color: #0087ff\">Conv1D</span>)              │ (<span style=\"color: #00d7ff; text-decoration-color: #00d7ff\">None</span>, <span style=\"color: #00af00; text-decoration-color: #00af00\">7</span>, <span style=\"color: #00af00; text-decoration-color: #00af00\">128</span>)         │         <span style=\"color: #00af00; text-decoration-color: #00af00\">1,536</span> │\n",
              "├─────────────────────────────────┼────────────────────────┼───────────────┤\n",
              "│ conv1d_13 (<span style=\"color: #0087ff; text-decoration-color: #0087ff\">Conv1D</span>)              │ (<span style=\"color: #00d7ff; text-decoration-color: #00d7ff\">None</span>, <span style=\"color: #00af00; text-decoration-color: #00af00\">7</span>, <span style=\"color: #00af00; text-decoration-color: #00af00\">32</span>)          │         <span style=\"color: #00af00; text-decoration-color: #00af00\">4,128</span> │\n",
              "├─────────────────────────────────┼────────────────────────┼───────────────┤\n",
              "│ dense_11 (<span style=\"color: #0087ff; text-decoration-color: #0087ff\">Dense</span>)                │ (<span style=\"color: #00d7ff; text-decoration-color: #00d7ff\">None</span>, <span style=\"color: #00af00; text-decoration-color: #00af00\">7</span>, <span style=\"color: #00af00; text-decoration-color: #00af00\">1</span>)           │            <span style=\"color: #00af00; text-decoration-color: #00af00\">33</span> │\n",
              "└─────────────────────────────────┴────────────────────────┴───────────────┘\n",
              "</pre>\n"
            ]
          },
          "metadata": {}
        },
        {
          "output_type": "display_data",
          "data": {
            "text/plain": [
              "\u001b[1m Total params: \u001b[0m\u001b[38;5;34m5,697\u001b[0m (22.25 KB)\n"
            ],
            "text/html": [
              "<pre style=\"white-space:pre;overflow-x:auto;line-height:normal;font-family:Menlo,'DejaVu Sans Mono',consolas,'Courier New',monospace\"><span style=\"font-weight: bold\"> Total params: </span><span style=\"color: #00af00; text-decoration-color: #00af00\">5,697</span> (22.25 KB)\n",
              "</pre>\n"
            ]
          },
          "metadata": {}
        },
        {
          "output_type": "display_data",
          "data": {
            "text/plain": [
              "\u001b[1m Trainable params: \u001b[0m\u001b[38;5;34m5,697\u001b[0m (22.25 KB)\n"
            ],
            "text/html": [
              "<pre style=\"white-space:pre;overflow-x:auto;line-height:normal;font-family:Menlo,'DejaVu Sans Mono',consolas,'Courier New',monospace\"><span style=\"font-weight: bold\"> Trainable params: </span><span style=\"color: #00af00; text-decoration-color: #00af00\">5,697</span> (22.25 KB)\n",
              "</pre>\n"
            ]
          },
          "metadata": {}
        },
        {
          "output_type": "display_data",
          "data": {
            "text/plain": [
              "\u001b[1m Non-trainable params: \u001b[0m\u001b[38;5;34m0\u001b[0m (0.00 B)\n"
            ],
            "text/html": [
              "<pre style=\"white-space:pre;overflow-x:auto;line-height:normal;font-family:Menlo,'DejaVu Sans Mono',consolas,'Courier New',monospace\"><span style=\"font-weight: bold\"> Non-trainable params: </span><span style=\"color: #00af00; text-decoration-color: #00af00\">0</span> (0.00 B)\n",
              "</pre>\n"
            ]
          },
          "metadata": {}
        }
      ]
    },
    {
      "cell_type": "code",
      "source": [
        "model_cnn_2.fit(\n",
        "    x_train,\n",
        "    y_train,\n",
        "    validation_data=(x_val ,y_val),\n",
        "    epochs=20,\n",
        "    batch_size=42\n",
        ")"
      ],
      "metadata": {
        "colab": {
          "base_uri": "https://localhost:8080/"
        },
        "outputId": "502ebc52-b907-4692-e9cb-ea917b4f4013",
        "id": "H3wz42ZQGvpD"
      },
      "execution_count": null,
      "outputs": [
        {
          "output_type": "stream",
          "name": "stdout",
          "text": [
            "Epoch 1/20\n",
            "\u001b[1m14/14\u001b[0m \u001b[32m━━━━━━━━━━━━━━━━━━━━\u001b[0m\u001b[37m\u001b[0m \u001b[1m2s\u001b[0m 38ms/step - loss: 0.5918 - mean_absolute_error: 0.7165 - mean_absolute_percentage_error: 133.1606 - root_mean_squared_error: 0.7613 - val_loss: 0.1056 - val_mean_absolute_error: 0.3120 - val_mean_absolute_percentage_error: 46.4931 - val_root_mean_squared_error: 0.3249\n",
            "Epoch 2/20\n",
            "\u001b[1m14/14\u001b[0m \u001b[32m━━━━━━━━━━━━━━━━━━━━\u001b[0m\u001b[37m\u001b[0m \u001b[1m0s\u001b[0m 8ms/step - loss: 0.0647 - mean_absolute_error: 0.2120 - mean_absolute_percentage_error: 41.1056 - root_mean_squared_error: 0.2531 - val_loss: 0.0101 - val_mean_absolute_error: 0.0838 - val_mean_absolute_percentage_error: 13.0982 - val_root_mean_squared_error: 0.1006\n",
            "Epoch 3/20\n",
            "\u001b[1m14/14\u001b[0m \u001b[32m━━━━━━━━━━━━━━━━━━━━\u001b[0m\u001b[37m\u001b[0m \u001b[1m0s\u001b[0m 8ms/step - loss: 0.0386 - mean_absolute_error: 0.1569 - mean_absolute_percentage_error: 44.2143 - root_mean_squared_error: 0.1964 - val_loss: 0.0101 - val_mean_absolute_error: 0.0844 - val_mean_absolute_percentage_error: 13.2888 - val_root_mean_squared_error: 0.1005\n",
            "Epoch 4/20\n",
            "\u001b[1m14/14\u001b[0m \u001b[32m━━━━━━━━━━━━━━━━━━━━\u001b[0m\u001b[37m\u001b[0m \u001b[1m0s\u001b[0m 8ms/step - loss: 0.0301 - mean_absolute_error: 0.1403 - mean_absolute_percentage_error: 38.6075 - root_mean_squared_error: 0.1733 - val_loss: 0.0140 - val_mean_absolute_error: 0.0971 - val_mean_absolute_percentage_error: 14.1288 - val_root_mean_squared_error: 0.1183\n",
            "Epoch 5/20\n",
            "\u001b[1m14/14\u001b[0m \u001b[32m━━━━━━━━━━━━━━━━━━━━\u001b[0m\u001b[37m\u001b[0m \u001b[1m0s\u001b[0m 8ms/step - loss: 0.0276 - mean_absolute_error: 0.1365 - mean_absolute_percentage_error: 35.3711 - root_mean_squared_error: 0.1661 - val_loss: 0.0108 - val_mean_absolute_error: 0.0889 - val_mean_absolute_percentage_error: 13.5565 - val_root_mean_squared_error: 0.1041\n",
            "Epoch 6/20\n",
            "\u001b[1m14/14\u001b[0m \u001b[32m━━━━━━━━━━━━━━━━━━━━\u001b[0m\u001b[37m\u001b[0m \u001b[1m0s\u001b[0m 8ms/step - loss: 0.0244 - mean_absolute_error: 0.1254 - mean_absolute_percentage_error: 32.5667 - root_mean_squared_error: 0.1561 - val_loss: 0.0111 - val_mean_absolute_error: 0.0905 - val_mean_absolute_percentage_error: 13.9438 - val_root_mean_squared_error: 0.1055\n",
            "Epoch 7/20\n",
            "\u001b[1m14/14\u001b[0m \u001b[32m━━━━━━━━━━━━━━━━━━━━\u001b[0m\u001b[37m\u001b[0m \u001b[1m0s\u001b[0m 8ms/step - loss: 0.0226 - mean_absolute_error: 0.1204 - mean_absolute_percentage_error: 30.0991 - root_mean_squared_error: 0.1505 - val_loss: 0.0112 - val_mean_absolute_error: 0.0913 - val_mean_absolute_percentage_error: 14.1435 - val_root_mean_squared_error: 0.1060\n",
            "Epoch 8/20\n",
            "\u001b[1m14/14\u001b[0m \u001b[32m━━━━━━━━━━━━━━━━━━━━\u001b[0m\u001b[37m\u001b[0m \u001b[1m0s\u001b[0m 8ms/step - loss: 0.0229 - mean_absolute_error: 0.1196 - mean_absolute_percentage_error: 29.7272 - root_mean_squared_error: 0.1514 - val_loss: 0.0117 - val_mean_absolute_error: 0.0926 - val_mean_absolute_percentage_error: 14.2353 - val_root_mean_squared_error: 0.1080\n",
            "Epoch 9/20\n",
            "\u001b[1m14/14\u001b[0m \u001b[32m━━━━━━━━━━━━━━━━━━━━\u001b[0m\u001b[37m\u001b[0m \u001b[1m0s\u001b[0m 8ms/step - loss: 0.0220 - mean_absolute_error: 0.1172 - mean_absolute_percentage_error: 29.5252 - root_mean_squared_error: 0.1483 - val_loss: 0.0123 - val_mean_absolute_error: 0.0946 - val_mean_absolute_percentage_error: 14.3848 - val_root_mean_squared_error: 0.1110\n",
            "Epoch 10/20\n",
            "\u001b[1m14/14\u001b[0m \u001b[32m━━━━━━━━━━━━━━━━━━━━\u001b[0m\u001b[37m\u001b[0m \u001b[1m0s\u001b[0m 8ms/step - loss: 0.0225 - mean_absolute_error: 0.1187 - mean_absolute_percentage_error: 28.5175 - root_mean_squared_error: 0.1498 - val_loss: 0.0119 - val_mean_absolute_error: 0.0932 - val_mean_absolute_percentage_error: 14.2596 - val_root_mean_squared_error: 0.1091\n",
            "Epoch 11/20\n",
            "\u001b[1m14/14\u001b[0m \u001b[32m━━━━━━━━━━━━━━━━━━━━\u001b[0m\u001b[37m\u001b[0m \u001b[1m0s\u001b[0m 7ms/step - loss: 0.0224 - mean_absolute_error: 0.1181 - mean_absolute_percentage_error: 28.4424 - root_mean_squared_error: 0.1496 - val_loss: 0.0121 - val_mean_absolute_error: 0.0938 - val_mean_absolute_percentage_error: 14.2954 - val_root_mean_squared_error: 0.1101\n",
            "Epoch 12/20\n",
            "\u001b[1m14/14\u001b[0m \u001b[32m━━━━━━━━━━━━━━━━━━━━\u001b[0m\u001b[37m\u001b[0m \u001b[1m0s\u001b[0m 8ms/step - loss: 0.0214 - mean_absolute_error: 0.1160 - mean_absolute_percentage_error: 28.0512 - root_mean_squared_error: 0.1464 - val_loss: 0.0121 - val_mean_absolute_error: 0.0936 - val_mean_absolute_percentage_error: 14.2715 - val_root_mean_squared_error: 0.1102\n",
            "Epoch 13/20\n",
            "\u001b[1m14/14\u001b[0m \u001b[32m━━━━━━━━━━━━━━━━━━━━\u001b[0m\u001b[37m\u001b[0m \u001b[1m0s\u001b[0m 8ms/step - loss: 0.0213 - mean_absolute_error: 0.1160 - mean_absolute_percentage_error: 28.1998 - root_mean_squared_error: 0.1459 - val_loss: 0.0124 - val_mean_absolute_error: 0.0943 - val_mean_absolute_percentage_error: 14.3405 - val_root_mean_squared_error: 0.1111\n",
            "Epoch 14/20\n",
            "\u001b[1m14/14\u001b[0m \u001b[32m━━━━━━━━━━━━━━━━━━━━\u001b[0m\u001b[37m\u001b[0m \u001b[1m0s\u001b[0m 8ms/step - loss: 0.0210 - mean_absolute_error: 0.1148 - mean_absolute_percentage_error: 29.3131 - root_mean_squared_error: 0.1450 - val_loss: 0.0116 - val_mean_absolute_error: 0.0919 - val_mean_absolute_percentage_error: 14.1692 - val_root_mean_squared_error: 0.1075\n",
            "Epoch 15/20\n",
            "\u001b[1m14/14\u001b[0m \u001b[32m━━━━━━━━━━━━━━━━━━━━\u001b[0m\u001b[37m\u001b[0m \u001b[1m0s\u001b[0m 8ms/step - loss: 0.0207 - mean_absolute_error: 0.1137 - mean_absolute_percentage_error: 28.8253 - root_mean_squared_error: 0.1440 - val_loss: 0.0121 - val_mean_absolute_error: 0.0931 - val_mean_absolute_percentage_error: 14.2063 - val_root_mean_squared_error: 0.1099\n",
            "Epoch 16/20\n",
            "\u001b[1m14/14\u001b[0m \u001b[32m━━━━━━━━━━━━━━━━━━━━\u001b[0m\u001b[37m\u001b[0m \u001b[1m0s\u001b[0m 9ms/step - loss: 0.0207 - mean_absolute_error: 0.1133 - mean_absolute_percentage_error: 28.4485 - root_mean_squared_error: 0.1437 - val_loss: 0.0127 - val_mean_absolute_error: 0.0953 - val_mean_absolute_percentage_error: 14.4130 - val_root_mean_squared_error: 0.1128\n",
            "Epoch 17/20\n",
            "\u001b[1m14/14\u001b[0m \u001b[32m━━━━━━━━━━━━━━━━━━━━\u001b[0m\u001b[37m\u001b[0m \u001b[1m0s\u001b[0m 8ms/step - loss: 0.0212 - mean_absolute_error: 0.1156 - mean_absolute_percentage_error: 28.0805 - root_mean_squared_error: 0.1455 - val_loss: 0.0119 - val_mean_absolute_error: 0.0925 - val_mean_absolute_percentage_error: 14.1266 - val_root_mean_squared_error: 0.1092\n",
            "Epoch 18/20\n",
            "\u001b[1m14/14\u001b[0m \u001b[32m━━━━━━━━━━━━━━━━━━━━\u001b[0m\u001b[37m\u001b[0m \u001b[1m0s\u001b[0m 8ms/step - loss: 0.0197 - mean_absolute_error: 0.1105 - mean_absolute_percentage_error: 26.4425 - root_mean_squared_error: 0.1402 - val_loss: 0.0113 - val_mean_absolute_error: 0.0908 - val_mean_absolute_percentage_error: 14.0635 - val_root_mean_squared_error: 0.1061\n",
            "Epoch 19/20\n",
            "\u001b[1m14/14\u001b[0m \u001b[32m━━━━━━━━━━━━━━━━━━━━\u001b[0m\u001b[37m\u001b[0m \u001b[1m0s\u001b[0m 8ms/step - loss: 0.0206 - mean_absolute_error: 0.1131 - mean_absolute_percentage_error: 28.5459 - root_mean_squared_error: 0.1435 - val_loss: 0.0123 - val_mean_absolute_error: 0.0935 - val_mean_absolute_percentage_error: 14.2144 - val_root_mean_squared_error: 0.1108\n",
            "Epoch 20/20\n",
            "\u001b[1m14/14\u001b[0m \u001b[32m━━━━━━━━━━━━━━━━━━━━\u001b[0m\u001b[37m\u001b[0m \u001b[1m0s\u001b[0m 15ms/step - loss: 0.0199 - mean_absolute_error: 0.1114 - mean_absolute_percentage_error: 28.2254 - root_mean_squared_error: 0.1410 - val_loss: 0.0119 - val_mean_absolute_error: 0.0925 - val_mean_absolute_percentage_error: 14.1533 - val_root_mean_squared_error: 0.1093\n"
          ]
        },
        {
          "output_type": "execute_result",
          "data": {
            "text/plain": [
              "<keras.src.callbacks.history.History at 0x7b26dce17990>"
            ]
          },
          "metadata": {},
          "execution_count": 59
        }
      ]
    },
    {
      "cell_type": "code",
      "source": [
        "y_pred = model_cnn_2.predict(x_test)"
      ],
      "metadata": {
        "colab": {
          "base_uri": "https://localhost:8080/"
        },
        "outputId": "d99a1cca-c595-419d-b7eb-fcda26fb6e0a",
        "id": "uYpV7EeKGvpD"
      },
      "execution_count": null,
      "outputs": [
        {
          "output_type": "stream",
          "name": "stdout",
          "text": [
            "\u001b[1m3/3\u001b[0m \u001b[32m━━━━━━━━━━━━━━━━━━━━\u001b[0m\u001b[37m\u001b[0m \u001b[1m0s\u001b[0m 67ms/step\n"
          ]
        }
      ]
    },
    {
      "cell_type": "code",
      "source": [
        "loss, mae, mape, rmse = model_cnn_2.evaluate(x_test, y_test)\n",
        "print(\"model cnn 2\")\n",
        "print(\"Mean Absolute Error:\", mae)\n",
        "print(\"Mean Square Error:\", loss)\n",
        "print(\"Mean Absolute Percentage Error:\", mape)\n",
        "print(\"Root Mean Squared Error:\", rmse)"
      ],
      "metadata": {
        "colab": {
          "base_uri": "https://localhost:8080/"
        },
        "outputId": "89783409-91f1-40bc-fcf5-b1ec273aee99",
        "id": "WFRsXlMBGvpE"
      },
      "execution_count": null,
      "outputs": [
        {
          "output_type": "stream",
          "name": "stdout",
          "text": [
            "\u001b[1m3/3\u001b[0m \u001b[32m━━━━━━━━━━━━━━━━━━━━\u001b[0m\u001b[37m\u001b[0m \u001b[1m0s\u001b[0m 23ms/step - loss: 0.0306 - mean_absolute_error: 0.1360 - mean_absolute_percentage_error: 891473.1250 - root_mean_squared_error: 0.1743\n",
            "model cnn 2\n",
            "Mean Absolute Error: 0.1474056839942932\n",
            "Mean Square Error: 0.03505583107471466\n",
            "Mean Absolute Percentage Error: 1782919.125\n",
            "Root Mean Squared Error: 0.18723201751708984\n"
          ]
        }
      ]
    },
    {
      "cell_type": "markdown",
      "source": [
        "## model 3 (64 64)"
      ],
      "metadata": {
        "id": "PM472pG5NMlG"
      }
    },
    {
      "cell_type": "code",
      "source": [
        "lr = 0.0003\n",
        "\n",
        "model_cnn_3 = Sequential()\n",
        "model_cnn_3.add(Conv1D(filters=64, kernel_size=1, activation='relu', input_shape=(x_train.shape[1], x_train.shape[2])))\n",
        "model_cnn_3.add(Conv1D(filters=64, kernel_size=1, activation='relu', input_shape=(x_train.shape[1], x_train.shape[2])))\n",
        "model_cnn_3.add(Dense(1))\n",
        "model_cnn_3.compile(loss='mse', optimizer='adam', metrics=[metrics.MeanAbsoluteError(), metrics.MeanAbsolutePercentageError(), metrics.RootMeanSquaredError()])\n",
        "model_cnn_3.summary()"
      ],
      "metadata": {
        "colab": {
          "base_uri": "https://localhost:8080/",
          "height": 238
        },
        "outputId": "636e4219-62db-4094-abaf-cdf13f9f0453",
        "id": "fUCojp1LNMlG"
      },
      "execution_count": null,
      "outputs": [
        {
          "output_type": "display_data",
          "data": {
            "text/plain": [
              "\u001b[1mModel: \"sequential_12\"\u001b[0m\n"
            ],
            "text/html": [
              "<pre style=\"white-space:pre;overflow-x:auto;line-height:normal;font-family:Menlo,'DejaVu Sans Mono',consolas,'Courier New',monospace\"><span style=\"font-weight: bold\">Model: \"sequential_12\"</span>\n",
              "</pre>\n"
            ]
          },
          "metadata": {}
        },
        {
          "output_type": "display_data",
          "data": {
            "text/plain": [
              "┏━━━━━━━━━━━━━━━━━━━━━━━━━━━━━━━━━┳━━━━━━━━━━━━━━━━━━━━━━━━┳━━━━━━━━━━━━━━━┓\n",
              "┃\u001b[1m \u001b[0m\u001b[1mLayer (type)                   \u001b[0m\u001b[1m \u001b[0m┃\u001b[1m \u001b[0m\u001b[1mOutput Shape          \u001b[0m\u001b[1m \u001b[0m┃\u001b[1m \u001b[0m\u001b[1m      Param #\u001b[0m\u001b[1m \u001b[0m┃\n",
              "┡━━━━━━━━━━━━━━━━━━━━━━━━━━━━━━━━━╇━━━━━━━━━━━━━━━━━━━━━━━━╇━━━━━━━━━━━━━━━┩\n",
              "│ conv1d_14 (\u001b[38;5;33mConv1D\u001b[0m)              │ (\u001b[38;5;45mNone\u001b[0m, \u001b[38;5;34m7\u001b[0m, \u001b[38;5;34m64\u001b[0m)          │           \u001b[38;5;34m768\u001b[0m │\n",
              "├─────────────────────────────────┼────────────────────────┼───────────────┤\n",
              "│ conv1d_15 (\u001b[38;5;33mConv1D\u001b[0m)              │ (\u001b[38;5;45mNone\u001b[0m, \u001b[38;5;34m7\u001b[0m, \u001b[38;5;34m64\u001b[0m)          │         \u001b[38;5;34m4,160\u001b[0m │\n",
              "├─────────────────────────────────┼────────────────────────┼───────────────┤\n",
              "│ dense_12 (\u001b[38;5;33mDense\u001b[0m)                │ (\u001b[38;5;45mNone\u001b[0m, \u001b[38;5;34m7\u001b[0m, \u001b[38;5;34m1\u001b[0m)           │            \u001b[38;5;34m65\u001b[0m │\n",
              "└─────────────────────────────────┴────────────────────────┴───────────────┘\n"
            ],
            "text/html": [
              "<pre style=\"white-space:pre;overflow-x:auto;line-height:normal;font-family:Menlo,'DejaVu Sans Mono',consolas,'Courier New',monospace\">┏━━━━━━━━━━━━━━━━━━━━━━━━━━━━━━━━━┳━━━━━━━━━━━━━━━━━━━━━━━━┳━━━━━━━━━━━━━━━┓\n",
              "┃<span style=\"font-weight: bold\"> Layer (type)                    </span>┃<span style=\"font-weight: bold\"> Output Shape           </span>┃<span style=\"font-weight: bold\">       Param # </span>┃\n",
              "┡━━━━━━━━━━━━━━━━━━━━━━━━━━━━━━━━━╇━━━━━━━━━━━━━━━━━━━━━━━━╇━━━━━━━━━━━━━━━┩\n",
              "│ conv1d_14 (<span style=\"color: #0087ff; text-decoration-color: #0087ff\">Conv1D</span>)              │ (<span style=\"color: #00d7ff; text-decoration-color: #00d7ff\">None</span>, <span style=\"color: #00af00; text-decoration-color: #00af00\">7</span>, <span style=\"color: #00af00; text-decoration-color: #00af00\">64</span>)          │           <span style=\"color: #00af00; text-decoration-color: #00af00\">768</span> │\n",
              "├─────────────────────────────────┼────────────────────────┼───────────────┤\n",
              "│ conv1d_15 (<span style=\"color: #0087ff; text-decoration-color: #0087ff\">Conv1D</span>)              │ (<span style=\"color: #00d7ff; text-decoration-color: #00d7ff\">None</span>, <span style=\"color: #00af00; text-decoration-color: #00af00\">7</span>, <span style=\"color: #00af00; text-decoration-color: #00af00\">64</span>)          │         <span style=\"color: #00af00; text-decoration-color: #00af00\">4,160</span> │\n",
              "├─────────────────────────────────┼────────────────────────┼───────────────┤\n",
              "│ dense_12 (<span style=\"color: #0087ff; text-decoration-color: #0087ff\">Dense</span>)                │ (<span style=\"color: #00d7ff; text-decoration-color: #00d7ff\">None</span>, <span style=\"color: #00af00; text-decoration-color: #00af00\">7</span>, <span style=\"color: #00af00; text-decoration-color: #00af00\">1</span>)           │            <span style=\"color: #00af00; text-decoration-color: #00af00\">65</span> │\n",
              "└─────────────────────────────────┴────────────────────────┴───────────────┘\n",
              "</pre>\n"
            ]
          },
          "metadata": {}
        },
        {
          "output_type": "display_data",
          "data": {
            "text/plain": [
              "\u001b[1m Total params: \u001b[0m\u001b[38;5;34m4,993\u001b[0m (19.50 KB)\n"
            ],
            "text/html": [
              "<pre style=\"white-space:pre;overflow-x:auto;line-height:normal;font-family:Menlo,'DejaVu Sans Mono',consolas,'Courier New',monospace\"><span style=\"font-weight: bold\"> Total params: </span><span style=\"color: #00af00; text-decoration-color: #00af00\">4,993</span> (19.50 KB)\n",
              "</pre>\n"
            ]
          },
          "metadata": {}
        },
        {
          "output_type": "display_data",
          "data": {
            "text/plain": [
              "\u001b[1m Trainable params: \u001b[0m\u001b[38;5;34m4,993\u001b[0m (19.50 KB)\n"
            ],
            "text/html": [
              "<pre style=\"white-space:pre;overflow-x:auto;line-height:normal;font-family:Menlo,'DejaVu Sans Mono',consolas,'Courier New',monospace\"><span style=\"font-weight: bold\"> Trainable params: </span><span style=\"color: #00af00; text-decoration-color: #00af00\">4,993</span> (19.50 KB)\n",
              "</pre>\n"
            ]
          },
          "metadata": {}
        },
        {
          "output_type": "display_data",
          "data": {
            "text/plain": [
              "\u001b[1m Non-trainable params: \u001b[0m\u001b[38;5;34m0\u001b[0m (0.00 B)\n"
            ],
            "text/html": [
              "<pre style=\"white-space:pre;overflow-x:auto;line-height:normal;font-family:Menlo,'DejaVu Sans Mono',consolas,'Courier New',monospace\"><span style=\"font-weight: bold\"> Non-trainable params: </span><span style=\"color: #00af00; text-decoration-color: #00af00\">0</span> (0.00 B)\n",
              "</pre>\n"
            ]
          },
          "metadata": {}
        }
      ]
    },
    {
      "cell_type": "code",
      "source": [
        "model_cnn_3.fit(\n",
        "    x_train,\n",
        "    y_train,\n",
        "    validation_data=(x_val ,y_val),\n",
        "    epochs=20,\n",
        "    batch_size=42\n",
        ")"
      ],
      "metadata": {
        "colab": {
          "base_uri": "https://localhost:8080/"
        },
        "outputId": "df097522-2501-434b-cbbb-72c0aba81471",
        "id": "64Q0RKRBNMlH"
      },
      "execution_count": null,
      "outputs": [
        {
          "output_type": "stream",
          "name": "stdout",
          "text": [
            "Epoch 1/20\n",
            "\u001b[1m14/14\u001b[0m \u001b[32m━━━━━━━━━━━━━━━━━━━━\u001b[0m\u001b[37m\u001b[0m \u001b[1m2s\u001b[0m 26ms/step - loss: 0.2019 - mean_absolute_error: 0.3969 - mean_absolute_percentage_error: 72.5371 - root_mean_squared_error: 0.4433 - val_loss: 0.0179 - val_mean_absolute_error: 0.1108 - val_mean_absolute_percentage_error: 18.2962 - val_root_mean_squared_error: 0.1338\n",
            "Epoch 2/20\n",
            "\u001b[1m14/14\u001b[0m \u001b[32m━━━━━━━━━━━━━━━━━━━━\u001b[0m\u001b[37m\u001b[0m \u001b[1m0s\u001b[0m 8ms/step - loss: 0.0435 - mean_absolute_error: 0.1634 - mean_absolute_percentage_error: 45.9667 - root_mean_squared_error: 0.2084 - val_loss: 0.0113 - val_mean_absolute_error: 0.0924 - val_mean_absolute_percentage_error: 14.6525 - val_root_mean_squared_error: 0.1063\n",
            "Epoch 3/20\n",
            "\u001b[1m14/14\u001b[0m \u001b[32m━━━━━━━━━━━━━━━━━━━━\u001b[0m\u001b[37m\u001b[0m \u001b[1m0s\u001b[0m 12ms/step - loss: 0.0263 - mean_absolute_error: 0.1320 - mean_absolute_percentage_error: 32.5473 - root_mean_squared_error: 0.1621 - val_loss: 0.0133 - val_mean_absolute_error: 0.0962 - val_mean_absolute_percentage_error: 14.4012 - val_root_mean_squared_error: 0.1153\n",
            "Epoch 4/20\n",
            "\u001b[1m14/14\u001b[0m \u001b[32m━━━━━━━━━━━━━━━━━━━━\u001b[0m\u001b[37m\u001b[0m \u001b[1m0s\u001b[0m 8ms/step - loss: 0.0234 - mean_absolute_error: 0.1231 - mean_absolute_percentage_error: 30.2184 - root_mean_squared_error: 0.1529 - val_loss: 0.0112 - val_mean_absolute_error: 0.0905 - val_mean_absolute_percentage_error: 14.1914 - val_root_mean_squared_error: 0.1059\n",
            "Epoch 5/20\n",
            "\u001b[1m14/14\u001b[0m \u001b[32m━━━━━━━━━━━━━━━━━━━━\u001b[0m\u001b[37m\u001b[0m \u001b[1m0s\u001b[0m 7ms/step - loss: 0.0228 - mean_absolute_error: 0.1198 - mean_absolute_percentage_error: 31.2635 - root_mean_squared_error: 0.1510 - val_loss: 0.0125 - val_mean_absolute_error: 0.0949 - val_mean_absolute_percentage_error: 14.4620 - val_root_mean_squared_error: 0.1119\n",
            "Epoch 6/20\n",
            "\u001b[1m14/14\u001b[0m \u001b[32m━━━━━━━━━━━━━━━━━━━━\u001b[0m\u001b[37m\u001b[0m \u001b[1m0s\u001b[0m 19ms/step - loss: 0.0218 - mean_absolute_error: 0.1177 - mean_absolute_percentage_error: 29.0527 - root_mean_squared_error: 0.1476 - val_loss: 0.0122 - val_mean_absolute_error: 0.0935 - val_mean_absolute_percentage_error: 14.3430 - val_root_mean_squared_error: 0.1104\n",
            "Epoch 7/20\n",
            "\u001b[1m14/14\u001b[0m \u001b[32m━━━━━━━━━━━━━━━━━━━━\u001b[0m\u001b[37m\u001b[0m \u001b[1m1s\u001b[0m 40ms/step - loss: 0.0194 - mean_absolute_error: 0.1110 - mean_absolute_percentage_error: 27.4439 - root_mean_squared_error: 0.1394 - val_loss: 0.0128 - val_mean_absolute_error: 0.0957 - val_mean_absolute_percentage_error: 14.5379 - val_root_mean_squared_error: 0.1130\n",
            "Epoch 8/20\n",
            "\u001b[1m14/14\u001b[0m \u001b[32m━━━━━━━━━━━━━━━━━━━━\u001b[0m\u001b[37m\u001b[0m \u001b[1m1s\u001b[0m 20ms/step - loss: 0.0208 - mean_absolute_error: 0.1142 - mean_absolute_percentage_error: 30.9046 - root_mean_squared_error: 0.1441 - val_loss: 0.0131 - val_mean_absolute_error: 0.0974 - val_mean_absolute_percentage_error: 14.7419 - val_root_mean_squared_error: 0.1146\n",
            "Epoch 9/20\n",
            "\u001b[1m14/14\u001b[0m \u001b[32m━━━━━━━━━━━━━━━━━━━━\u001b[0m\u001b[37m\u001b[0m \u001b[1m0s\u001b[0m 16ms/step - loss: 0.0208 - mean_absolute_error: 0.1141 - mean_absolute_percentage_error: 28.1445 - root_mean_squared_error: 0.1442 - val_loss: 0.0131 - val_mean_absolute_error: 0.0971 - val_mean_absolute_percentage_error: 14.6867 - val_root_mean_squared_error: 0.1144\n",
            "Epoch 10/20\n",
            "\u001b[1m14/14\u001b[0m \u001b[32m━━━━━━━━━━━━━━━━━━━━\u001b[0m\u001b[37m\u001b[0m \u001b[1m0s\u001b[0m 8ms/step - loss: 0.0205 - mean_absolute_error: 0.1138 - mean_absolute_percentage_error: 27.4041 - root_mean_squared_error: 0.1432 - val_loss: 0.0128 - val_mean_absolute_error: 0.0959 - val_mean_absolute_percentage_error: 14.5525 - val_root_mean_squared_error: 0.1129\n",
            "Epoch 11/20\n",
            "\u001b[1m14/14\u001b[0m \u001b[32m━━━━━━━━━━━━━━━━━━━━\u001b[0m\u001b[37m\u001b[0m \u001b[1m0s\u001b[0m 8ms/step - loss: 0.0203 - mean_absolute_error: 0.1138 - mean_absolute_percentage_error: 27.6834 - root_mean_squared_error: 0.1423 - val_loss: 0.0135 - val_mean_absolute_error: 0.0984 - val_mean_absolute_percentage_error: 14.7775 - val_root_mean_squared_error: 0.1163\n",
            "Epoch 12/20\n",
            "\u001b[1m14/14\u001b[0m \u001b[32m━━━━━━━━━━━━━━━━━━━━\u001b[0m\u001b[37m\u001b[0m \u001b[1m0s\u001b[0m 8ms/step - loss: 0.0201 - mean_absolute_error: 0.1128 - mean_absolute_percentage_error: 28.5203 - root_mean_squared_error: 0.1417 - val_loss: 0.0133 - val_mean_absolute_error: 0.0974 - val_mean_absolute_percentage_error: 14.6573 - val_root_mean_squared_error: 0.1151\n",
            "Epoch 13/20\n",
            "\u001b[1m14/14\u001b[0m \u001b[32m━━━━━━━━━━━━━━━━━━━━\u001b[0m\u001b[37m\u001b[0m \u001b[1m0s\u001b[0m 8ms/step - loss: 0.0196 - mean_absolute_error: 0.1115 - mean_absolute_percentage_error: 27.5508 - root_mean_squared_error: 0.1401 - val_loss: 0.0133 - val_mean_absolute_error: 0.0974 - val_mean_absolute_percentage_error: 14.6196 - val_root_mean_squared_error: 0.1154\n",
            "Epoch 14/20\n",
            "\u001b[1m14/14\u001b[0m \u001b[32m━━━━━━━━━━━━━━━━━━━━\u001b[0m\u001b[37m\u001b[0m \u001b[1m0s\u001b[0m 8ms/step - loss: 0.0195 - mean_absolute_error: 0.1105 - mean_absolute_percentage_error: 28.6706 - root_mean_squared_error: 0.1397 - val_loss: 0.0135 - val_mean_absolute_error: 0.0977 - val_mean_absolute_percentage_error: 14.6277 - val_root_mean_squared_error: 0.1163\n",
            "Epoch 15/20\n",
            "\u001b[1m14/14\u001b[0m \u001b[32m━━━━━━━━━━━━━━━━━━━━\u001b[0m\u001b[37m\u001b[0m \u001b[1m0s\u001b[0m 13ms/step - loss: 0.0185 - mean_absolute_error: 0.1082 - mean_absolute_percentage_error: 26.0243 - root_mean_squared_error: 0.1360 - val_loss: 0.0142 - val_mean_absolute_error: 0.0995 - val_mean_absolute_percentage_error: 14.7781 - val_root_mean_squared_error: 0.1192\n",
            "Epoch 16/20\n",
            "\u001b[1m14/14\u001b[0m \u001b[32m━━━━━━━━━━━━━━━━━━━━\u001b[0m\u001b[37m\u001b[0m \u001b[1m0s\u001b[0m 11ms/step - loss: 0.0183 - mean_absolute_error: 0.1077 - mean_absolute_percentage_error: 26.8297 - root_mean_squared_error: 0.1353 - val_loss: 0.0126 - val_mean_absolute_error: 0.0944 - val_mean_absolute_percentage_error: 14.2667 - val_root_mean_squared_error: 0.1121\n",
            "Epoch 17/20\n",
            "\u001b[1m14/14\u001b[0m \u001b[32m━━━━━━━━━━━━━━━━━━━━\u001b[0m\u001b[37m\u001b[0m \u001b[1m0s\u001b[0m 14ms/step - loss: 0.0192 - mean_absolute_error: 0.1097 - mean_absolute_percentage_error: 26.6042 - root_mean_squared_error: 0.1384 - val_loss: 0.0134 - val_mean_absolute_error: 0.0967 - val_mean_absolute_percentage_error: 14.4640 - val_root_mean_squared_error: 0.1156\n",
            "Epoch 18/20\n",
            "\u001b[1m14/14\u001b[0m \u001b[32m━━━━━━━━━━━━━━━━━━━━\u001b[0m\u001b[37m\u001b[0m \u001b[1m0s\u001b[0m 14ms/step - loss: 0.0183 - mean_absolute_error: 0.1072 - mean_absolute_percentage_error: 26.6387 - root_mean_squared_error: 0.1354 - val_loss: 0.0138 - val_mean_absolute_error: 0.0978 - val_mean_absolute_percentage_error: 14.5427 - val_root_mean_squared_error: 0.1177\n",
            "Epoch 19/20\n",
            "\u001b[1m14/14\u001b[0m \u001b[32m━━━━━━━━━━━━━━━━━━━━\u001b[0m\u001b[37m\u001b[0m \u001b[1m0s\u001b[0m 14ms/step - loss: 0.0181 - mean_absolute_error: 0.1061 - mean_absolute_percentage_error: 25.8426 - root_mean_squared_error: 0.1345 - val_loss: 0.0133 - val_mean_absolute_error: 0.0962 - val_mean_absolute_percentage_error: 14.3947 - val_root_mean_squared_error: 0.1155\n",
            "Epoch 20/20\n",
            "\u001b[1m14/14\u001b[0m \u001b[32m━━━━━━━━━━━━━━━━━━━━\u001b[0m\u001b[37m\u001b[0m \u001b[1m0s\u001b[0m 14ms/step - loss: 0.0176 - mean_absolute_error: 0.1052 - mean_absolute_percentage_error: 25.8872 - root_mean_squared_error: 0.1326 - val_loss: 0.0139 - val_mean_absolute_error: 0.0978 - val_mean_absolute_percentage_error: 14.5388 - val_root_mean_squared_error: 0.1177\n"
          ]
        },
        {
          "output_type": "execute_result",
          "data": {
            "text/plain": [
              "<keras.src.callbacks.history.History at 0x7b26dce6f350>"
            ]
          },
          "metadata": {},
          "execution_count": 63
        }
      ]
    },
    {
      "cell_type": "code",
      "source": [
        "y_pred = model_cnn_3.predict(x_test)"
      ],
      "metadata": {
        "colab": {
          "base_uri": "https://localhost:8080/"
        },
        "outputId": "f01a2702-3033-4202-87e4-b589d4f35c81",
        "id": "m5XSo8ywNMlH"
      },
      "execution_count": null,
      "outputs": [
        {
          "output_type": "stream",
          "name": "stdout",
          "text": [
            "\u001b[1m3/3\u001b[0m \u001b[32m━━━━━━━━━━━━━━━━━━━━\u001b[0m\u001b[37m\u001b[0m \u001b[1m0s\u001b[0m 52ms/step\n"
          ]
        }
      ]
    },
    {
      "cell_type": "code",
      "source": [
        "loss, mae, mape, rmse = model_cnn_3.evaluate(x_test, y_test)\n",
        "print(\"model cnn 3\")\n",
        "print(\"Mean Absolute Error:\", mae)\n",
        "print(\"Mean Square Error:\", loss)\n",
        "print(\"Mean Absolute Percentage Error:\", mape)\n",
        "print(\"Root Mean Squared Error:\", rmse)"
      ],
      "metadata": {
        "colab": {
          "base_uri": "https://localhost:8080/"
        },
        "outputId": "91b8719e-b06f-42b9-f5b6-e2013b68b17f",
        "id": "nel9TfuMNMlH"
      },
      "execution_count": null,
      "outputs": [
        {
          "output_type": "stream",
          "name": "stdout",
          "text": [
            "\u001b[1m3/3\u001b[0m \u001b[32m━━━━━━━━━━━━━━━━━━━━\u001b[0m\u001b[37m\u001b[0m \u001b[1m0s\u001b[0m 22ms/step - loss: 0.0293 - mean_absolute_error: 0.1308 - mean_absolute_percentage_error: 981607.8125 - root_mean_squared_error: 0.1702\n",
            "model cnn 3\n",
            "Mean Absolute Error: 0.1436699479818344\n",
            "Mean Square Error: 0.034257251769304276\n",
            "Mean Absolute Percentage Error: 1963190.25\n",
            "Root Mean Squared Error: 0.1850871443748474\n"
          ]
        }
      ]
    },
    {
      "cell_type": "markdown",
      "source": [
        "## model 4 (256 64)"
      ],
      "metadata": {
        "id": "UGgx3hmsh-HX"
      }
    },
    {
      "cell_type": "code",
      "source": [
        "lr = 0.0003\n",
        "\n",
        "model_cnn_4 = Sequential()\n",
        "model_cnn_4.add(Conv1D(filters=256, kernel_size=1, activation='relu', input_shape=(x_train.shape[1], x_train.shape[2])))\n",
        "model_cnn_4.add(Conv1D(filters=64, kernel_size=1, activation='relu', input_shape=(x_train.shape[1], x_train.shape[2])))\n",
        "model_cnn_4.add(Dense(1))\n",
        "model_cnn_4.compile(loss='mse', optimizer='adam', metrics=[metrics.MeanAbsoluteError(), metrics.MeanAbsolutePercentageError(), metrics.RootMeanSquaredError()])\n",
        "model_cnn_4.summary()"
      ],
      "metadata": {
        "colab": {
          "base_uri": "https://localhost:8080/",
          "height": 293
        },
        "outputId": "db8d4d38-0f80-4256-c51a-b362e985a2a2",
        "id": "MIhGFO1Vh-HX"
      },
      "execution_count": null,
      "outputs": [
        {
          "output_type": "stream",
          "name": "stderr",
          "text": [
            "/usr/local/lib/python3.11/dist-packages/keras/src/layers/convolutional/base_conv.py:107: UserWarning: Do not pass an `input_shape`/`input_dim` argument to a layer. When using Sequential models, prefer using an `Input(shape)` object as the first layer in the model instead.\n",
            "  super().__init__(activity_regularizer=activity_regularizer, **kwargs)\n"
          ]
        },
        {
          "output_type": "display_data",
          "data": {
            "text/plain": [
              "\u001b[1mModel: \"sequential_27\"\u001b[0m\n"
            ],
            "text/html": [
              "<pre style=\"white-space:pre;overflow-x:auto;line-height:normal;font-family:Menlo,'DejaVu Sans Mono',consolas,'Courier New',monospace\"><span style=\"font-weight: bold\">Model: \"sequential_27\"</span>\n",
              "</pre>\n"
            ]
          },
          "metadata": {}
        },
        {
          "output_type": "display_data",
          "data": {
            "text/plain": [
              "┏━━━━━━━━━━━━━━━━━━━━━━━━━━━━━━━━━┳━━━━━━━━━━━━━━━━━━━━━━━━┳━━━━━━━━━━━━━━━┓\n",
              "┃\u001b[1m \u001b[0m\u001b[1mLayer (type)                   \u001b[0m\u001b[1m \u001b[0m┃\u001b[1m \u001b[0m\u001b[1mOutput Shape          \u001b[0m\u001b[1m \u001b[0m┃\u001b[1m \u001b[0m\u001b[1m      Param #\u001b[0m\u001b[1m \u001b[0m┃\n",
              "┡━━━━━━━━━━━━━━━━━━━━━━━━━━━━━━━━━╇━━━━━━━━━━━━━━━━━━━━━━━━╇━━━━━━━━━━━━━━━┩\n",
              "│ conv1d_23 (\u001b[38;5;33mConv1D\u001b[0m)              │ (\u001b[38;5;45mNone\u001b[0m, \u001b[38;5;34m7\u001b[0m, \u001b[38;5;34m256\u001b[0m)         │         \u001b[38;5;34m3,072\u001b[0m │\n",
              "├─────────────────────────────────┼────────────────────────┼───────────────┤\n",
              "│ conv1d_24 (\u001b[38;5;33mConv1D\u001b[0m)              │ (\u001b[38;5;45mNone\u001b[0m, \u001b[38;5;34m7\u001b[0m, \u001b[38;5;34m64\u001b[0m)          │        \u001b[38;5;34m16,448\u001b[0m │\n",
              "├─────────────────────────────────┼────────────────────────┼───────────────┤\n",
              "│ dense_26 (\u001b[38;5;33mDense\u001b[0m)                │ (\u001b[38;5;45mNone\u001b[0m, \u001b[38;5;34m7\u001b[0m, \u001b[38;5;34m1\u001b[0m)           │            \u001b[38;5;34m65\u001b[0m │\n",
              "└─────────────────────────────────┴────────────────────────┴───────────────┘\n"
            ],
            "text/html": [
              "<pre style=\"white-space:pre;overflow-x:auto;line-height:normal;font-family:Menlo,'DejaVu Sans Mono',consolas,'Courier New',monospace\">┏━━━━━━━━━━━━━━━━━━━━━━━━━━━━━━━━━┳━━━━━━━━━━━━━━━━━━━━━━━━┳━━━━━━━━━━━━━━━┓\n",
              "┃<span style=\"font-weight: bold\"> Layer (type)                    </span>┃<span style=\"font-weight: bold\"> Output Shape           </span>┃<span style=\"font-weight: bold\">       Param # </span>┃\n",
              "┡━━━━━━━━━━━━━━━━━━━━━━━━━━━━━━━━━╇━━━━━━━━━━━━━━━━━━━━━━━━╇━━━━━━━━━━━━━━━┩\n",
              "│ conv1d_23 (<span style=\"color: #0087ff; text-decoration-color: #0087ff\">Conv1D</span>)              │ (<span style=\"color: #00d7ff; text-decoration-color: #00d7ff\">None</span>, <span style=\"color: #00af00; text-decoration-color: #00af00\">7</span>, <span style=\"color: #00af00; text-decoration-color: #00af00\">256</span>)         │         <span style=\"color: #00af00; text-decoration-color: #00af00\">3,072</span> │\n",
              "├─────────────────────────────────┼────────────────────────┼───────────────┤\n",
              "│ conv1d_24 (<span style=\"color: #0087ff; text-decoration-color: #0087ff\">Conv1D</span>)              │ (<span style=\"color: #00d7ff; text-decoration-color: #00d7ff\">None</span>, <span style=\"color: #00af00; text-decoration-color: #00af00\">7</span>, <span style=\"color: #00af00; text-decoration-color: #00af00\">64</span>)          │        <span style=\"color: #00af00; text-decoration-color: #00af00\">16,448</span> │\n",
              "├─────────────────────────────────┼────────────────────────┼───────────────┤\n",
              "│ dense_26 (<span style=\"color: #0087ff; text-decoration-color: #0087ff\">Dense</span>)                │ (<span style=\"color: #00d7ff; text-decoration-color: #00d7ff\">None</span>, <span style=\"color: #00af00; text-decoration-color: #00af00\">7</span>, <span style=\"color: #00af00; text-decoration-color: #00af00\">1</span>)           │            <span style=\"color: #00af00; text-decoration-color: #00af00\">65</span> │\n",
              "└─────────────────────────────────┴────────────────────────┴───────────────┘\n",
              "</pre>\n"
            ]
          },
          "metadata": {}
        },
        {
          "output_type": "display_data",
          "data": {
            "text/plain": [
              "\u001b[1m Total params: \u001b[0m\u001b[38;5;34m19,585\u001b[0m (76.50 KB)\n"
            ],
            "text/html": [
              "<pre style=\"white-space:pre;overflow-x:auto;line-height:normal;font-family:Menlo,'DejaVu Sans Mono',consolas,'Courier New',monospace\"><span style=\"font-weight: bold\"> Total params: </span><span style=\"color: #00af00; text-decoration-color: #00af00\">19,585</span> (76.50 KB)\n",
              "</pre>\n"
            ]
          },
          "metadata": {}
        },
        {
          "output_type": "display_data",
          "data": {
            "text/plain": [
              "\u001b[1m Trainable params: \u001b[0m\u001b[38;5;34m19,585\u001b[0m (76.50 KB)\n"
            ],
            "text/html": [
              "<pre style=\"white-space:pre;overflow-x:auto;line-height:normal;font-family:Menlo,'DejaVu Sans Mono',consolas,'Courier New',monospace\"><span style=\"font-weight: bold\"> Trainable params: </span><span style=\"color: #00af00; text-decoration-color: #00af00\">19,585</span> (76.50 KB)\n",
              "</pre>\n"
            ]
          },
          "metadata": {}
        },
        {
          "output_type": "display_data",
          "data": {
            "text/plain": [
              "\u001b[1m Non-trainable params: \u001b[0m\u001b[38;5;34m0\u001b[0m (0.00 B)\n"
            ],
            "text/html": [
              "<pre style=\"white-space:pre;overflow-x:auto;line-height:normal;font-family:Menlo,'DejaVu Sans Mono',consolas,'Courier New',monospace\"><span style=\"font-weight: bold\"> Non-trainable params: </span><span style=\"color: #00af00; text-decoration-color: #00af00\">0</span> (0.00 B)\n",
              "</pre>\n"
            ]
          },
          "metadata": {}
        }
      ]
    },
    {
      "cell_type": "code",
      "source": [
        "model_cnn_4.fit(\n",
        "    x_train,\n",
        "    y_train,\n",
        "    validation_data=(x_val ,y_val),\n",
        "    epochs=20,\n",
        "    batch_size=42\n",
        ")"
      ],
      "metadata": {
        "colab": {
          "base_uri": "https://localhost:8080/"
        },
        "outputId": "307bcf1f-c617-4fa8-e3b8-6892c314fc6e",
        "id": "vPE9JQIah-HY"
      },
      "execution_count": null,
      "outputs": [
        {
          "output_type": "stream",
          "name": "stdout",
          "text": [
            "Epoch 1/20\n",
            "\u001b[1m14/14\u001b[0m \u001b[32m━━━━━━━━━━━━━━━━━━━━\u001b[0m\u001b[37m\u001b[0m \u001b[1m2s\u001b[0m 30ms/step - loss: 0.2546 - mean_absolute_error: 0.4366 - mean_absolute_percentage_error: 79.7108 - root_mean_squared_error: 0.4940 - val_loss: 0.0265 - val_mean_absolute_error: 0.1348 - val_mean_absolute_percentage_error: 22.5587 - val_root_mean_squared_error: 0.1629\n",
            "Epoch 2/20\n",
            "\u001b[1m14/14\u001b[0m \u001b[32m━━━━━━━━━━━━━━━━━━━━\u001b[0m\u001b[37m\u001b[0m \u001b[1m0s\u001b[0m 12ms/step - loss: 0.0415 - mean_absolute_error: 0.1596 - mean_absolute_percentage_error: 45.2408 - root_mean_squared_error: 0.2030 - val_loss: 0.0179 - val_mean_absolute_error: 0.1105 - val_mean_absolute_percentage_error: 15.9138 - val_root_mean_squared_error: 0.1339\n",
            "Epoch 3/20\n",
            "\u001b[1m14/14\u001b[0m \u001b[32m━━━━━━━━━━━━━━━━━━━━\u001b[0m\u001b[37m\u001b[0m \u001b[1m0s\u001b[0m 9ms/step - loss: 0.0285 - mean_absolute_error: 0.1390 - mean_absolute_percentage_error: 31.6425 - root_mean_squared_error: 0.1686 - val_loss: 0.0108 - val_mean_absolute_error: 0.0882 - val_mean_absolute_percentage_error: 13.9272 - val_root_mean_squared_error: 0.1037\n",
            "Epoch 4/20\n",
            "\u001b[1m14/14\u001b[0m \u001b[32m━━━━━━━━━━━━━━━━━━━━\u001b[0m\u001b[37m\u001b[0m \u001b[1m0s\u001b[0m 13ms/step - loss: 0.0231 - mean_absolute_error: 0.1197 - mean_absolute_percentage_error: 32.1821 - root_mean_squared_error: 0.1521 - val_loss: 0.0128 - val_mean_absolute_error: 0.0960 - val_mean_absolute_percentage_error: 14.4752 - val_root_mean_squared_error: 0.1131\n",
            "Epoch 5/20\n",
            "\u001b[1m14/14\u001b[0m \u001b[32m━━━━━━━━━━━━━━━━━━━━\u001b[0m\u001b[37m\u001b[0m \u001b[1m0s\u001b[0m 13ms/step - loss: 0.0223 - mean_absolute_error: 0.1184 - mean_absolute_percentage_error: 29.5182 - root_mean_squared_error: 0.1494 - val_loss: 0.0120 - val_mean_absolute_error: 0.0933 - val_mean_absolute_percentage_error: 14.3014 - val_root_mean_squared_error: 0.1095\n",
            "Epoch 6/20\n",
            "\u001b[1m14/14\u001b[0m \u001b[32m━━━━━━━━━━━━━━━━━━━━\u001b[0m\u001b[37m\u001b[0m \u001b[1m0s\u001b[0m 9ms/step - loss: 0.0216 - mean_absolute_error: 0.1162 - mean_absolute_percentage_error: 29.8192 - root_mean_squared_error: 0.1470 - val_loss: 0.0137 - val_mean_absolute_error: 0.0989 - val_mean_absolute_percentage_error: 14.8484 - val_root_mean_squared_error: 0.1169\n",
            "Epoch 7/20\n",
            "\u001b[1m14/14\u001b[0m \u001b[32m━━━━━━━━━━━━━━━━━━━━\u001b[0m\u001b[37m\u001b[0m \u001b[1m0s\u001b[0m 10ms/step - loss: 0.0206 - mean_absolute_error: 0.1138 - mean_absolute_percentage_error: 28.3712 - root_mean_squared_error: 0.1435 - val_loss: 0.0131 - val_mean_absolute_error: 0.0969 - val_mean_absolute_percentage_error: 14.7029 - val_root_mean_squared_error: 0.1143\n",
            "Epoch 8/20\n",
            "\u001b[1m14/14\u001b[0m \u001b[32m━━━━━━━━━━━━━━━━━━━━\u001b[0m\u001b[37m\u001b[0m \u001b[1m0s\u001b[0m 10ms/step - loss: 0.0200 - mean_absolute_error: 0.1124 - mean_absolute_percentage_error: 28.2772 - root_mean_squared_error: 0.1414 - val_loss: 0.0130 - val_mean_absolute_error: 0.0967 - val_mean_absolute_percentage_error: 14.7076 - val_root_mean_squared_error: 0.1140\n",
            "Epoch 9/20\n",
            "\u001b[1m14/14\u001b[0m \u001b[32m━━━━━━━━━━━━━━━━━━━━\u001b[0m\u001b[37m\u001b[0m \u001b[1m0s\u001b[0m 11ms/step - loss: 0.0202 - mean_absolute_error: 0.1123 - mean_absolute_percentage_error: 28.6360 - root_mean_squared_error: 0.1422 - val_loss: 0.0124 - val_mean_absolute_error: 0.0948 - val_mean_absolute_percentage_error: 14.6259 - val_root_mean_squared_error: 0.1114\n",
            "Epoch 10/20\n",
            "\u001b[1m14/14\u001b[0m \u001b[32m━━━━━━━━━━━━━━━━━━━━\u001b[0m\u001b[37m\u001b[0m \u001b[1m0s\u001b[0m 12ms/step - loss: 0.0190 - mean_absolute_error: 0.1081 - mean_absolute_percentage_error: 26.7772 - root_mean_squared_error: 0.1379 - val_loss: 0.0131 - val_mean_absolute_error: 0.0969 - val_mean_absolute_percentage_error: 14.7709 - val_root_mean_squared_error: 0.1145\n",
            "Epoch 11/20\n",
            "\u001b[1m14/14\u001b[0m \u001b[32m━━━━━━━━━━━━━━━━━━━━\u001b[0m\u001b[37m\u001b[0m \u001b[1m0s\u001b[0m 9ms/step - loss: 0.0190 - mean_absolute_error: 0.1096 - mean_absolute_percentage_error: 27.4533 - root_mean_squared_error: 0.1379 - val_loss: 0.0141 - val_mean_absolute_error: 0.0999 - val_mean_absolute_percentage_error: 15.0457 - val_root_mean_squared_error: 0.1188\n",
            "Epoch 12/20\n",
            "\u001b[1m14/14\u001b[0m \u001b[32m━━━━━━━━━━━━━━━━━━━━\u001b[0m\u001b[37m\u001b[0m \u001b[1m0s\u001b[0m 10ms/step - loss: 0.0187 - mean_absolute_error: 0.1082 - mean_absolute_percentage_error: 27.1771 - root_mean_squared_error: 0.1367 - val_loss: 0.0129 - val_mean_absolute_error: 0.0964 - val_mean_absolute_percentage_error: 14.8166 - val_root_mean_squared_error: 0.1137\n",
            "Epoch 13/20\n",
            "\u001b[1m14/14\u001b[0m \u001b[32m━━━━━━━━━━━━━━━━━━━━\u001b[0m\u001b[37m\u001b[0m \u001b[1m0s\u001b[0m 9ms/step - loss: 0.0182 - mean_absolute_error: 0.1066 - mean_absolute_percentage_error: 25.8971 - root_mean_squared_error: 0.1348 - val_loss: 0.0143 - val_mean_absolute_error: 0.1001 - val_mean_absolute_percentage_error: 15.0862 - val_root_mean_squared_error: 0.1196\n",
            "Epoch 14/20\n",
            "\u001b[1m14/14\u001b[0m \u001b[32m━━━━━━━━━━━━━━━━━━━━\u001b[0m\u001b[37m\u001b[0m \u001b[1m0s\u001b[0m 11ms/step - loss: 0.0185 - mean_absolute_error: 0.1084 - mean_absolute_percentage_error: 26.0404 - root_mean_squared_error: 0.1359 - val_loss: 0.0146 - val_mean_absolute_error: 0.1012 - val_mean_absolute_percentage_error: 15.2385 - val_root_mean_squared_error: 0.1207\n",
            "Epoch 15/20\n",
            "\u001b[1m14/14\u001b[0m \u001b[32m━━━━━━━━━━━━━━━━━━━━\u001b[0m\u001b[37m\u001b[0m \u001b[1m0s\u001b[0m 9ms/step - loss: 0.0179 - mean_absolute_error: 0.1059 - mean_absolute_percentage_error: 25.0615 - root_mean_squared_error: 0.1337 - val_loss: 0.0147 - val_mean_absolute_error: 0.1014 - val_mean_absolute_percentage_error: 15.2418 - val_root_mean_squared_error: 0.1211\n",
            "Epoch 16/20\n",
            "\u001b[1m14/14\u001b[0m \u001b[32m━━━━━━━━━━━━━━━━━━━━\u001b[0m\u001b[37m\u001b[0m \u001b[1m0s\u001b[0m 9ms/step - loss: 0.0178 - mean_absolute_error: 0.1057 - mean_absolute_percentage_error: 25.6641 - root_mean_squared_error: 0.1333 - val_loss: 0.0142 - val_mean_absolute_error: 0.1003 - val_mean_absolute_percentage_error: 15.2055 - val_root_mean_squared_error: 0.1190\n",
            "Epoch 17/20\n",
            "\u001b[1m14/14\u001b[0m \u001b[32m━━━━━━━━━━━━━━━━━━━━\u001b[0m\u001b[37m\u001b[0m \u001b[1m0s\u001b[0m 9ms/step - loss: 0.0171 - mean_absolute_error: 0.1033 - mean_absolute_percentage_error: 24.5189 - root_mean_squared_error: 0.1308 - val_loss: 0.0158 - val_mean_absolute_error: 0.1051 - val_mean_absolute_percentage_error: 15.6889 - val_root_mean_squared_error: 0.1258\n",
            "Epoch 18/20\n",
            "\u001b[1m14/14\u001b[0m \u001b[32m━━━━━━━━━━━━━━━━━━━━\u001b[0m\u001b[37m\u001b[0m \u001b[1m0s\u001b[0m 9ms/step - loss: 0.0169 - mean_absolute_error: 0.1034 - mean_absolute_percentage_error: 24.7136 - root_mean_squared_error: 0.1300 - val_loss: 0.0141 - val_mean_absolute_error: 0.0999 - val_mean_absolute_percentage_error: 15.1401 - val_root_mean_squared_error: 0.1189\n",
            "Epoch 19/20\n",
            "\u001b[1m14/14\u001b[0m \u001b[32m━━━━━━━━━━━━━━━━━━━━\u001b[0m\u001b[37m\u001b[0m \u001b[1m0s\u001b[0m 9ms/step - loss: 0.0166 - mean_absolute_error: 0.1019 - mean_absolute_percentage_error: 26.0354 - root_mean_squared_error: 0.1289 - val_loss: 0.0134 - val_mean_absolute_error: 0.0965 - val_mean_absolute_percentage_error: 14.8044 - val_root_mean_squared_error: 0.1156\n",
            "Epoch 20/20\n",
            "\u001b[1m14/14\u001b[0m \u001b[32m━━━━━━━━━━━━━━━━━━━━\u001b[0m\u001b[37m\u001b[0m \u001b[1m0s\u001b[0m 9ms/step - loss: 0.0169 - mean_absolute_error: 0.1029 - mean_absolute_percentage_error: 24.7844 - root_mean_squared_error: 0.1300 - val_loss: 0.0146 - val_mean_absolute_error: 0.1014 - val_mean_absolute_percentage_error: 15.3100 - val_root_mean_squared_error: 0.1208\n"
          ]
        },
        {
          "output_type": "execute_result",
          "data": {
            "text/plain": [
              "<keras.src.callbacks.history.History at 0x7b26d9dd2f10>"
            ]
          },
          "metadata": {},
          "execution_count": 125
        }
      ]
    },
    {
      "cell_type": "code",
      "source": [
        "y_pred = model_cnn_4.predict(x_test)"
      ],
      "metadata": {
        "colab": {
          "base_uri": "https://localhost:8080/"
        },
        "outputId": "03026102-e9b0-4722-d90f-bacf1aeb4f88",
        "id": "bkWIzr8rh-HY"
      },
      "execution_count": null,
      "outputs": [
        {
          "output_type": "stream",
          "name": "stdout",
          "text": [
            "\u001b[1m3/3\u001b[0m \u001b[32m━━━━━━━━━━━━━━━━━━━━\u001b[0m\u001b[37m\u001b[0m \u001b[1m0s\u001b[0m 36ms/step\n"
          ]
        }
      ]
    },
    {
      "cell_type": "code",
      "source": [
        "loss, mae, mape, rmse = model_cnn_4.evaluate(x_test, y_test)\n",
        "print(\"model cnn 4\")\n",
        "print(\"Mean Square Error:\", loss)\n",
        "print(\"Mean Absolute Error:\", mae)\n",
        "print(\"Mean Absolute Percentage Error:\", mape)\n",
        "print(\"Root Mean Squared Error:\", rmse)"
      ],
      "metadata": {
        "colab": {
          "base_uri": "https://localhost:8080/"
        },
        "outputId": "5d81ad27-88af-46de-ba1f-6dd739f1aa6e",
        "id": "ztfCJpWhh-HY"
      },
      "execution_count": null,
      "outputs": [
        {
          "output_type": "stream",
          "name": "stdout",
          "text": [
            "\u001b[1m3/3\u001b[0m \u001b[32m━━━━━━━━━━━━━━━━━━━━\u001b[0m\u001b[37m\u001b[0m \u001b[1m0s\u001b[0m 14ms/step - loss: 0.0332 - mean_absolute_error: 0.1393 - mean_absolute_percentage_error: 730995.4375 - root_mean_squared_error: 0.1816\n",
            "model cnn 4\n",
            "Mean Square Error: 0.03757407143712044\n",
            "Mean Absolute Error: 0.15015512704849243\n",
            "Mean Absolute Percentage Error: 1461963.5\n",
            "Root Mean Squared Error: 0.19384032487869263\n"
          ]
        }
      ]
    },
    {
      "cell_type": "markdown",
      "source": [
        "# LSTM Only"
      ],
      "metadata": {
        "id": "XKXlnmCr_Kxu"
      }
    },
    {
      "cell_type": "markdown",
      "source": [
        "## model 1 (LSTM=32)"
      ],
      "metadata": {
        "id": "uOryAokPcLBk"
      }
    },
    {
      "cell_type": "code",
      "source": [
        "lr = 0.0003\n",
        "\n",
        "model_lstm_1 = Sequential()\n",
        "model_lstm_1.add(Input(shape=(x_train.shape[1], x_train.shape[2])))\n",
        "model_lstm_1.add(LSTM(32, activation='relu'))\n",
        "model_lstm_1.add(Dense(1))\n",
        "model_lstm_1.compile(loss='mse', optimizer='adam', metrics=[metrics.MeanAbsoluteError(), metrics.MeanAbsolutePercentageError(), metrics.RootMeanSquaredError()])\n",
        "model_lstm_1.summary()"
      ],
      "metadata": {
        "colab": {
          "base_uri": "https://localhost:8080/",
          "height": 204
        },
        "outputId": "37584028-a2a6-490e-cc8c-bcb901776fd6",
        "id": "WF6aOrGXcLBl"
      },
      "execution_count": null,
      "outputs": [
        {
          "output_type": "display_data",
          "data": {
            "text/plain": [
              "\u001b[1mModel: \"sequential_15\"\u001b[0m\n"
            ],
            "text/html": [
              "<pre style=\"white-space:pre;overflow-x:auto;line-height:normal;font-family:Menlo,'DejaVu Sans Mono',consolas,'Courier New',monospace\"><span style=\"font-weight: bold\">Model: \"sequential_15\"</span>\n",
              "</pre>\n"
            ]
          },
          "metadata": {}
        },
        {
          "output_type": "display_data",
          "data": {
            "text/plain": [
              "┏━━━━━━━━━━━━━━━━━━━━━━━━━━━━━━━━━┳━━━━━━━━━━━━━━━━━━━━━━━━┳━━━━━━━━━━━━━━━┓\n",
              "┃\u001b[1m \u001b[0m\u001b[1mLayer (type)                   \u001b[0m\u001b[1m \u001b[0m┃\u001b[1m \u001b[0m\u001b[1mOutput Shape          \u001b[0m\u001b[1m \u001b[0m┃\u001b[1m \u001b[0m\u001b[1m      Param #\u001b[0m\u001b[1m \u001b[0m┃\n",
              "┡━━━━━━━━━━━━━━━━━━━━━━━━━━━━━━━━━╇━━━━━━━━━━━━━━━━━━━━━━━━╇━━━━━━━━━━━━━━━┩\n",
              "│ lstm_9 (\u001b[38;5;33mLSTM\u001b[0m)                   │ (\u001b[38;5;45mNone\u001b[0m, \u001b[38;5;34m32\u001b[0m)             │         \u001b[38;5;34m5,632\u001b[0m │\n",
              "├─────────────────────────────────┼────────────────────────┼───────────────┤\n",
              "│ dense_15 (\u001b[38;5;33mDense\u001b[0m)                │ (\u001b[38;5;45mNone\u001b[0m, \u001b[38;5;34m1\u001b[0m)              │            \u001b[38;5;34m33\u001b[0m │\n",
              "└─────────────────────────────────┴────────────────────────┴───────────────┘\n"
            ],
            "text/html": [
              "<pre style=\"white-space:pre;overflow-x:auto;line-height:normal;font-family:Menlo,'DejaVu Sans Mono',consolas,'Courier New',monospace\">┏━━━━━━━━━━━━━━━━━━━━━━━━━━━━━━━━━┳━━━━━━━━━━━━━━━━━━━━━━━━┳━━━━━━━━━━━━━━━┓\n",
              "┃<span style=\"font-weight: bold\"> Layer (type)                    </span>┃<span style=\"font-weight: bold\"> Output Shape           </span>┃<span style=\"font-weight: bold\">       Param # </span>┃\n",
              "┡━━━━━━━━━━━━━━━━━━━━━━━━━━━━━━━━━╇━━━━━━━━━━━━━━━━━━━━━━━━╇━━━━━━━━━━━━━━━┩\n",
              "│ lstm_9 (<span style=\"color: #0087ff; text-decoration-color: #0087ff\">LSTM</span>)                   │ (<span style=\"color: #00d7ff; text-decoration-color: #00d7ff\">None</span>, <span style=\"color: #00af00; text-decoration-color: #00af00\">32</span>)             │         <span style=\"color: #00af00; text-decoration-color: #00af00\">5,632</span> │\n",
              "├─────────────────────────────────┼────────────────────────┼───────────────┤\n",
              "│ dense_15 (<span style=\"color: #0087ff; text-decoration-color: #0087ff\">Dense</span>)                │ (<span style=\"color: #00d7ff; text-decoration-color: #00d7ff\">None</span>, <span style=\"color: #00af00; text-decoration-color: #00af00\">1</span>)              │            <span style=\"color: #00af00; text-decoration-color: #00af00\">33</span> │\n",
              "└─────────────────────────────────┴────────────────────────┴───────────────┘\n",
              "</pre>\n"
            ]
          },
          "metadata": {}
        },
        {
          "output_type": "display_data",
          "data": {
            "text/plain": [
              "\u001b[1m Total params: \u001b[0m\u001b[38;5;34m5,665\u001b[0m (22.13 KB)\n"
            ],
            "text/html": [
              "<pre style=\"white-space:pre;overflow-x:auto;line-height:normal;font-family:Menlo,'DejaVu Sans Mono',consolas,'Courier New',monospace\"><span style=\"font-weight: bold\"> Total params: </span><span style=\"color: #00af00; text-decoration-color: #00af00\">5,665</span> (22.13 KB)\n",
              "</pre>\n"
            ]
          },
          "metadata": {}
        },
        {
          "output_type": "display_data",
          "data": {
            "text/plain": [
              "\u001b[1m Trainable params: \u001b[0m\u001b[38;5;34m5,665\u001b[0m (22.13 KB)\n"
            ],
            "text/html": [
              "<pre style=\"white-space:pre;overflow-x:auto;line-height:normal;font-family:Menlo,'DejaVu Sans Mono',consolas,'Courier New',monospace\"><span style=\"font-weight: bold\"> Trainable params: </span><span style=\"color: #00af00; text-decoration-color: #00af00\">5,665</span> (22.13 KB)\n",
              "</pre>\n"
            ]
          },
          "metadata": {}
        },
        {
          "output_type": "display_data",
          "data": {
            "text/plain": [
              "\u001b[1m Non-trainable params: \u001b[0m\u001b[38;5;34m0\u001b[0m (0.00 B)\n"
            ],
            "text/html": [
              "<pre style=\"white-space:pre;overflow-x:auto;line-height:normal;font-family:Menlo,'DejaVu Sans Mono',consolas,'Courier New',monospace\"><span style=\"font-weight: bold\"> Non-trainable params: </span><span style=\"color: #00af00; text-decoration-color: #00af00\">0</span> (0.00 B)\n",
              "</pre>\n"
            ]
          },
          "metadata": {}
        }
      ]
    },
    {
      "cell_type": "code",
      "source": [
        "model_lstm_1.fit(\n",
        "    x_train,\n",
        "    y_train,\n",
        "    validation_data=(x_val ,y_val),\n",
        "    epochs=20,\n",
        "    batch_size=42\n",
        ")"
      ],
      "metadata": {
        "id": "YQ9UPIn7cLBl",
        "colab": {
          "base_uri": "https://localhost:8080/"
        },
        "outputId": "184f966a-b282-4688-98d8-09ac8730fd3c"
      },
      "execution_count": null,
      "outputs": [
        {
          "output_type": "stream",
          "name": "stdout",
          "text": [
            "Epoch 1/20\n",
            "\u001b[1m14/14\u001b[0m \u001b[32m━━━━━━━━━━━━━━━━━━━━\u001b[0m\u001b[37m\u001b[0m \u001b[1m3s\u001b[0m 44ms/step - loss: 0.3830 - mean_absolute_error: 0.5898 - mean_absolute_percentage_error: 106.6195 - root_mean_squared_error: 0.6177 - val_loss: 0.1662 - val_mean_absolute_error: 0.3974 - val_mean_absolute_percentage_error: 59.6184 - val_root_mean_squared_error: 0.4077\n",
            "Epoch 2/20\n",
            "\u001b[1m14/14\u001b[0m \u001b[32m━━━━━━━━━━━━━━━━━━━━\u001b[0m\u001b[37m\u001b[0m \u001b[1m0s\u001b[0m 11ms/step - loss: 0.1046 - mean_absolute_error: 0.2799 - mean_absolute_percentage_error: 49.2265 - root_mean_squared_error: 0.3212 - val_loss: 0.0163 - val_mean_absolute_error: 0.1055 - val_mean_absolute_percentage_error: 17.6175 - val_root_mean_squared_error: 0.1278\n",
            "Epoch 3/20\n",
            "\u001b[1m14/14\u001b[0m \u001b[32m━━━━━━━━━━━━━━━━━━━━\u001b[0m\u001b[37m\u001b[0m \u001b[1m0s\u001b[0m 14ms/step - loss: 0.0307 - mean_absolute_error: 0.1389 - mean_absolute_percentage_error: 39.0163 - root_mean_squared_error: 0.1750 - val_loss: 0.0201 - val_mean_absolute_error: 0.1159 - val_mean_absolute_percentage_error: 19.4710 - val_root_mean_squared_error: 0.1419\n",
            "Epoch 4/20\n",
            "\u001b[1m14/14\u001b[0m \u001b[32m━━━━━━━━━━━━━━━━━━━━\u001b[0m\u001b[37m\u001b[0m \u001b[1m0s\u001b[0m 11ms/step - loss: 0.0221 - mean_absolute_error: 0.1190 - mean_absolute_percentage_error: 30.8697 - root_mean_squared_error: 0.1487 - val_loss: 0.0098 - val_mean_absolute_error: 0.0825 - val_mean_absolute_percentage_error: 13.1234 - val_root_mean_squared_error: 0.0988\n",
            "Epoch 5/20\n",
            "\u001b[1m14/14\u001b[0m \u001b[32m━━━━━━━━━━━━━━━━━━━━\u001b[0m\u001b[37m\u001b[0m \u001b[1m0s\u001b[0m 12ms/step - loss: 0.0224 - mean_absolute_error: 0.1216 - mean_absolute_percentage_error: 29.3444 - root_mean_squared_error: 0.1498 - val_loss: 0.0122 - val_mean_absolute_error: 0.0903 - val_mean_absolute_percentage_error: 14.9318 - val_root_mean_squared_error: 0.1105\n",
            "Epoch 6/20\n",
            "\u001b[1m14/14\u001b[0m \u001b[32m━━━━━━━━━━━━━━━━━━━━\u001b[0m\u001b[37m\u001b[0m \u001b[1m0s\u001b[0m 13ms/step - loss: 0.0213 - mean_absolute_error: 0.1164 - mean_absolute_percentage_error: 29.9413 - root_mean_squared_error: 0.1459 - val_loss: 0.0114 - val_mean_absolute_error: 0.0875 - val_mean_absolute_percentage_error: 14.3791 - val_root_mean_squared_error: 0.1066\n",
            "Epoch 7/20\n",
            "\u001b[1m14/14\u001b[0m \u001b[32m━━━━━━━━━━━━━━━━━━━━\u001b[0m\u001b[37m\u001b[0m \u001b[1m0s\u001b[0m 11ms/step - loss: 0.0194 - mean_absolute_error: 0.1108 - mean_absolute_percentage_error: 27.0267 - root_mean_squared_error: 0.1391 - val_loss: 0.0106 - val_mean_absolute_error: 0.0853 - val_mean_absolute_percentage_error: 13.9139 - val_root_mean_squared_error: 0.1032\n",
            "Epoch 8/20\n",
            "\u001b[1m14/14\u001b[0m \u001b[32m━━━━━━━━━━━━━━━━━━━━\u001b[0m\u001b[37m\u001b[0m \u001b[1m0s\u001b[0m 11ms/step - loss: 0.0190 - mean_absolute_error: 0.1103 - mean_absolute_percentage_error: 26.3475 - root_mean_squared_error: 0.1377 - val_loss: 0.0105 - val_mean_absolute_error: 0.0848 - val_mean_absolute_percentage_error: 13.7904 - val_root_mean_squared_error: 0.1023\n",
            "Epoch 9/20\n",
            "\u001b[1m14/14\u001b[0m \u001b[32m━━━━━━━━━━━━━━━━━━━━\u001b[0m\u001b[37m\u001b[0m \u001b[1m0s\u001b[0m 11ms/step - loss: 0.0188 - mean_absolute_error: 0.1085 - mean_absolute_percentage_error: 27.6934 - root_mean_squared_error: 0.1369 - val_loss: 0.0104 - val_mean_absolute_error: 0.0845 - val_mean_absolute_percentage_error: 13.7272 - val_root_mean_squared_error: 0.1018\n",
            "Epoch 10/20\n",
            "\u001b[1m14/14\u001b[0m \u001b[32m━━━━━━━━━━━━━━━━━━━━\u001b[0m\u001b[37m\u001b[0m \u001b[1m0s\u001b[0m 13ms/step - loss: 0.0189 - mean_absolute_error: 0.1088 - mean_absolute_percentage_error: 27.3309 - root_mean_squared_error: 0.1374 - val_loss: 0.0099 - val_mean_absolute_error: 0.0832 - val_mean_absolute_percentage_error: 13.3875 - val_root_mean_squared_error: 0.0996\n",
            "Epoch 11/20\n",
            "\u001b[1m14/14\u001b[0m \u001b[32m━━━━━━━━━━━━━━━━━━━━\u001b[0m\u001b[37m\u001b[0m \u001b[1m0s\u001b[0m 10ms/step - loss: 0.0178 - mean_absolute_error: 0.1055 - mean_absolute_percentage_error: 26.3198 - root_mean_squared_error: 0.1332 - val_loss: 0.0102 - val_mean_absolute_error: 0.0840 - val_mean_absolute_percentage_error: 13.5910 - val_root_mean_squared_error: 0.1009\n",
            "Epoch 12/20\n",
            "\u001b[1m14/14\u001b[0m \u001b[32m━━━━━━━━━━━━━━━━━━━━\u001b[0m\u001b[37m\u001b[0m \u001b[1m0s\u001b[0m 11ms/step - loss: 0.0197 - mean_absolute_error: 0.1100 - mean_absolute_percentage_error: 28.7560 - root_mean_squared_error: 0.1402 - val_loss: 0.0098 - val_mean_absolute_error: 0.0830 - val_mean_absolute_percentage_error: 13.3120 - val_root_mean_squared_error: 0.0991\n",
            "Epoch 13/20\n",
            "\u001b[1m14/14\u001b[0m \u001b[32m━━━━━━━━━━━━━━━━━━━━\u001b[0m\u001b[37m\u001b[0m \u001b[1m0s\u001b[0m 11ms/step - loss: 0.0182 - mean_absolute_error: 0.1064 - mean_absolute_percentage_error: 27.7990 - root_mean_squared_error: 0.1351 - val_loss: 0.0098 - val_mean_absolute_error: 0.0829 - val_mean_absolute_percentage_error: 13.2772 - val_root_mean_squared_error: 0.0989\n",
            "Epoch 14/20\n",
            "\u001b[1m14/14\u001b[0m \u001b[32m━━━━━━━━━━━━━━━━━━━━\u001b[0m\u001b[37m\u001b[0m \u001b[1m0s\u001b[0m 11ms/step - loss: 0.0188 - mean_absolute_error: 0.1077 - mean_absolute_percentage_error: 27.2691 - root_mean_squared_error: 0.1371 - val_loss: 0.0096 - val_mean_absolute_error: 0.0826 - val_mean_absolute_percentage_error: 13.1181 - val_root_mean_squared_error: 0.0981\n",
            "Epoch 15/20\n",
            "\u001b[1m14/14\u001b[0m \u001b[32m━━━━━━━━━━━━━━━━━━━━\u001b[0m\u001b[37m\u001b[0m \u001b[1m0s\u001b[0m 11ms/step - loss: 0.0184 - mean_absolute_error: 0.1069 - mean_absolute_percentage_error: 28.8869 - root_mean_squared_error: 0.1355 - val_loss: 0.0096 - val_mean_absolute_error: 0.0826 - val_mean_absolute_percentage_error: 13.1144 - val_root_mean_squared_error: 0.0981\n",
            "Epoch 16/20\n",
            "\u001b[1m14/14\u001b[0m \u001b[32m━━━━━━━━━━━━━━━━━━━━\u001b[0m\u001b[37m\u001b[0m \u001b[1m0s\u001b[0m 12ms/step - loss: 0.0187 - mean_absolute_error: 0.1072 - mean_absolute_percentage_error: 27.4953 - root_mean_squared_error: 0.1366 - val_loss: 0.0095 - val_mean_absolute_error: 0.0824 - val_mean_absolute_percentage_error: 12.9893 - val_root_mean_squared_error: 0.0977\n",
            "Epoch 17/20\n",
            "\u001b[1m14/14\u001b[0m \u001b[32m━━━━━━━━━━━━━━━━━━━━\u001b[0m\u001b[37m\u001b[0m \u001b[1m0s\u001b[0m 11ms/step - loss: 0.0181 - mean_absolute_error: 0.1058 - mean_absolute_percentage_error: 26.3792 - root_mean_squared_error: 0.1346 - val_loss: 0.0096 - val_mean_absolute_error: 0.0825 - val_mean_absolute_percentage_error: 13.0047 - val_root_mean_squared_error: 0.0977\n",
            "Epoch 18/20\n",
            "\u001b[1m14/14\u001b[0m \u001b[32m━━━━━━━━━━━━━━━━━━━━\u001b[0m\u001b[37m\u001b[0m \u001b[1m0s\u001b[0m 11ms/step - loss: 0.0171 - mean_absolute_error: 0.1026 - mean_absolute_percentage_error: 25.6599 - root_mean_squared_error: 0.1307 - val_loss: 0.0096 - val_mean_absolute_error: 0.0826 - val_mean_absolute_percentage_error: 13.0505 - val_root_mean_squared_error: 0.0979\n",
            "Epoch 19/20\n",
            "\u001b[1m14/14\u001b[0m \u001b[32m━━━━━━━━━━━━━━━━━━━━\u001b[0m\u001b[37m\u001b[0m \u001b[1m0s\u001b[0m 11ms/step - loss: 0.0176 - mean_absolute_error: 0.1039 - mean_absolute_percentage_error: 26.7587 - root_mean_squared_error: 0.1327 - val_loss: 0.0097 - val_mean_absolute_error: 0.0828 - val_mean_absolute_percentage_error: 13.1384 - val_root_mean_squared_error: 0.0983\n",
            "Epoch 20/20\n",
            "\u001b[1m14/14\u001b[0m \u001b[32m━━━━━━━━━━━━━━━━━━━━\u001b[0m\u001b[37m\u001b[0m \u001b[1m0s\u001b[0m 11ms/step - loss: 0.0170 - mean_absolute_error: 0.1021 - mean_absolute_percentage_error: 24.6475 - root_mean_squared_error: 0.1302 - val_loss: 0.0097 - val_mean_absolute_error: 0.0832 - val_mean_absolute_percentage_error: 12.9975 - val_root_mean_squared_error: 0.0983\n"
          ]
        },
        {
          "output_type": "execute_result",
          "data": {
            "text/plain": [
              "<keras.src.callbacks.history.History at 0x7b26e356ca50>"
            ]
          },
          "metadata": {},
          "execution_count": 75
        }
      ]
    },
    {
      "cell_type": "code",
      "source": [
        "y_pred = model_lstm_1.predict(x_test)"
      ],
      "metadata": {
        "id": "WG2dQUR4cLBl",
        "colab": {
          "base_uri": "https://localhost:8080/"
        },
        "outputId": "5c3f093b-724b-464f-a506-0ee5a34b3351"
      },
      "execution_count": null,
      "outputs": [
        {
          "output_type": "stream",
          "name": "stdout",
          "text": [
            "\u001b[1m3/3\u001b[0m \u001b[32m━━━━━━━━━━━━━━━━━━━━\u001b[0m\u001b[37m\u001b[0m \u001b[1m0s\u001b[0m 94ms/step\n"
          ]
        }
      ]
    },
    {
      "cell_type": "code",
      "source": [
        "loss, mae, mape, rmse = model_lstm_1.evaluate(x_test, y_test)\n",
        "print(\"Mean Square Error:\", loss)\n",
        "print(\"Mean Absolute Error:\", mae)\n",
        "print(\"Mean Absolute Percentage Error:\", mape)\n",
        "print(\"Root Mean Squared Error:\", rmse)"
      ],
      "metadata": {
        "id": "JlkeVNKCcLBl",
        "colab": {
          "base_uri": "https://localhost:8080/"
        },
        "outputId": "30676eb0-00e8-4acb-ab52-e2b1613b3aa6"
      },
      "execution_count": null,
      "outputs": [
        {
          "output_type": "stream",
          "name": "stdout",
          "text": [
            "\u001b[1m3/3\u001b[0m \u001b[32m━━━━━━━━━━━━━━━━━━━━\u001b[0m\u001b[37m\u001b[0m \u001b[1m0s\u001b[0m 15ms/step - loss: 0.0283 - mean_absolute_error: 0.1322 - mean_absolute_percentage_error: 768039.4375 - root_mean_squared_error: 0.1677\n",
            "Mean Square Error: 0.031493570655584335\n",
            "Mean Absolute Error: 0.14127062261104584\n",
            "Mean Absolute Percentage Error: 1536051.875\n",
            "Root Mean Squared Error: 0.17746427655220032\n"
          ]
        }
      ]
    },
    {
      "cell_type": "markdown",
      "source": [
        "## model 2 (LSTM=32. 32)"
      ],
      "metadata": {
        "id": "neOZckSwHfIf"
      }
    },
    {
      "cell_type": "code",
      "source": [
        "lr = 0.0003\n",
        "\n",
        "model_lstm_2 = Sequential()\n",
        "model_lstm_2.add(Input(shape=(x_train.shape[1], x_train.shape[2])))\n",
        "model_lstm_2.add(LSTM(32, activation='relu', return_sequences=True))\n",
        "model_lstm_2.add(LSTM(32, activation='relu'))\n",
        "model_lstm_2.add(Dense(1))\n",
        "model_lstm_2.compile(loss='mse', optimizer='adam', metrics=[metrics.MeanAbsoluteError(), metrics.MeanAbsolutePercentageError(), metrics.RootMeanSquaredError()])\n",
        "model_lstm_2.summary()"
      ],
      "metadata": {
        "colab": {
          "base_uri": "https://localhost:8080/",
          "height": 238
        },
        "outputId": "096c431c-d25c-4345-d6e3-4b96aa8957bd",
        "id": "DEMRRQ2nHfIg"
      },
      "execution_count": null,
      "outputs": [
        {
          "output_type": "display_data",
          "data": {
            "text/plain": [
              "\u001b[1mModel: \"sequential_17\"\u001b[0m\n"
            ],
            "text/html": [
              "<pre style=\"white-space:pre;overflow-x:auto;line-height:normal;font-family:Menlo,'DejaVu Sans Mono',consolas,'Courier New',monospace\"><span style=\"font-weight: bold\">Model: \"sequential_17\"</span>\n",
              "</pre>\n"
            ]
          },
          "metadata": {}
        },
        {
          "output_type": "display_data",
          "data": {
            "text/plain": [
              "┏━━━━━━━━━━━━━━━━━━━━━━━━━━━━━━━━━┳━━━━━━━━━━━━━━━━━━━━━━━━┳━━━━━━━━━━━━━━━┓\n",
              "┃\u001b[1m \u001b[0m\u001b[1mLayer (type)                   \u001b[0m\u001b[1m \u001b[0m┃\u001b[1m \u001b[0m\u001b[1mOutput Shape          \u001b[0m\u001b[1m \u001b[0m┃\u001b[1m \u001b[0m\u001b[1m      Param #\u001b[0m\u001b[1m \u001b[0m┃\n",
              "┡━━━━━━━━━━━━━━━━━━━━━━━━━━━━━━━━━╇━━━━━━━━━━━━━━━━━━━━━━━━╇━━━━━━━━━━━━━━━┩\n",
              "│ lstm_12 (\u001b[38;5;33mLSTM\u001b[0m)                  │ (\u001b[38;5;45mNone\u001b[0m, \u001b[38;5;34m7\u001b[0m, \u001b[38;5;34m32\u001b[0m)          │         \u001b[38;5;34m5,632\u001b[0m │\n",
              "├─────────────────────────────────┼────────────────────────┼───────────────┤\n",
              "│ lstm_13 (\u001b[38;5;33mLSTM\u001b[0m)                  │ (\u001b[38;5;45mNone\u001b[0m, \u001b[38;5;34m32\u001b[0m)             │         \u001b[38;5;34m8,320\u001b[0m │\n",
              "├─────────────────────────────────┼────────────────────────┼───────────────┤\n",
              "│ dense_16 (\u001b[38;5;33mDense\u001b[0m)                │ (\u001b[38;5;45mNone\u001b[0m, \u001b[38;5;34m1\u001b[0m)              │            \u001b[38;5;34m33\u001b[0m │\n",
              "└─────────────────────────────────┴────────────────────────┴───────────────┘\n"
            ],
            "text/html": [
              "<pre style=\"white-space:pre;overflow-x:auto;line-height:normal;font-family:Menlo,'DejaVu Sans Mono',consolas,'Courier New',monospace\">┏━━━━━━━━━━━━━━━━━━━━━━━━━━━━━━━━━┳━━━━━━━━━━━━━━━━━━━━━━━━┳━━━━━━━━━━━━━━━┓\n",
              "┃<span style=\"font-weight: bold\"> Layer (type)                    </span>┃<span style=\"font-weight: bold\"> Output Shape           </span>┃<span style=\"font-weight: bold\">       Param # </span>┃\n",
              "┡━━━━━━━━━━━━━━━━━━━━━━━━━━━━━━━━━╇━━━━━━━━━━━━━━━━━━━━━━━━╇━━━━━━━━━━━━━━━┩\n",
              "│ lstm_12 (<span style=\"color: #0087ff; text-decoration-color: #0087ff\">LSTM</span>)                  │ (<span style=\"color: #00d7ff; text-decoration-color: #00d7ff\">None</span>, <span style=\"color: #00af00; text-decoration-color: #00af00\">7</span>, <span style=\"color: #00af00; text-decoration-color: #00af00\">32</span>)          │         <span style=\"color: #00af00; text-decoration-color: #00af00\">5,632</span> │\n",
              "├─────────────────────────────────┼────────────────────────┼───────────────┤\n",
              "│ lstm_13 (<span style=\"color: #0087ff; text-decoration-color: #0087ff\">LSTM</span>)                  │ (<span style=\"color: #00d7ff; text-decoration-color: #00d7ff\">None</span>, <span style=\"color: #00af00; text-decoration-color: #00af00\">32</span>)             │         <span style=\"color: #00af00; text-decoration-color: #00af00\">8,320</span> │\n",
              "├─────────────────────────────────┼────────────────────────┼───────────────┤\n",
              "│ dense_16 (<span style=\"color: #0087ff; text-decoration-color: #0087ff\">Dense</span>)                │ (<span style=\"color: #00d7ff; text-decoration-color: #00d7ff\">None</span>, <span style=\"color: #00af00; text-decoration-color: #00af00\">1</span>)              │            <span style=\"color: #00af00; text-decoration-color: #00af00\">33</span> │\n",
              "└─────────────────────────────────┴────────────────────────┴───────────────┘\n",
              "</pre>\n"
            ]
          },
          "metadata": {}
        },
        {
          "output_type": "display_data",
          "data": {
            "text/plain": [
              "\u001b[1m Total params: \u001b[0m\u001b[38;5;34m13,985\u001b[0m (54.63 KB)\n"
            ],
            "text/html": [
              "<pre style=\"white-space:pre;overflow-x:auto;line-height:normal;font-family:Menlo,'DejaVu Sans Mono',consolas,'Courier New',monospace\"><span style=\"font-weight: bold\"> Total params: </span><span style=\"color: #00af00; text-decoration-color: #00af00\">13,985</span> (54.63 KB)\n",
              "</pre>\n"
            ]
          },
          "metadata": {}
        },
        {
          "output_type": "display_data",
          "data": {
            "text/plain": [
              "\u001b[1m Trainable params: \u001b[0m\u001b[38;5;34m13,985\u001b[0m (54.63 KB)\n"
            ],
            "text/html": [
              "<pre style=\"white-space:pre;overflow-x:auto;line-height:normal;font-family:Menlo,'DejaVu Sans Mono',consolas,'Courier New',monospace\"><span style=\"font-weight: bold\"> Trainable params: </span><span style=\"color: #00af00; text-decoration-color: #00af00\">13,985</span> (54.63 KB)\n",
              "</pre>\n"
            ]
          },
          "metadata": {}
        },
        {
          "output_type": "display_data",
          "data": {
            "text/plain": [
              "\u001b[1m Non-trainable params: \u001b[0m\u001b[38;5;34m0\u001b[0m (0.00 B)\n"
            ],
            "text/html": [
              "<pre style=\"white-space:pre;overflow-x:auto;line-height:normal;font-family:Menlo,'DejaVu Sans Mono',consolas,'Courier New',monospace\"><span style=\"font-weight: bold\"> Non-trainable params: </span><span style=\"color: #00af00; text-decoration-color: #00af00\">0</span> (0.00 B)\n",
              "</pre>\n"
            ]
          },
          "metadata": {}
        }
      ]
    },
    {
      "cell_type": "code",
      "source": [
        "model_lstm_2.fit(\n",
        "    x_train,\n",
        "    y_train,\n",
        "    validation_data=(x_val ,y_val),\n",
        "    epochs=20,\n",
        "    batch_size=42\n",
        ")"
      ],
      "metadata": {
        "colab": {
          "base_uri": "https://localhost:8080/"
        },
        "outputId": "18170429-f2a0-45fc-e9e2-09adc4a8039b",
        "id": "wkzJ2FIcHfIg"
      },
      "execution_count": null,
      "outputs": [
        {
          "output_type": "stream",
          "name": "stdout",
          "text": [
            "Epoch 1/20\n",
            "\u001b[1m14/14\u001b[0m \u001b[32m━━━━━━━━━━━━━━━━━━━━\u001b[0m\u001b[37m\u001b[0m \u001b[1m4s\u001b[0m 57ms/step - loss: 0.2365 - mean_absolute_error: 0.4518 - mean_absolute_percentage_error: 78.8555 - root_mean_squared_error: 0.4852 - val_loss: 0.1009 - val_mean_absolute_error: 0.3046 - val_mean_absolute_percentage_error: 45.2663 - val_root_mean_squared_error: 0.3177\n",
            "Epoch 2/20\n",
            "\u001b[1m14/14\u001b[0m \u001b[32m━━━━━━━━━━━━━━━━━━━━\u001b[0m\u001b[37m\u001b[0m \u001b[1m1s\u001b[0m 15ms/step - loss: 0.0464 - mean_absolute_error: 0.1756 - mean_absolute_percentage_error: 39.6472 - root_mean_squared_error: 0.2145 - val_loss: 0.0103 - val_mean_absolute_error: 0.0835 - val_mean_absolute_percentage_error: 12.4818 - val_root_mean_squared_error: 0.1016\n",
            "Epoch 3/20\n",
            "\u001b[1m14/14\u001b[0m \u001b[32m━━━━━━━━━━━━━━━━━━━━\u001b[0m\u001b[37m\u001b[0m \u001b[1m0s\u001b[0m 14ms/step - loss: 0.0265 - mean_absolute_error: 0.1328 - mean_absolute_percentage_error: 33.0299 - root_mean_squared_error: 0.1626 - val_loss: 0.0222 - val_mean_absolute_error: 0.1243 - val_mean_absolute_percentage_error: 17.7441 - val_root_mean_squared_error: 0.1490\n",
            "Epoch 4/20\n",
            "\u001b[1m14/14\u001b[0m \u001b[32m━━━━━━━━━━━━━━━━━━━━\u001b[0m\u001b[37m\u001b[0m \u001b[1m0s\u001b[0m 14ms/step - loss: 0.0245 - mean_absolute_error: 0.1266 - mean_absolute_percentage_error: 33.8850 - root_mean_squared_error: 0.1565 - val_loss: 0.0098 - val_mean_absolute_error: 0.0821 - val_mean_absolute_percentage_error: 12.5385 - val_root_mean_squared_error: 0.0988\n",
            "Epoch 5/20\n",
            "\u001b[1m14/14\u001b[0m \u001b[32m━━━━━━━━━━━━━━━━━━━━\u001b[0m\u001b[37m\u001b[0m \u001b[1m0s\u001b[0m 15ms/step - loss: 0.0210 - mean_absolute_error: 0.1145 - mean_absolute_percentage_error: 30.8650 - root_mean_squared_error: 0.1447 - val_loss: 0.0097 - val_mean_absolute_error: 0.0824 - val_mean_absolute_percentage_error: 12.5633 - val_root_mean_squared_error: 0.0984\n",
            "Epoch 6/20\n",
            "\u001b[1m14/14\u001b[0m \u001b[32m━━━━━━━━━━━━━━━━━━━━\u001b[0m\u001b[37m\u001b[0m \u001b[1m0s\u001b[0m 14ms/step - loss: 0.0186 - mean_absolute_error: 0.1069 - mean_absolute_percentage_error: 27.1107 - root_mean_squared_error: 0.1363 - val_loss: 0.0093 - val_mean_absolute_error: 0.0807 - val_mean_absolute_percentage_error: 12.7560 - val_root_mean_squared_error: 0.0966\n",
            "Epoch 7/20\n",
            "\u001b[1m14/14\u001b[0m \u001b[32m━━━━━━━━━━━━━━━━━━━━\u001b[0m\u001b[37m\u001b[0m \u001b[1m0s\u001b[0m 14ms/step - loss: 0.0200 - mean_absolute_error: 0.1112 - mean_absolute_percentage_error: 30.7591 - root_mean_squared_error: 0.1412 - val_loss: 0.0099 - val_mean_absolute_error: 0.0832 - val_mean_absolute_percentage_error: 13.3185 - val_root_mean_squared_error: 0.0997\n",
            "Epoch 8/20\n",
            "\u001b[1m14/14\u001b[0m \u001b[32m━━━━━━━━━━━━━━━━━━━━\u001b[0m\u001b[37m\u001b[0m \u001b[1m0s\u001b[0m 24ms/step - loss: 0.0192 - mean_absolute_error: 0.1085 - mean_absolute_percentage_error: 27.4666 - root_mean_squared_error: 0.1384 - val_loss: 0.0099 - val_mean_absolute_error: 0.0834 - val_mean_absolute_percentage_error: 13.2011 - val_root_mean_squared_error: 0.0995\n",
            "Epoch 9/20\n",
            "\u001b[1m14/14\u001b[0m \u001b[32m━━━━━━━━━━━━━━━━━━━━\u001b[0m\u001b[37m\u001b[0m \u001b[1m0s\u001b[0m 23ms/step - loss: 0.0177 - mean_absolute_error: 0.1034 - mean_absolute_percentage_error: 25.3467 - root_mean_squared_error: 0.1330 - val_loss: 0.0096 - val_mean_absolute_error: 0.0825 - val_mean_absolute_percentage_error: 13.0122 - val_root_mean_squared_error: 0.0982\n",
            "Epoch 10/20\n",
            "\u001b[1m14/14\u001b[0m \u001b[32m━━━━━━━━━━━━━━━━━━━━\u001b[0m\u001b[37m\u001b[0m \u001b[1m0s\u001b[0m 23ms/step - loss: 0.0176 - mean_absolute_error: 0.1032 - mean_absolute_percentage_error: 24.8166 - root_mean_squared_error: 0.1328 - val_loss: 0.0098 - val_mean_absolute_error: 0.0830 - val_mean_absolute_percentage_error: 13.1273 - val_root_mean_squared_error: 0.0990\n",
            "Epoch 11/20\n",
            "\u001b[1m14/14\u001b[0m \u001b[32m━━━━━━━━━━━━━━━━━━━━\u001b[0m\u001b[37m\u001b[0m \u001b[1m1s\u001b[0m 25ms/step - loss: 0.0176 - mean_absolute_error: 0.1031 - mean_absolute_percentage_error: 25.5983 - root_mean_squared_error: 0.1325 - val_loss: 0.0097 - val_mean_absolute_error: 0.0831 - val_mean_absolute_percentage_error: 12.9208 - val_root_mean_squared_error: 0.0986\n",
            "Epoch 12/20\n",
            "\u001b[1m14/14\u001b[0m \u001b[32m━━━━━━━━━━━━━━━━━━━━\u001b[0m\u001b[37m\u001b[0m \u001b[1m1s\u001b[0m 21ms/step - loss: 0.0173 - mean_absolute_error: 0.1023 - mean_absolute_percentage_error: 26.3291 - root_mean_squared_error: 0.1315 - val_loss: 0.0096 - val_mean_absolute_error: 0.0823 - val_mean_absolute_percentage_error: 12.9123 - val_root_mean_squared_error: 0.0979\n",
            "Epoch 13/20\n",
            "\u001b[1m14/14\u001b[0m \u001b[32m━━━━━━━━━━━━━━━━━━━━\u001b[0m\u001b[37m\u001b[0m \u001b[1m0s\u001b[0m 14ms/step - loss: 0.0180 - mean_absolute_error: 0.1051 - mean_absolute_percentage_error: 27.1465 - root_mean_squared_error: 0.1343 - val_loss: 0.0098 - val_mean_absolute_error: 0.0826 - val_mean_absolute_percentage_error: 13.2739 - val_root_mean_squared_error: 0.0992\n",
            "Epoch 14/20\n",
            "\u001b[1m14/14\u001b[0m \u001b[32m━━━━━━━━━━━━━━━━━━━━\u001b[0m\u001b[37m\u001b[0m \u001b[1m0s\u001b[0m 14ms/step - loss: 0.0168 - mean_absolute_error: 0.1006 - mean_absolute_percentage_error: 25.2544 - root_mean_squared_error: 0.1297 - val_loss: 0.0095 - val_mean_absolute_error: 0.0821 - val_mean_absolute_percentage_error: 12.8264 - val_root_mean_squared_error: 0.0976\n",
            "Epoch 15/20\n",
            "\u001b[1m14/14\u001b[0m \u001b[32m━━━━━━━━━━━━━━━━━━━━\u001b[0m\u001b[37m\u001b[0m \u001b[1m0s\u001b[0m 14ms/step - loss: 0.0166 - mean_absolute_error: 0.1007 - mean_absolute_percentage_error: 24.3658 - root_mean_squared_error: 0.1290 - val_loss: 0.0097 - val_mean_absolute_error: 0.0824 - val_mean_absolute_percentage_error: 13.1924 - val_root_mean_squared_error: 0.0986\n",
            "Epoch 16/20\n",
            "\u001b[1m14/14\u001b[0m \u001b[32m━━━━━━━━━━━━━━━━━━━━\u001b[0m\u001b[37m\u001b[0m \u001b[1m0s\u001b[0m 14ms/step - loss: 0.0161 - mean_absolute_error: 0.0981 - mean_absolute_percentage_error: 23.5878 - root_mean_squared_error: 0.1267 - val_loss: 0.0095 - val_mean_absolute_error: 0.0820 - val_mean_absolute_percentage_error: 12.8256 - val_root_mean_squared_error: 0.0976\n",
            "Epoch 17/20\n",
            "\u001b[1m14/14\u001b[0m \u001b[32m━━━━━━━━━━━━━━━━━━━━\u001b[0m\u001b[37m\u001b[0m \u001b[1m0s\u001b[0m 13ms/step - loss: 0.0166 - mean_absolute_error: 0.1002 - mean_absolute_percentage_error: 24.5772 - root_mean_squared_error: 0.1289 - val_loss: 0.0093 - val_mean_absolute_error: 0.0810 - val_mean_absolute_percentage_error: 12.9204 - val_root_mean_squared_error: 0.0966\n",
            "Epoch 18/20\n",
            "\u001b[1m14/14\u001b[0m \u001b[32m━━━━━━━━━━━━━━━━━━━━\u001b[0m\u001b[37m\u001b[0m \u001b[1m0s\u001b[0m 15ms/step - loss: 0.0164 - mean_absolute_error: 0.0994 - mean_absolute_percentage_error: 25.5431 - root_mean_squared_error: 0.1281 - val_loss: 0.0096 - val_mean_absolute_error: 0.0818 - val_mean_absolute_percentage_error: 13.1487 - val_root_mean_squared_error: 0.0979\n",
            "Epoch 19/20\n",
            "\u001b[1m14/14\u001b[0m \u001b[32m━━━━━━━━━━━━━━━━━━━━\u001b[0m\u001b[37m\u001b[0m \u001b[1m0s\u001b[0m 17ms/step - loss: 0.0159 - mean_absolute_error: 0.0980 - mean_absolute_percentage_error: 23.4586 - root_mean_squared_error: 0.1259 - val_loss: 0.0094 - val_mean_absolute_error: 0.0817 - val_mean_absolute_percentage_error: 12.7361 - val_root_mean_squared_error: 0.0971\n",
            "Epoch 20/20\n",
            "\u001b[1m14/14\u001b[0m \u001b[32m━━━━━━━━━━━━━━━━━━━━\u001b[0m\u001b[37m\u001b[0m \u001b[1m0s\u001b[0m 17ms/step - loss: 0.0161 - mean_absolute_error: 0.0990 - mean_absolute_percentage_error: 24.6035 - root_mean_squared_error: 0.1270 - val_loss: 0.0098 - val_mean_absolute_error: 0.0823 - val_mean_absolute_percentage_error: 13.3339 - val_root_mean_squared_error: 0.0988\n"
          ]
        },
        {
          "output_type": "execute_result",
          "data": {
            "text/plain": [
              "<keras.src.callbacks.history.History at 0x7b26e4d37990>"
            ]
          },
          "metadata": {},
          "execution_count": 80
        }
      ]
    },
    {
      "cell_type": "code",
      "source": [
        "y_pred = model_lstm_2.predict(x_test)"
      ],
      "metadata": {
        "colab": {
          "base_uri": "https://localhost:8080/"
        },
        "outputId": "a906cdf5-ea2c-492d-d436-c6c2ce9e850d",
        "id": "KTxDOnMAHfIg"
      },
      "execution_count": null,
      "outputs": [
        {
          "output_type": "stream",
          "name": "stdout",
          "text": [
            "\u001b[1m3/3\u001b[0m \u001b[32m━━━━━━━━━━━━━━━━━━━━\u001b[0m\u001b[37m\u001b[0m \u001b[1m1s\u001b[0m 256ms/step\n"
          ]
        }
      ]
    },
    {
      "cell_type": "code",
      "source": [
        "loss, mae, mape, rmse = model_lstm_2.evaluate(x_test, y_test)\n",
        "print(\"Mean Square Error:\", loss)\n",
        "print(\"Mean Absolute Error:\", mae)\n",
        "print(\"Mean Absolute Percentage Error:\", mape)\n",
        "print(\"Root Mean Squared Error:\", rmse)"
      ],
      "metadata": {
        "colab": {
          "base_uri": "https://localhost:8080/"
        },
        "outputId": "5dc6bba0-d128-49e8-fd8a-40c675736808",
        "id": "4XZO9Z-hHfIg"
      },
      "execution_count": null,
      "outputs": [
        {
          "output_type": "stream",
          "name": "stdout",
          "text": [
            "\u001b[1m3/3\u001b[0m \u001b[32m━━━━━━━━━━━━━━━━━━━━\u001b[0m\u001b[37m\u001b[0m \u001b[1m0s\u001b[0m 17ms/step - loss: 0.0293 - mean_absolute_error: 0.1370 - mean_absolute_percentage_error: 721152.4375 - root_mean_squared_error: 0.1704\n",
            "Mean Square Error: 0.03399365022778511\n",
            "Mean Absolute Error: 0.14878639578819275\n",
            "Mean Absolute Percentage Error: 1442276.875\n",
            "Root Mean Squared Error: 0.184373676776886\n"
          ]
        }
      ]
    },
    {
      "cell_type": "markdown",
      "source": [
        "## model 3 (LSTM=256. 32)"
      ],
      "metadata": {
        "id": "_7-IYxCfIAd5"
      }
    },
    {
      "cell_type": "code",
      "source": [
        "lr = 0.0003\n",
        "\n",
        "model_lstm_3 = Sequential()\n",
        "model_lstm_3.add(Input(shape=(x_train.shape[1], x_train.shape[2])))\n",
        "model_lstm_3.add(LSTM(256, activation='relu', return_sequences=True))\n",
        "model_lstm_3.add(LSTM(32, activation='relu'))\n",
        "model_lstm_3.add(Dense(1))\n",
        "model_lstm_3.compile(loss='mse', optimizer='adam', metrics=[metrics.MeanAbsoluteError(), metrics.MeanAbsolutePercentageError(), metrics.RootMeanSquaredError()])\n",
        "model_lstm_3.summary()"
      ],
      "metadata": {
        "colab": {
          "base_uri": "https://localhost:8080/",
          "height": 238
        },
        "outputId": "c9893779-abb7-4a8b-ec68-a686798c9758",
        "id": "FWy4E5U6IAd6"
      },
      "execution_count": null,
      "outputs": [
        {
          "output_type": "display_data",
          "data": {
            "text/plain": [
              "\u001b[1mModel: \"sequential_18\"\u001b[0m\n"
            ],
            "text/html": [
              "<pre style=\"white-space:pre;overflow-x:auto;line-height:normal;font-family:Menlo,'DejaVu Sans Mono',consolas,'Courier New',monospace\"><span style=\"font-weight: bold\">Model: \"sequential_18\"</span>\n",
              "</pre>\n"
            ]
          },
          "metadata": {}
        },
        {
          "output_type": "display_data",
          "data": {
            "text/plain": [
              "┏━━━━━━━━━━━━━━━━━━━━━━━━━━━━━━━━━┳━━━━━━━━━━━━━━━━━━━━━━━━┳━━━━━━━━━━━━━━━┓\n",
              "┃\u001b[1m \u001b[0m\u001b[1mLayer (type)                   \u001b[0m\u001b[1m \u001b[0m┃\u001b[1m \u001b[0m\u001b[1mOutput Shape          \u001b[0m\u001b[1m \u001b[0m┃\u001b[1m \u001b[0m\u001b[1m      Param #\u001b[0m\u001b[1m \u001b[0m┃\n",
              "┡━━━━━━━━━━━━━━━━━━━━━━━━━━━━━━━━━╇━━━━━━━━━━━━━━━━━━━━━━━━╇━━━━━━━━━━━━━━━┩\n",
              "│ lstm_14 (\u001b[38;5;33mLSTM\u001b[0m)                  │ (\u001b[38;5;45mNone\u001b[0m, \u001b[38;5;34m7\u001b[0m, \u001b[38;5;34m256\u001b[0m)         │       \u001b[38;5;34m274,432\u001b[0m │\n",
              "├─────────────────────────────────┼────────────────────────┼───────────────┤\n",
              "│ lstm_15 (\u001b[38;5;33mLSTM\u001b[0m)                  │ (\u001b[38;5;45mNone\u001b[0m, \u001b[38;5;34m32\u001b[0m)             │        \u001b[38;5;34m36,992\u001b[0m │\n",
              "├─────────────────────────────────┼────────────────────────┼───────────────┤\n",
              "│ dense_17 (\u001b[38;5;33mDense\u001b[0m)                │ (\u001b[38;5;45mNone\u001b[0m, \u001b[38;5;34m1\u001b[0m)              │            \u001b[38;5;34m33\u001b[0m │\n",
              "└─────────────────────────────────┴────────────────────────┴───────────────┘\n"
            ],
            "text/html": [
              "<pre style=\"white-space:pre;overflow-x:auto;line-height:normal;font-family:Menlo,'DejaVu Sans Mono',consolas,'Courier New',monospace\">┏━━━━━━━━━━━━━━━━━━━━━━━━━━━━━━━━━┳━━━━━━━━━━━━━━━━━━━━━━━━┳━━━━━━━━━━━━━━━┓\n",
              "┃<span style=\"font-weight: bold\"> Layer (type)                    </span>┃<span style=\"font-weight: bold\"> Output Shape           </span>┃<span style=\"font-weight: bold\">       Param # </span>┃\n",
              "┡━━━━━━━━━━━━━━━━━━━━━━━━━━━━━━━━━╇━━━━━━━━━━━━━━━━━━━━━━━━╇━━━━━━━━━━━━━━━┩\n",
              "│ lstm_14 (<span style=\"color: #0087ff; text-decoration-color: #0087ff\">LSTM</span>)                  │ (<span style=\"color: #00d7ff; text-decoration-color: #00d7ff\">None</span>, <span style=\"color: #00af00; text-decoration-color: #00af00\">7</span>, <span style=\"color: #00af00; text-decoration-color: #00af00\">256</span>)         │       <span style=\"color: #00af00; text-decoration-color: #00af00\">274,432</span> │\n",
              "├─────────────────────────────────┼────────────────────────┼───────────────┤\n",
              "│ lstm_15 (<span style=\"color: #0087ff; text-decoration-color: #0087ff\">LSTM</span>)                  │ (<span style=\"color: #00d7ff; text-decoration-color: #00d7ff\">None</span>, <span style=\"color: #00af00; text-decoration-color: #00af00\">32</span>)             │        <span style=\"color: #00af00; text-decoration-color: #00af00\">36,992</span> │\n",
              "├─────────────────────────────────┼────────────────────────┼───────────────┤\n",
              "│ dense_17 (<span style=\"color: #0087ff; text-decoration-color: #0087ff\">Dense</span>)                │ (<span style=\"color: #00d7ff; text-decoration-color: #00d7ff\">None</span>, <span style=\"color: #00af00; text-decoration-color: #00af00\">1</span>)              │            <span style=\"color: #00af00; text-decoration-color: #00af00\">33</span> │\n",
              "└─────────────────────────────────┴────────────────────────┴───────────────┘\n",
              "</pre>\n"
            ]
          },
          "metadata": {}
        },
        {
          "output_type": "display_data",
          "data": {
            "text/plain": [
              "\u001b[1m Total params: \u001b[0m\u001b[38;5;34m311,457\u001b[0m (1.19 MB)\n"
            ],
            "text/html": [
              "<pre style=\"white-space:pre;overflow-x:auto;line-height:normal;font-family:Menlo,'DejaVu Sans Mono',consolas,'Courier New',monospace\"><span style=\"font-weight: bold\"> Total params: </span><span style=\"color: #00af00; text-decoration-color: #00af00\">311,457</span> (1.19 MB)\n",
              "</pre>\n"
            ]
          },
          "metadata": {}
        },
        {
          "output_type": "display_data",
          "data": {
            "text/plain": [
              "\u001b[1m Trainable params: \u001b[0m\u001b[38;5;34m311,457\u001b[0m (1.19 MB)\n"
            ],
            "text/html": [
              "<pre style=\"white-space:pre;overflow-x:auto;line-height:normal;font-family:Menlo,'DejaVu Sans Mono',consolas,'Courier New',monospace\"><span style=\"font-weight: bold\"> Trainable params: </span><span style=\"color: #00af00; text-decoration-color: #00af00\">311,457</span> (1.19 MB)\n",
              "</pre>\n"
            ]
          },
          "metadata": {}
        },
        {
          "output_type": "display_data",
          "data": {
            "text/plain": [
              "\u001b[1m Non-trainable params: \u001b[0m\u001b[38;5;34m0\u001b[0m (0.00 B)\n"
            ],
            "text/html": [
              "<pre style=\"white-space:pre;overflow-x:auto;line-height:normal;font-family:Menlo,'DejaVu Sans Mono',consolas,'Courier New',monospace\"><span style=\"font-weight: bold\"> Non-trainable params: </span><span style=\"color: #00af00; text-decoration-color: #00af00\">0</span> (0.00 B)\n",
              "</pre>\n"
            ]
          },
          "metadata": {}
        }
      ]
    },
    {
      "cell_type": "code",
      "source": [
        "model_lstm_3.fit(\n",
        "    x_train,\n",
        "    y_train,\n",
        "    validation_data=(x_val ,y_val),\n",
        "    epochs=20,\n",
        "    batch_size=42\n",
        ")"
      ],
      "metadata": {
        "colab": {
          "base_uri": "https://localhost:8080/"
        },
        "outputId": "a6243f84-bd3f-4f83-c77c-503b086e972d",
        "id": "3Rbw_hKvIAd6"
      },
      "execution_count": null,
      "outputs": [
        {
          "output_type": "stream",
          "name": "stdout",
          "text": [
            "Epoch 1/20\n",
            "\u001b[1m14/14\u001b[0m \u001b[32m━━━━━━━━━━━━━━━━━━━━\u001b[0m\u001b[37m\u001b[0m \u001b[1m7s\u001b[0m 121ms/step - loss: 0.2062 - mean_absolute_error: 0.4060 - mean_absolute_percentage_error: 73.8303 - root_mean_squared_error: 0.4489 - val_loss: 0.0197 - val_mean_absolute_error: 0.1153 - val_mean_absolute_percentage_error: 19.3943 - val_root_mean_squared_error: 0.1402\n",
            "Epoch 2/20\n",
            "\u001b[1m14/14\u001b[0m \u001b[32m━━━━━━━━━━━━━━━━━━━━\u001b[0m\u001b[37m\u001b[0m \u001b[1m1s\u001b[0m 39ms/step - loss: 0.0258 - mean_absolute_error: 0.1302 - mean_absolute_percentage_error: 32.0922 - root_mean_squared_error: 0.1605 - val_loss: 0.0091 - val_mean_absolute_error: 0.0788 - val_mean_absolute_percentage_error: 12.6523 - val_root_mean_squared_error: 0.0955\n",
            "Epoch 3/20\n",
            "\u001b[1m14/14\u001b[0m \u001b[32m━━━━━━━━━━━━━━━━━━━━\u001b[0m\u001b[37m\u001b[0m \u001b[1m1s\u001b[0m 38ms/step - loss: 0.0210 - mean_absolute_error: 0.1130 - mean_absolute_percentage_error: 30.9737 - root_mean_squared_error: 0.1448 - val_loss: 0.0095 - val_mean_absolute_error: 0.0814 - val_mean_absolute_percentage_error: 12.3410 - val_root_mean_squared_error: 0.0973\n",
            "Epoch 4/20\n",
            "\u001b[1m14/14\u001b[0m \u001b[32m━━━━━━━━━━━━━━━━━━━━\u001b[0m\u001b[37m\u001b[0m \u001b[1m1s\u001b[0m 39ms/step - loss: 0.0200 - mean_absolute_error: 0.1135 - mean_absolute_percentage_error: 29.2963 - root_mean_squared_error: 0.1414 - val_loss: 0.0091 - val_mean_absolute_error: 0.0788 - val_mean_absolute_percentage_error: 12.6746 - val_root_mean_squared_error: 0.0955\n",
            "Epoch 5/20\n",
            "\u001b[1m14/14\u001b[0m \u001b[32m━━━━━━━━━━━━━━━━━━━━\u001b[0m\u001b[37m\u001b[0m \u001b[1m1s\u001b[0m 56ms/step - loss: 0.0183 - mean_absolute_error: 0.1067 - mean_absolute_percentage_error: 27.0337 - root_mean_squared_error: 0.1353 - val_loss: 0.0089 - val_mean_absolute_error: 0.0784 - val_mean_absolute_percentage_error: 12.4880 - val_root_mean_squared_error: 0.0944\n",
            "Epoch 6/20\n",
            "\u001b[1m14/14\u001b[0m \u001b[32m━━━━━━━━━━━━━━━━━━━━\u001b[0m\u001b[37m\u001b[0m \u001b[1m1s\u001b[0m 59ms/step - loss: 0.0183 - mean_absolute_error: 0.1066 - mean_absolute_percentage_error: 25.9756 - root_mean_squared_error: 0.1354 - val_loss: 0.0090 - val_mean_absolute_error: 0.0789 - val_mean_absolute_percentage_error: 12.4761 - val_root_mean_squared_error: 0.0947\n",
            "Epoch 7/20\n",
            "\u001b[1m14/14\u001b[0m \u001b[32m━━━━━━━━━━━━━━━━━━━━\u001b[0m\u001b[37m\u001b[0m \u001b[1m1s\u001b[0m 63ms/step - loss: 0.0190 - mean_absolute_error: 0.1083 - mean_absolute_percentage_error: 26.9045 - root_mean_squared_error: 0.1379 - val_loss: 0.0090 - val_mean_absolute_error: 0.0789 - val_mean_absolute_percentage_error: 12.5412 - val_root_mean_squared_error: 0.0949\n",
            "Epoch 8/20\n",
            "\u001b[1m14/14\u001b[0m \u001b[32m━━━━━━━━━━━━━━━━━━━━\u001b[0m\u001b[37m\u001b[0m \u001b[1m1s\u001b[0m 37ms/step - loss: 0.0175 - mean_absolute_error: 0.1029 - mean_absolute_percentage_error: 25.3863 - root_mean_squared_error: 0.1321 - val_loss: 0.0089 - val_mean_absolute_error: 0.0794 - val_mean_absolute_percentage_error: 12.3500 - val_root_mean_squared_error: 0.0945\n",
            "Epoch 9/20\n",
            "\u001b[1m14/14\u001b[0m \u001b[32m━━━━━━━━━━━━━━━━━━━━\u001b[0m\u001b[37m\u001b[0m \u001b[1m1s\u001b[0m 40ms/step - loss: 0.0178 - mean_absolute_error: 0.1044 - mean_absolute_percentage_error: 25.5954 - root_mean_squared_error: 0.1336 - val_loss: 0.0094 - val_mean_absolute_error: 0.0819 - val_mean_absolute_percentage_error: 12.5020 - val_root_mean_squared_error: 0.0972\n",
            "Epoch 10/20\n",
            "\u001b[1m14/14\u001b[0m \u001b[32m━━━━━━━━━━━━━━━━━━━━\u001b[0m\u001b[37m\u001b[0m \u001b[1m1s\u001b[0m 37ms/step - loss: 0.0183 - mean_absolute_error: 0.1065 - mean_absolute_percentage_error: 26.2448 - root_mean_squared_error: 0.1351 - val_loss: 0.0094 - val_mean_absolute_error: 0.0820 - val_mean_absolute_percentage_error: 12.4958 - val_root_mean_squared_error: 0.0972\n",
            "Epoch 11/20\n",
            "\u001b[1m14/14\u001b[0m \u001b[32m━━━━━━━━━━━━━━━━━━━━\u001b[0m\u001b[37m\u001b[0m \u001b[1m1s\u001b[0m 38ms/step - loss: 0.0182 - mean_absolute_error: 0.1061 - mean_absolute_percentage_error: 28.4757 - root_mean_squared_error: 0.1348 - val_loss: 0.0089 - val_mean_absolute_error: 0.0784 - val_mean_absolute_percentage_error: 12.5951 - val_root_mean_squared_error: 0.0944\n",
            "Epoch 12/20\n",
            "\u001b[1m14/14\u001b[0m \u001b[32m━━━━━━━━━━━━━━━━━━━━\u001b[0m\u001b[37m\u001b[0m \u001b[1m1s\u001b[0m 37ms/step - loss: 0.0176 - mean_absolute_error: 0.1042 - mean_absolute_percentage_error: 26.2603 - root_mean_squared_error: 0.1325 - val_loss: 0.0089 - val_mean_absolute_error: 0.0782 - val_mean_absolute_percentage_error: 12.5648 - val_root_mean_squared_error: 0.0941\n",
            "Epoch 13/20\n",
            "\u001b[1m14/14\u001b[0m \u001b[32m━━━━━━━━━━━━━━━━━━━━\u001b[0m\u001b[37m\u001b[0m \u001b[1m1s\u001b[0m 37ms/step - loss: 0.0169 - mean_absolute_error: 0.1013 - mean_absolute_percentage_error: 25.4481 - root_mean_squared_error: 0.1299 - val_loss: 0.0090 - val_mean_absolute_error: 0.0803 - val_mean_absolute_percentage_error: 12.3381 - val_root_mean_squared_error: 0.0949\n",
            "Epoch 14/20\n",
            "\u001b[1m14/14\u001b[0m \u001b[32m━━━━━━━━━━━━━━━━━━━━\u001b[0m\u001b[37m\u001b[0m \u001b[1m1s\u001b[0m 41ms/step - loss: 0.0175 - mean_absolute_error: 0.1033 - mean_absolute_percentage_error: 25.1315 - root_mean_squared_error: 0.1323 - val_loss: 0.0087 - val_mean_absolute_error: 0.0787 - val_mean_absolute_percentage_error: 12.4069 - val_root_mean_squared_error: 0.0935\n",
            "Epoch 15/20\n",
            "\u001b[1m14/14\u001b[0m \u001b[32m━━━━━━━━━━━━━━━━━━━━\u001b[0m\u001b[37m\u001b[0m \u001b[1m1s\u001b[0m 37ms/step - loss: 0.0170 - mean_absolute_error: 0.1015 - mean_absolute_percentage_error: 25.9014 - root_mean_squared_error: 0.1303 - val_loss: 0.0087 - val_mean_absolute_error: 0.0782 - val_mean_absolute_percentage_error: 12.4374 - val_root_mean_squared_error: 0.0930\n",
            "Epoch 16/20\n",
            "\u001b[1m14/14\u001b[0m \u001b[32m━━━━━━━━━━━━━━━━━━━━\u001b[0m\u001b[37m\u001b[0m \u001b[1m1s\u001b[0m 39ms/step - loss: 0.0164 - mean_absolute_error: 0.1002 - mean_absolute_percentage_error: 24.8433 - root_mean_squared_error: 0.1282 - val_loss: 0.0099 - val_mean_absolute_error: 0.0844 - val_mean_absolute_percentage_error: 12.7584 - val_root_mean_squared_error: 0.0994\n",
            "Epoch 17/20\n",
            "\u001b[1m14/14\u001b[0m \u001b[32m━━━━━━━━━━━━━━━━━━━━\u001b[0m\u001b[37m\u001b[0m \u001b[1m1s\u001b[0m 37ms/step - loss: 0.0163 - mean_absolute_error: 0.0994 - mean_absolute_percentage_error: 23.7189 - root_mean_squared_error: 0.1278 - val_loss: 0.0112 - val_mean_absolute_error: 0.0861 - val_mean_absolute_percentage_error: 14.2126 - val_root_mean_squared_error: 0.1057\n",
            "Epoch 18/20\n",
            "\u001b[1m14/14\u001b[0m \u001b[32m━━━━━━━━━━━━━━━━━━━━\u001b[0m\u001b[37m\u001b[0m \u001b[1m1s\u001b[0m 39ms/step - loss: 0.0170 - mean_absolute_error: 0.1021 - mean_absolute_percentage_error: 25.5989 - root_mean_squared_error: 0.1303 - val_loss: 0.0092 - val_mean_absolute_error: 0.0818 - val_mean_absolute_percentage_error: 12.4646 - val_root_mean_squared_error: 0.0959\n",
            "Epoch 19/20\n",
            "\u001b[1m14/14\u001b[0m \u001b[32m━━━━━━━━━━━━━━━━━━━━\u001b[0m\u001b[37m\u001b[0m \u001b[1m1s\u001b[0m 39ms/step - loss: 0.0158 - mean_absolute_error: 0.0974 - mean_absolute_percentage_error: 23.9836 - root_mean_squared_error: 0.1257 - val_loss: 0.0088 - val_mean_absolute_error: 0.0798 - val_mean_absolute_percentage_error: 12.4204 - val_root_mean_squared_error: 0.0937\n",
            "Epoch 20/20\n",
            "\u001b[1m14/14\u001b[0m \u001b[32m━━━━━━━━━━━━━━━━━━━━\u001b[0m\u001b[37m\u001b[0m \u001b[1m1s\u001b[0m 38ms/step - loss: 0.0159 - mean_absolute_error: 0.0979 - mean_absolute_percentage_error: 23.5425 - root_mean_squared_error: 0.1261 - val_loss: 0.0089 - val_mean_absolute_error: 0.0800 - val_mean_absolute_percentage_error: 12.3933 - val_root_mean_squared_error: 0.0945\n"
          ]
        },
        {
          "output_type": "execute_result",
          "data": {
            "text/plain": [
              "<keras.src.callbacks.history.History at 0x7b26e338e690>"
            ]
          },
          "metadata": {},
          "execution_count": 86
        }
      ]
    },
    {
      "cell_type": "code",
      "source": [
        "y_pred = model_lstm_3.predict(x_test)"
      ],
      "metadata": {
        "colab": {
          "base_uri": "https://localhost:8080/"
        },
        "outputId": "e758d9a3-646e-4b48-e1fb-67cfca71a153",
        "id": "V8WeyVJQIAd6"
      },
      "execution_count": null,
      "outputs": [
        {
          "output_type": "stream",
          "name": "stdout",
          "text": [
            "\u001b[1m3/3\u001b[0m \u001b[32m━━━━━━━━━━━━━━━━━━━━\u001b[0m\u001b[37m\u001b[0m \u001b[1m1s\u001b[0m 167ms/step\n"
          ]
        }
      ]
    },
    {
      "cell_type": "code",
      "source": [
        "loss, mae, mape, rmse = model_lstm_3.evaluate(x_test, y_test)\n",
        "print(\"Mean Square Error:\", loss)\n",
        "print(\"Mean Absolute Error:\", mae)\n",
        "print(\"Mean Absolute Percentage Error:\", mape)\n",
        "print(\"Root Mean Squared Error:\", rmse)"
      ],
      "metadata": {
        "colab": {
          "base_uri": "https://localhost:8080/"
        },
        "outputId": "c3775abc-725e-4d74-bc2e-28c51ee088d6",
        "id": "Oxtz-rcdIAd6"
      },
      "execution_count": null,
      "outputs": [
        {
          "output_type": "stream",
          "name": "stdout",
          "text": [
            "\u001b[1m3/3\u001b[0m \u001b[32m━━━━━━━━━━━━━━━━━━━━\u001b[0m\u001b[37m\u001b[0m \u001b[1m0s\u001b[0m 18ms/step - loss: 0.0270 - mean_absolute_error: 0.1274 - mean_absolute_percentage_error: 678019.0000 - root_mean_squared_error: 0.1636\n",
            "Mean Square Error: 0.030799882486462593\n",
            "Mean Absolute Error: 0.13815176486968994\n",
            "Mean Absolute Percentage Error: 1356012.625\n",
            "Root Mean Squared Error: 0.17549894750118256\n"
          ]
        }
      ]
    },
    {
      "cell_type": "markdown",
      "source": [
        "## model 4 (LSTM=256. 64)"
      ],
      "metadata": {
        "id": "tA_1KMIDIRgU"
      }
    },
    {
      "cell_type": "code",
      "source": [
        "lr = 0.0003\n",
        "\n",
        "model_lstm_4 = Sequential()\n",
        "model_lstm_4.add(Input(shape=(x_train.shape[1], x_train.shape[2])))\n",
        "model_lstm_4.add(LSTM(256, activation='relu', return_sequences=True))\n",
        "model_lstm_4.add(LSTM(64, activation='relu'))\n",
        "model_lstm_4.add(Dense(1))\n",
        "model_lstm_4.compile(loss='mse', optimizer='adam', metrics=[metrics.MeanAbsoluteError(), metrics.MeanAbsolutePercentageError(), metrics.RootMeanSquaredError()])\n",
        "model_lstm_4.summary()"
      ],
      "metadata": {
        "colab": {
          "base_uri": "https://localhost:8080/",
          "height": 238
        },
        "outputId": "68e8dcfe-5fcd-4255-a2b8-3518d248c5b1",
        "id": "hBQnMF9oIRgV"
      },
      "execution_count": null,
      "outputs": [
        {
          "output_type": "display_data",
          "data": {
            "text/plain": [
              "\u001b[1mModel: \"sequential_19\"\u001b[0m\n"
            ],
            "text/html": [
              "<pre style=\"white-space:pre;overflow-x:auto;line-height:normal;font-family:Menlo,'DejaVu Sans Mono',consolas,'Courier New',monospace\"><span style=\"font-weight: bold\">Model: \"sequential_19\"</span>\n",
              "</pre>\n"
            ]
          },
          "metadata": {}
        },
        {
          "output_type": "display_data",
          "data": {
            "text/plain": [
              "┏━━━━━━━━━━━━━━━━━━━━━━━━━━━━━━━━━┳━━━━━━━━━━━━━━━━━━━━━━━━┳━━━━━━━━━━━━━━━┓\n",
              "┃\u001b[1m \u001b[0m\u001b[1mLayer (type)                   \u001b[0m\u001b[1m \u001b[0m┃\u001b[1m \u001b[0m\u001b[1mOutput Shape          \u001b[0m\u001b[1m \u001b[0m┃\u001b[1m \u001b[0m\u001b[1m      Param #\u001b[0m\u001b[1m \u001b[0m┃\n",
              "┡━━━━━━━━━━━━━━━━━━━━━━━━━━━━━━━━━╇━━━━━━━━━━━━━━━━━━━━━━━━╇━━━━━━━━━━━━━━━┩\n",
              "│ lstm_16 (\u001b[38;5;33mLSTM\u001b[0m)                  │ (\u001b[38;5;45mNone\u001b[0m, \u001b[38;5;34m7\u001b[0m, \u001b[38;5;34m256\u001b[0m)         │       \u001b[38;5;34m274,432\u001b[0m │\n",
              "├─────────────────────────────────┼────────────────────────┼───────────────┤\n",
              "│ lstm_17 (\u001b[38;5;33mLSTM\u001b[0m)                  │ (\u001b[38;5;45mNone\u001b[0m, \u001b[38;5;34m64\u001b[0m)             │        \u001b[38;5;34m82,176\u001b[0m │\n",
              "├─────────────────────────────────┼────────────────────────┼───────────────┤\n",
              "│ dense_18 (\u001b[38;5;33mDense\u001b[0m)                │ (\u001b[38;5;45mNone\u001b[0m, \u001b[38;5;34m1\u001b[0m)              │            \u001b[38;5;34m65\u001b[0m │\n",
              "└─────────────────────────────────┴────────────────────────┴───────────────┘\n"
            ],
            "text/html": [
              "<pre style=\"white-space:pre;overflow-x:auto;line-height:normal;font-family:Menlo,'DejaVu Sans Mono',consolas,'Courier New',monospace\">┏━━━━━━━━━━━━━━━━━━━━━━━━━━━━━━━━━┳━━━━━━━━━━━━━━━━━━━━━━━━┳━━━━━━━━━━━━━━━┓\n",
              "┃<span style=\"font-weight: bold\"> Layer (type)                    </span>┃<span style=\"font-weight: bold\"> Output Shape           </span>┃<span style=\"font-weight: bold\">       Param # </span>┃\n",
              "┡━━━━━━━━━━━━━━━━━━━━━━━━━━━━━━━━━╇━━━━━━━━━━━━━━━━━━━━━━━━╇━━━━━━━━━━━━━━━┩\n",
              "│ lstm_16 (<span style=\"color: #0087ff; text-decoration-color: #0087ff\">LSTM</span>)                  │ (<span style=\"color: #00d7ff; text-decoration-color: #00d7ff\">None</span>, <span style=\"color: #00af00; text-decoration-color: #00af00\">7</span>, <span style=\"color: #00af00; text-decoration-color: #00af00\">256</span>)         │       <span style=\"color: #00af00; text-decoration-color: #00af00\">274,432</span> │\n",
              "├─────────────────────────────────┼────────────────────────┼───────────────┤\n",
              "│ lstm_17 (<span style=\"color: #0087ff; text-decoration-color: #0087ff\">LSTM</span>)                  │ (<span style=\"color: #00d7ff; text-decoration-color: #00d7ff\">None</span>, <span style=\"color: #00af00; text-decoration-color: #00af00\">64</span>)             │        <span style=\"color: #00af00; text-decoration-color: #00af00\">82,176</span> │\n",
              "├─────────────────────────────────┼────────────────────────┼───────────────┤\n",
              "│ dense_18 (<span style=\"color: #0087ff; text-decoration-color: #0087ff\">Dense</span>)                │ (<span style=\"color: #00d7ff; text-decoration-color: #00d7ff\">None</span>, <span style=\"color: #00af00; text-decoration-color: #00af00\">1</span>)              │            <span style=\"color: #00af00; text-decoration-color: #00af00\">65</span> │\n",
              "└─────────────────────────────────┴────────────────────────┴───────────────┘\n",
              "</pre>\n"
            ]
          },
          "metadata": {}
        },
        {
          "output_type": "display_data",
          "data": {
            "text/plain": [
              "\u001b[1m Total params: \u001b[0m\u001b[38;5;34m356,673\u001b[0m (1.36 MB)\n"
            ],
            "text/html": [
              "<pre style=\"white-space:pre;overflow-x:auto;line-height:normal;font-family:Menlo,'DejaVu Sans Mono',consolas,'Courier New',monospace\"><span style=\"font-weight: bold\"> Total params: </span><span style=\"color: #00af00; text-decoration-color: #00af00\">356,673</span> (1.36 MB)\n",
              "</pre>\n"
            ]
          },
          "metadata": {}
        },
        {
          "output_type": "display_data",
          "data": {
            "text/plain": [
              "\u001b[1m Trainable params: \u001b[0m\u001b[38;5;34m356,673\u001b[0m (1.36 MB)\n"
            ],
            "text/html": [
              "<pre style=\"white-space:pre;overflow-x:auto;line-height:normal;font-family:Menlo,'DejaVu Sans Mono',consolas,'Courier New',monospace\"><span style=\"font-weight: bold\"> Trainable params: </span><span style=\"color: #00af00; text-decoration-color: #00af00\">356,673</span> (1.36 MB)\n",
              "</pre>\n"
            ]
          },
          "metadata": {}
        },
        {
          "output_type": "display_data",
          "data": {
            "text/plain": [
              "\u001b[1m Non-trainable params: \u001b[0m\u001b[38;5;34m0\u001b[0m (0.00 B)\n"
            ],
            "text/html": [
              "<pre style=\"white-space:pre;overflow-x:auto;line-height:normal;font-family:Menlo,'DejaVu Sans Mono',consolas,'Courier New',monospace\"><span style=\"font-weight: bold\"> Non-trainable params: </span><span style=\"color: #00af00; text-decoration-color: #00af00\">0</span> (0.00 B)\n",
              "</pre>\n"
            ]
          },
          "metadata": {}
        }
      ]
    },
    {
      "cell_type": "code",
      "source": [
        "model_lstm_4.fit(\n",
        "    x_train,\n",
        "    y_train,\n",
        "    validation_data=(x_val ,y_val),\n",
        "    epochs=20,\n",
        "    batch_size=42\n",
        ")"
      ],
      "metadata": {
        "colab": {
          "base_uri": "https://localhost:8080/"
        },
        "outputId": "eabb2c06-c8ae-4570-cdb6-171dce64de1b",
        "id": "l_jE6ALBIRgV"
      },
      "execution_count": null,
      "outputs": [
        {
          "output_type": "stream",
          "name": "stdout",
          "text": [
            "Epoch 1/20\n",
            "\u001b[1m14/14\u001b[0m \u001b[32m━━━━━━━━━━━━━━━━━━━━\u001b[0m\u001b[37m\u001b[0m \u001b[1m5s\u001b[0m 81ms/step - loss: 0.1734 - mean_absolute_error: 0.3521 - mean_absolute_percentage_error: 66.0698 - root_mean_squared_error: 0.4076 - val_loss: 0.0183 - val_mean_absolute_error: 0.1119 - val_mean_absolute_percentage_error: 15.9896 - val_root_mean_squared_error: 0.1354\n",
            "Epoch 2/20\n",
            "\u001b[1m14/14\u001b[0m \u001b[32m━━━━━━━━━━━━━━━━━━━━\u001b[0m\u001b[37m\u001b[0m \u001b[1m1s\u001b[0m 40ms/step - loss: 0.0317 - mean_absolute_error: 0.1481 - mean_absolute_percentage_error: 31.1813 - root_mean_squared_error: 0.1779 - val_loss: 0.0136 - val_mean_absolute_error: 0.0937 - val_mean_absolute_percentage_error: 15.7282 - val_root_mean_squared_error: 0.1166\n",
            "Epoch 3/20\n",
            "\u001b[1m14/14\u001b[0m \u001b[32m━━━━━━━━━━━━━━━━━━━━\u001b[0m\u001b[37m\u001b[0m \u001b[1m1s\u001b[0m 40ms/step - loss: 0.0226 - mean_absolute_error: 0.1174 - mean_absolute_percentage_error: 32.3151 - root_mean_squared_error: 0.1504 - val_loss: 0.0096 - val_mean_absolute_error: 0.0823 - val_mean_absolute_percentage_error: 12.4434 - val_root_mean_squared_error: 0.0982\n",
            "Epoch 4/20\n",
            "\u001b[1m14/14\u001b[0m \u001b[32m━━━━━━━━━━━━━━━━━━━━\u001b[0m\u001b[37m\u001b[0m \u001b[1m1s\u001b[0m 39ms/step - loss: 0.0193 - mean_absolute_error: 0.1099 - mean_absolute_percentage_error: 28.8042 - root_mean_squared_error: 0.1390 - val_loss: 0.0090 - val_mean_absolute_error: 0.0792 - val_mean_absolute_percentage_error: 12.3768 - val_root_mean_squared_error: 0.0950\n",
            "Epoch 5/20\n",
            "\u001b[1m14/14\u001b[0m \u001b[32m━━━━━━━━━━━━━━━━━━━━\u001b[0m\u001b[37m\u001b[0m \u001b[1m1s\u001b[0m 40ms/step - loss: 0.0180 - mean_absolute_error: 0.1053 - mean_absolute_percentage_error: 26.7754 - root_mean_squared_error: 0.1340 - val_loss: 0.0091 - val_mean_absolute_error: 0.0792 - val_mean_absolute_percentage_error: 12.5613 - val_root_mean_squared_error: 0.0955\n",
            "Epoch 6/20\n",
            "\u001b[1m14/14\u001b[0m \u001b[32m━━━━━━━━━━━━━━━━━━━━\u001b[0m\u001b[37m\u001b[0m \u001b[1m1s\u001b[0m 41ms/step - loss: 0.0190 - mean_absolute_error: 0.1071 - mean_absolute_percentage_error: 26.9618 - root_mean_squared_error: 0.1378 - val_loss: 0.0091 - val_mean_absolute_error: 0.0791 - val_mean_absolute_percentage_error: 12.6111 - val_root_mean_squared_error: 0.0956\n",
            "Epoch 7/20\n",
            "\u001b[1m14/14\u001b[0m \u001b[32m━━━━━━━━━━━━━━━━━━━━\u001b[0m\u001b[37m\u001b[0m \u001b[1m1s\u001b[0m 73ms/step - loss: 0.0179 - mean_absolute_error: 0.1052 - mean_absolute_percentage_error: 25.3214 - root_mean_squared_error: 0.1339 - val_loss: 0.0092 - val_mean_absolute_error: 0.0803 - val_mean_absolute_percentage_error: 12.4278 - val_root_mean_squared_error: 0.0958\n",
            "Epoch 8/20\n",
            "\u001b[1m14/14\u001b[0m \u001b[32m━━━━━━━━━━━━━━━━━━━━\u001b[0m\u001b[37m\u001b[0m \u001b[1m2s\u001b[0m 91ms/step - loss: 0.0180 - mean_absolute_error: 0.1050 - mean_absolute_percentage_error: 25.9237 - root_mean_squared_error: 0.1342 - val_loss: 0.0089 - val_mean_absolute_error: 0.0788 - val_mean_absolute_percentage_error: 12.3375 - val_root_mean_squared_error: 0.0941\n",
            "Epoch 9/20\n",
            "\u001b[1m14/14\u001b[0m \u001b[32m━━━━━━━━━━━━━━━━━━━━\u001b[0m\u001b[37m\u001b[0m \u001b[1m2s\u001b[0m 105ms/step - loss: 0.0187 - mean_absolute_error: 0.1068 - mean_absolute_percentage_error: 27.6430 - root_mean_squared_error: 0.1369 - val_loss: 0.0094 - val_mean_absolute_error: 0.0795 - val_mean_absolute_percentage_error: 12.8907 - val_root_mean_squared_error: 0.0969\n",
            "Epoch 10/20\n",
            "\u001b[1m14/14\u001b[0m \u001b[32m━━━━━━━━━━━━━━━━━━━━\u001b[0m\u001b[37m\u001b[0m \u001b[1m1s\u001b[0m 94ms/step - loss: 0.0171 - mean_absolute_error: 0.1023 - mean_absolute_percentage_error: 25.3408 - root_mean_squared_error: 0.1307 - val_loss: 0.0088 - val_mean_absolute_error: 0.0780 - val_mean_absolute_percentage_error: 12.3975 - val_root_mean_squared_error: 0.0938\n",
            "Epoch 11/20\n",
            "\u001b[1m14/14\u001b[0m \u001b[32m━━━━━━━━━━━━━━━━━━━━\u001b[0m\u001b[37m\u001b[0m \u001b[1m3s\u001b[0m 115ms/step - loss: 0.0173 - mean_absolute_error: 0.1038 - mean_absolute_percentage_error: 25.6840 - root_mean_squared_error: 0.1316 - val_loss: 0.0103 - val_mean_absolute_error: 0.0826 - val_mean_absolute_percentage_error: 13.6163 - val_root_mean_squared_error: 0.1015\n",
            "Epoch 12/20\n",
            "\u001b[1m14/14\u001b[0m \u001b[32m━━━━━━━━━━━━━━━━━━━━\u001b[0m\u001b[37m\u001b[0m \u001b[1m1s\u001b[0m 47ms/step - loss: 0.0173 - mean_absolute_error: 0.1032 - mean_absolute_percentage_error: 25.4937 - root_mean_squared_error: 0.1314 - val_loss: 0.0090 - val_mean_absolute_error: 0.0798 - val_mean_absolute_percentage_error: 12.3227 - val_root_mean_squared_error: 0.0947\n",
            "Epoch 13/20\n",
            "\u001b[1m14/14\u001b[0m \u001b[32m━━━━━━━━━━━━━━━━━━━━\u001b[0m\u001b[37m\u001b[0m \u001b[1m2s\u001b[0m 92ms/step - loss: 0.0166 - mean_absolute_error: 0.1008 - mean_absolute_percentage_error: 24.3156 - root_mean_squared_error: 0.1290 - val_loss: 0.0096 - val_mean_absolute_error: 0.0829 - val_mean_absolute_percentage_error: 12.5897 - val_root_mean_squared_error: 0.0980\n",
            "Epoch 14/20\n",
            "\u001b[1m14/14\u001b[0m \u001b[32m━━━━━━━━━━━━━━━━━━━━\u001b[0m\u001b[37m\u001b[0m \u001b[1m1s\u001b[0m 63ms/step - loss: 0.0165 - mean_absolute_error: 0.1004 - mean_absolute_percentage_error: 25.0108 - root_mean_squared_error: 0.1285 - val_loss: 0.0089 - val_mean_absolute_error: 0.0785 - val_mean_absolute_percentage_error: 12.5285 - val_root_mean_squared_error: 0.0944\n",
            "Epoch 15/20\n",
            "\u001b[1m14/14\u001b[0m \u001b[32m━━━━━━━━━━━━━━━━━━━━\u001b[0m\u001b[37m\u001b[0m \u001b[1m1s\u001b[0m 59ms/step - loss: 0.0161 - mean_absolute_error: 0.0993 - mean_absolute_percentage_error: 24.3018 - root_mean_squared_error: 0.1270 - val_loss: 0.0092 - val_mean_absolute_error: 0.0809 - val_mean_absolute_percentage_error: 12.4883 - val_root_mean_squared_error: 0.0959\n",
            "Epoch 16/20\n",
            "\u001b[1m14/14\u001b[0m \u001b[32m━━━━━━━━━━━━━━━━━━━━\u001b[0m\u001b[37m\u001b[0m \u001b[1m2s\u001b[0m 79ms/step - loss: 0.0164 - mean_absolute_error: 0.1000 - mean_absolute_percentage_error: 24.1899 - root_mean_squared_error: 0.1280 - val_loss: 0.0089 - val_mean_absolute_error: 0.0796 - val_mean_absolute_percentage_error: 12.4211 - val_root_mean_squared_error: 0.0946\n",
            "Epoch 17/20\n",
            "\u001b[1m14/14\u001b[0m \u001b[32m━━━━━━━━━━━━━━━━━━━━\u001b[0m\u001b[37m\u001b[0m \u001b[1m2s\u001b[0m 114ms/step - loss: 0.0150 - mean_absolute_error: 0.0949 - mean_absolute_percentage_error: 23.6484 - root_mean_squared_error: 0.1226 - val_loss: 0.0090 - val_mean_absolute_error: 0.0794 - val_mean_absolute_percentage_error: 12.4624 - val_root_mean_squared_error: 0.0950\n",
            "Epoch 18/20\n",
            "\u001b[1m14/14\u001b[0m \u001b[32m━━━━━━━━━━━━━━━━━━━━\u001b[0m\u001b[37m\u001b[0m \u001b[1m2s\u001b[0m 126ms/step - loss: 0.0142 - mean_absolute_error: 0.0923 - mean_absolute_percentage_error: 22.6695 - root_mean_squared_error: 0.1190 - val_loss: 0.0100 - val_mean_absolute_error: 0.0839 - val_mean_absolute_percentage_error: 12.7747 - val_root_mean_squared_error: 0.0999\n",
            "Epoch 19/20\n",
            "\u001b[1m14/14\u001b[0m \u001b[32m━━━━━━━━━━━━━━━━━━━━\u001b[0m\u001b[37m\u001b[0m \u001b[1m1s\u001b[0m 49ms/step - loss: 0.0150 - mean_absolute_error: 0.0952 - mean_absolute_percentage_error: 22.9239 - root_mean_squared_error: 0.1223 - val_loss: 0.0095 - val_mean_absolute_error: 0.0801 - val_mean_absolute_percentage_error: 12.9365 - val_root_mean_squared_error: 0.0975\n",
            "Epoch 20/20\n",
            "\u001b[1m14/14\u001b[0m \u001b[32m━━━━━━━━━━━━━━━━━━━━\u001b[0m\u001b[37m\u001b[0m \u001b[1m1s\u001b[0m 98ms/step - loss: 0.0147 - mean_absolute_error: 0.0938 - mean_absolute_percentage_error: 23.5080 - root_mean_squared_error: 0.1210 - val_loss: 0.0113 - val_mean_absolute_error: 0.0891 - val_mean_absolute_percentage_error: 13.3325 - val_root_mean_squared_error: 0.1062\n"
          ]
        },
        {
          "output_type": "execute_result",
          "data": {
            "text/plain": [
              "<keras.src.callbacks.history.History at 0x7b26e32dc9d0>"
            ]
          },
          "metadata": {},
          "execution_count": 92
        }
      ]
    },
    {
      "cell_type": "code",
      "source": [
        "y_pred = model_lstm_4.predict(x_test)"
      ],
      "metadata": {
        "colab": {
          "base_uri": "https://localhost:8080/"
        },
        "outputId": "83cf6757-0730-4e9d-e054-34e1b1905507",
        "id": "gMIZa3OsIRgV"
      },
      "execution_count": null,
      "outputs": [
        {
          "output_type": "stream",
          "name": "stdout",
          "text": [
            "\u001b[1m3/3\u001b[0m \u001b[32m━━━━━━━━━━━━━━━━━━━━\u001b[0m\u001b[37m\u001b[0m \u001b[1m1s\u001b[0m 168ms/step\n"
          ]
        }
      ]
    },
    {
      "cell_type": "code",
      "source": [
        "loss, mae, mape, rmse = model_lstm_4.evaluate(x_test, y_test)\n",
        "print(\"LSTM Only 256 & 64\")\n",
        "print(\"Mean Square Error:\", loss)\n",
        "print(\"Mean Absolute Error:\", mae)\n",
        "print(\"Mean Absolute Percentage Error:\", mape)\n",
        "print(\"Root Mean Squared Error:\", rmse)"
      ],
      "metadata": {
        "colab": {
          "base_uri": "https://localhost:8080/"
        },
        "outputId": "ca9c37ce-43b1-4bc9-bd9e-a9078b59852e",
        "id": "YuZ1bDqdIRgV"
      },
      "execution_count": null,
      "outputs": [
        {
          "output_type": "stream",
          "name": "stdout",
          "text": [
            "\u001b[1m3/3\u001b[0m \u001b[32m━━━━━━━━━━━━━━━━━━━━\u001b[0m\u001b[37m\u001b[0m \u001b[1m0s\u001b[0m 20ms/step - loss: 0.0302 - mean_absolute_error: 0.1248 - mean_absolute_percentage_error: 534751.6250 - root_mean_squared_error: 0.1732\n",
            "Mean Square Error: 0.0356367826461792\n",
            "Mean Absolute Error: 0.1373991221189499\n",
            "Mean Absolute Percentage Error: 1069481.25\n",
            "Root Mean Squared Error: 0.18877707421779633\n"
          ]
        }
      ]
    },
    {
      "cell_type": "markdown",
      "source": [
        "## model 5 (LSTM=512. 128)"
      ],
      "metadata": {
        "id": "GJKqwd2AIbLc"
      }
    },
    {
      "cell_type": "code",
      "source": [
        "lr = 0.0003\n",
        "\n",
        "model_lstm_5 = Sequential()\n",
        "model_lstm_5.add(Input(shape=(x_train.shape[1], x_train.shape[2])))\n",
        "model_lstm_5.add(LSTM(512, activation='relu', return_sequences=True))\n",
        "model_lstm_5.add(LSTM(128, activation='relu'))\n",
        "model_lstm_5.add(Dense(1))\n",
        "model_lstm_5.compile(loss='mse', optimizer='adam', metrics=[metrics.MeanAbsoluteError(), metrics.MeanAbsolutePercentageError(), metrics.RootMeanSquaredError()])\n",
        "model_lstm_5.summary()"
      ],
      "metadata": {
        "colab": {
          "base_uri": "https://localhost:8080/",
          "height": 238
        },
        "outputId": "8fb41ea2-89f7-4db5-dc94-a4fe5c838a30",
        "id": "sMJPPYv7IbLd"
      },
      "execution_count": null,
      "outputs": [
        {
          "output_type": "display_data",
          "data": {
            "text/plain": [
              "\u001b[1mModel: \"sequential_20\"\u001b[0m\n"
            ],
            "text/html": [
              "<pre style=\"white-space:pre;overflow-x:auto;line-height:normal;font-family:Menlo,'DejaVu Sans Mono',consolas,'Courier New',monospace\"><span style=\"font-weight: bold\">Model: \"sequential_20\"</span>\n",
              "</pre>\n"
            ]
          },
          "metadata": {}
        },
        {
          "output_type": "display_data",
          "data": {
            "text/plain": [
              "┏━━━━━━━━━━━━━━━━━━━━━━━━━━━━━━━━━┳━━━━━━━━━━━━━━━━━━━━━━━━┳━━━━━━━━━━━━━━━┓\n",
              "┃\u001b[1m \u001b[0m\u001b[1mLayer (type)                   \u001b[0m\u001b[1m \u001b[0m┃\u001b[1m \u001b[0m\u001b[1mOutput Shape          \u001b[0m\u001b[1m \u001b[0m┃\u001b[1m \u001b[0m\u001b[1m      Param #\u001b[0m\u001b[1m \u001b[0m┃\n",
              "┡━━━━━━━━━━━━━━━━━━━━━━━━━━━━━━━━━╇━━━━━━━━━━━━━━━━━━━━━━━━╇━━━━━━━━━━━━━━━┩\n",
              "│ lstm_18 (\u001b[38;5;33mLSTM\u001b[0m)                  │ (\u001b[38;5;45mNone\u001b[0m, \u001b[38;5;34m7\u001b[0m, \u001b[38;5;34m512\u001b[0m)         │     \u001b[38;5;34m1,073,152\u001b[0m │\n",
              "├─────────────────────────────────┼────────────────────────┼───────────────┤\n",
              "│ lstm_19 (\u001b[38;5;33mLSTM\u001b[0m)                  │ (\u001b[38;5;45mNone\u001b[0m, \u001b[38;5;34m128\u001b[0m)            │       \u001b[38;5;34m328,192\u001b[0m │\n",
              "├─────────────────────────────────┼────────────────────────┼───────────────┤\n",
              "│ dense_19 (\u001b[38;5;33mDense\u001b[0m)                │ (\u001b[38;5;45mNone\u001b[0m, \u001b[38;5;34m1\u001b[0m)              │           \u001b[38;5;34m129\u001b[0m │\n",
              "└─────────────────────────────────┴────────────────────────┴───────────────┘\n"
            ],
            "text/html": [
              "<pre style=\"white-space:pre;overflow-x:auto;line-height:normal;font-family:Menlo,'DejaVu Sans Mono',consolas,'Courier New',monospace\">┏━━━━━━━━━━━━━━━━━━━━━━━━━━━━━━━━━┳━━━━━━━━━━━━━━━━━━━━━━━━┳━━━━━━━━━━━━━━━┓\n",
              "┃<span style=\"font-weight: bold\"> Layer (type)                    </span>┃<span style=\"font-weight: bold\"> Output Shape           </span>┃<span style=\"font-weight: bold\">       Param # </span>┃\n",
              "┡━━━━━━━━━━━━━━━━━━━━━━━━━━━━━━━━━╇━━━━━━━━━━━━━━━━━━━━━━━━╇━━━━━━━━━━━━━━━┩\n",
              "│ lstm_18 (<span style=\"color: #0087ff; text-decoration-color: #0087ff\">LSTM</span>)                  │ (<span style=\"color: #00d7ff; text-decoration-color: #00d7ff\">None</span>, <span style=\"color: #00af00; text-decoration-color: #00af00\">7</span>, <span style=\"color: #00af00; text-decoration-color: #00af00\">512</span>)         │     <span style=\"color: #00af00; text-decoration-color: #00af00\">1,073,152</span> │\n",
              "├─────────────────────────────────┼────────────────────────┼───────────────┤\n",
              "│ lstm_19 (<span style=\"color: #0087ff; text-decoration-color: #0087ff\">LSTM</span>)                  │ (<span style=\"color: #00d7ff; text-decoration-color: #00d7ff\">None</span>, <span style=\"color: #00af00; text-decoration-color: #00af00\">128</span>)            │       <span style=\"color: #00af00; text-decoration-color: #00af00\">328,192</span> │\n",
              "├─────────────────────────────────┼────────────────────────┼───────────────┤\n",
              "│ dense_19 (<span style=\"color: #0087ff; text-decoration-color: #0087ff\">Dense</span>)                │ (<span style=\"color: #00d7ff; text-decoration-color: #00d7ff\">None</span>, <span style=\"color: #00af00; text-decoration-color: #00af00\">1</span>)              │           <span style=\"color: #00af00; text-decoration-color: #00af00\">129</span> │\n",
              "└─────────────────────────────────┴────────────────────────┴───────────────┘\n",
              "</pre>\n"
            ]
          },
          "metadata": {}
        },
        {
          "output_type": "display_data",
          "data": {
            "text/plain": [
              "\u001b[1m Total params: \u001b[0m\u001b[38;5;34m1,401,473\u001b[0m (5.35 MB)\n"
            ],
            "text/html": [
              "<pre style=\"white-space:pre;overflow-x:auto;line-height:normal;font-family:Menlo,'DejaVu Sans Mono',consolas,'Courier New',monospace\"><span style=\"font-weight: bold\"> Total params: </span><span style=\"color: #00af00; text-decoration-color: #00af00\">1,401,473</span> (5.35 MB)\n",
              "</pre>\n"
            ]
          },
          "metadata": {}
        },
        {
          "output_type": "display_data",
          "data": {
            "text/plain": [
              "\u001b[1m Trainable params: \u001b[0m\u001b[38;5;34m1,401,473\u001b[0m (5.35 MB)\n"
            ],
            "text/html": [
              "<pre style=\"white-space:pre;overflow-x:auto;line-height:normal;font-family:Menlo,'DejaVu Sans Mono',consolas,'Courier New',monospace\"><span style=\"font-weight: bold\"> Trainable params: </span><span style=\"color: #00af00; text-decoration-color: #00af00\">1,401,473</span> (5.35 MB)\n",
              "</pre>\n"
            ]
          },
          "metadata": {}
        },
        {
          "output_type": "display_data",
          "data": {
            "text/plain": [
              "\u001b[1m Non-trainable params: \u001b[0m\u001b[38;5;34m0\u001b[0m (0.00 B)\n"
            ],
            "text/html": [
              "<pre style=\"white-space:pre;overflow-x:auto;line-height:normal;font-family:Menlo,'DejaVu Sans Mono',consolas,'Courier New',monospace\"><span style=\"font-weight: bold\"> Non-trainable params: </span><span style=\"color: #00af00; text-decoration-color: #00af00\">0</span> (0.00 B)\n",
              "</pre>\n"
            ]
          },
          "metadata": {}
        }
      ]
    },
    {
      "cell_type": "code",
      "source": [
        "model_lstm_5.fit(\n",
        "    x_train,\n",
        "    y_train,\n",
        "    validation_data=(x_val ,y_val),\n",
        "    epochs=20,\n",
        "    batch_size=42\n",
        ")"
      ],
      "metadata": {
        "colab": {
          "base_uri": "https://localhost:8080/"
        },
        "outputId": "8a34d5e3-f967-46e8-a211-5f84c8fa16be",
        "id": "aL1CQCEdIbLd"
      },
      "execution_count": null,
      "outputs": [
        {
          "output_type": "stream",
          "name": "stdout",
          "text": [
            "Epoch 1/20\n",
            "\u001b[1m14/14\u001b[0m \u001b[32m━━━━━━━━━━━━━━━━━━━━\u001b[0m\u001b[37m\u001b[0m \u001b[1m7s\u001b[0m 238ms/step - loss: 0.1826 - mean_absolute_error: 0.3640 - mean_absolute_percentage_error: 67.8239 - root_mean_squared_error: 0.4175 - val_loss: 0.0331 - val_mean_absolute_error: 0.1594 - val_mean_absolute_percentage_error: 22.9292 - val_root_mean_squared_error: 0.1818\n",
            "Epoch 2/20\n",
            "\u001b[1m14/14\u001b[0m \u001b[32m━━━━━━━━━━━━━━━━━━━━\u001b[0m\u001b[37m\u001b[0m \u001b[1m4s\u001b[0m 130ms/step - loss: 0.0345 - mean_absolute_error: 0.1530 - mean_absolute_percentage_error: 33.0749 - root_mean_squared_error: 0.1852 - val_loss: 0.0092 - val_mean_absolute_error: 0.0803 - val_mean_absolute_percentage_error: 12.1984 - val_root_mean_squared_error: 0.0961\n",
            "Epoch 3/20\n",
            "\u001b[1m14/14\u001b[0m \u001b[32m━━━━━━━━━━━━━━━━━━━━\u001b[0m\u001b[37m\u001b[0m \u001b[1m2s\u001b[0m 119ms/step - loss: 0.0218 - mean_absolute_error: 0.1193 - mean_absolute_percentage_error: 29.4415 - root_mean_squared_error: 0.1475 - val_loss: 0.0094 - val_mean_absolute_error: 0.0795 - val_mean_absolute_percentage_error: 12.9086 - val_root_mean_squared_error: 0.0971\n",
            "Epoch 4/20\n",
            "\u001b[1m14/14\u001b[0m \u001b[32m━━━━━━━━━━━━━━━━━━━━\u001b[0m\u001b[37m\u001b[0m \u001b[1m2s\u001b[0m 120ms/step - loss: 0.0191 - mean_absolute_error: 0.1101 - mean_absolute_percentage_error: 27.5759 - root_mean_squared_error: 0.1380 - val_loss: 0.0095 - val_mean_absolute_error: 0.0798 - val_mean_absolute_percentage_error: 12.8754 - val_root_mean_squared_error: 0.0974\n",
            "Epoch 5/20\n",
            "\u001b[1m14/14\u001b[0m \u001b[32m━━━━━━━━━━━━━━━━━━━━\u001b[0m\u001b[37m\u001b[0m \u001b[1m2s\u001b[0m 120ms/step - loss: 0.0176 - mean_absolute_error: 0.1039 - mean_absolute_percentage_error: 25.7474 - root_mean_squared_error: 0.1327 - val_loss: 0.0092 - val_mean_absolute_error: 0.0798 - val_mean_absolute_percentage_error: 12.5445 - val_root_mean_squared_error: 0.0959\n",
            "Epoch 6/20\n",
            "\u001b[1m14/14\u001b[0m \u001b[32m━━━━━━━━━━━━━━━━━━━━\u001b[0m\u001b[37m\u001b[0m \u001b[1m3s\u001b[0m 183ms/step - loss: 0.0184 - mean_absolute_error: 0.1058 - mean_absolute_percentage_error: 26.4110 - root_mean_squared_error: 0.1354 - val_loss: 0.0091 - val_mean_absolute_error: 0.0792 - val_mean_absolute_percentage_error: 12.5365 - val_root_mean_squared_error: 0.0954\n",
            "Epoch 7/20\n",
            "\u001b[1m14/14\u001b[0m \u001b[32m━━━━━━━━━━━━━━━━━━━━\u001b[0m\u001b[37m\u001b[0m \u001b[1m4s\u001b[0m 129ms/step - loss: 0.0178 - mean_absolute_error: 0.1044 - mean_absolute_percentage_error: 27.0247 - root_mean_squared_error: 0.1333 - val_loss: 0.0088 - val_mean_absolute_error: 0.0781 - val_mean_absolute_percentage_error: 12.4308 - val_root_mean_squared_error: 0.0941\n",
            "Epoch 8/20\n",
            "\u001b[1m14/14\u001b[0m \u001b[32m━━━━━━━━━━━━━━━━━━━━\u001b[0m\u001b[37m\u001b[0m \u001b[1m2s\u001b[0m 121ms/step - loss: 0.0182 - mean_absolute_error: 0.1054 - mean_absolute_percentage_error: 27.6633 - root_mean_squared_error: 0.1350 - val_loss: 0.0088 - val_mean_absolute_error: 0.0784 - val_mean_absolute_percentage_error: 12.2750 - val_root_mean_squared_error: 0.0937\n",
            "Epoch 9/20\n",
            "\u001b[1m14/14\u001b[0m \u001b[32m━━━━━━━━━━━━━━━━━━━━\u001b[0m\u001b[37m\u001b[0m \u001b[1m2s\u001b[0m 121ms/step - loss: 0.0175 - mean_absolute_error: 0.1036 - mean_absolute_percentage_error: 26.8161 - root_mean_squared_error: 0.1324 - val_loss: 0.0089 - val_mean_absolute_error: 0.0791 - val_mean_absolute_percentage_error: 12.3557 - val_root_mean_squared_error: 0.0943\n",
            "Epoch 10/20\n",
            "\u001b[1m14/14\u001b[0m \u001b[32m━━━━━━━━━━━━━━━━━━━━\u001b[0m\u001b[37m\u001b[0m \u001b[1m2s\u001b[0m 120ms/step - loss: 0.0169 - mean_absolute_error: 0.1014 - mean_absolute_percentage_error: 24.6679 - root_mean_squared_error: 0.1299 - val_loss: 0.0099 - val_mean_absolute_error: 0.0838 - val_mean_absolute_percentage_error: 12.7423 - val_root_mean_squared_error: 0.0994\n",
            "Epoch 11/20\n",
            "\u001b[1m14/14\u001b[0m \u001b[32m━━━━━━━━━━━━━━━━━━━━\u001b[0m\u001b[37m\u001b[0m \u001b[1m3s\u001b[0m 186ms/step - loss: 0.0163 - mean_absolute_error: 0.0996 - mean_absolute_percentage_error: 24.1672 - root_mean_squared_error: 0.1276 - val_loss: 0.0090 - val_mean_absolute_error: 0.0794 - val_mean_absolute_percentage_error: 12.4540 - val_root_mean_squared_error: 0.0947\n",
            "Epoch 12/20\n",
            "\u001b[1m14/14\u001b[0m \u001b[32m━━━━━━━━━━━━━━━━━━━━\u001b[0m\u001b[37m\u001b[0m \u001b[1m2s\u001b[0m 137ms/step - loss: 0.0162 - mean_absolute_error: 0.0989 - mean_absolute_percentage_error: 25.0732 - root_mean_squared_error: 0.1271 - val_loss: 0.0094 - val_mean_absolute_error: 0.0800 - val_mean_absolute_percentage_error: 12.9856 - val_root_mean_squared_error: 0.0972\n",
            "Epoch 13/20\n",
            "\u001b[1m14/14\u001b[0m \u001b[32m━━━━━━━━━━━━━━━━━━━━\u001b[0m\u001b[37m\u001b[0m \u001b[1m3s\u001b[0m 167ms/step - loss: 0.0165 - mean_absolute_error: 0.0996 - mean_absolute_percentage_error: 24.3267 - root_mean_squared_error: 0.1284 - val_loss: 0.0093 - val_mean_absolute_error: 0.0812 - val_mean_absolute_percentage_error: 12.5450 - val_root_mean_squared_error: 0.0964\n",
            "Epoch 14/20\n",
            "\u001b[1m14/14\u001b[0m \u001b[32m━━━━━━━━━━━━━━━━━━━━\u001b[0m\u001b[37m\u001b[0m \u001b[1m2s\u001b[0m 127ms/step - loss: 0.0157 - mean_absolute_error: 0.0972 - mean_absolute_percentage_error: 23.7421 - root_mean_squared_error: 0.1251 - val_loss: 0.0099 - val_mean_absolute_error: 0.0837 - val_mean_absolute_percentage_error: 12.8477 - val_root_mean_squared_error: 0.0996\n",
            "Epoch 15/20\n",
            "\u001b[1m14/14\u001b[0m \u001b[32m━━━━━━━━━━━━━━━━━━━━\u001b[0m\u001b[37m\u001b[0m \u001b[1m2s\u001b[0m 138ms/step - loss: 0.0152 - mean_absolute_error: 0.0959 - mean_absolute_percentage_error: 23.1187 - root_mean_squared_error: 0.1231 - val_loss: 0.0105 - val_mean_absolute_error: 0.0862 - val_mean_absolute_percentage_error: 12.9878 - val_root_mean_squared_error: 0.1025\n",
            "Epoch 16/20\n",
            "\u001b[1m14/14\u001b[0m \u001b[32m━━━━━━━━━━━━━━━━━━━━\u001b[0m\u001b[37m\u001b[0m \u001b[1m2s\u001b[0m 122ms/step - loss: 0.0145 - mean_absolute_error: 0.0935 - mean_absolute_percentage_error: 22.4247 - root_mean_squared_error: 0.1206 - val_loss: 0.0098 - val_mean_absolute_error: 0.0829 - val_mean_absolute_percentage_error: 12.5947 - val_root_mean_squared_error: 0.0988\n",
            "Epoch 17/20\n",
            "\u001b[1m14/14\u001b[0m \u001b[32m━━━━━━━━━━━━━━━━━━━━\u001b[0m\u001b[37m\u001b[0m \u001b[1m3s\u001b[0m 163ms/step - loss: 0.0147 - mean_absolute_error: 0.0946 - mean_absolute_percentage_error: 22.7086 - root_mean_squared_error: 0.1213 - val_loss: 0.0095 - val_mean_absolute_error: 0.0809 - val_mean_absolute_percentage_error: 12.7754 - val_root_mean_squared_error: 0.0974\n",
            "Epoch 18/20\n",
            "\u001b[1m14/14\u001b[0m \u001b[32m━━━━━━━━━━━━━━━━━━━━\u001b[0m\u001b[37m\u001b[0m \u001b[1m2s\u001b[0m 163ms/step - loss: 0.0143 - mean_absolute_error: 0.0925 - mean_absolute_percentage_error: 23.4750 - root_mean_squared_error: 0.1194 - val_loss: 0.0094 - val_mean_absolute_error: 0.0800 - val_mean_absolute_percentage_error: 12.8421 - val_root_mean_squared_error: 0.0969\n",
            "Epoch 19/20\n",
            "\u001b[1m14/14\u001b[0m \u001b[32m━━━━━━━━━━━━━━━━━━━━\u001b[0m\u001b[37m\u001b[0m \u001b[1m2s\u001b[0m 122ms/step - loss: 0.0145 - mean_absolute_error: 0.0949 - mean_absolute_percentage_error: 24.1837 - root_mean_squared_error: 0.1205 - val_loss: 0.0122 - val_mean_absolute_error: 0.0924 - val_mean_absolute_percentage_error: 13.7021 - val_root_mean_squared_error: 0.1105\n",
            "Epoch 20/20\n",
            "\u001b[1m14/14\u001b[0m \u001b[32m━━━━━━━━━━━━━━━━━━━━\u001b[0m\u001b[37m\u001b[0m \u001b[1m3s\u001b[0m 128ms/step - loss: 0.0146 - mean_absolute_error: 0.0943 - mean_absolute_percentage_error: 22.1792 - root_mean_squared_error: 0.1209 - val_loss: 0.0092 - val_mean_absolute_error: 0.0792 - val_mean_absolute_percentage_error: 12.6621 - val_root_mean_squared_error: 0.0958\n"
          ]
        },
        {
          "output_type": "execute_result",
          "data": {
            "text/plain": [
              "<keras.src.callbacks.history.History at 0x7b26e0950590>"
            ]
          },
          "metadata": {},
          "execution_count": 96
        }
      ]
    },
    {
      "cell_type": "code",
      "source": [
        "y_pred = model_lstm_5.predict(x_test)"
      ],
      "metadata": {
        "colab": {
          "base_uri": "https://localhost:8080/"
        },
        "id": "uuEyDBxtIbLd",
        "outputId": "ac2bc90d-d73d-4962-dfd3-8420fe6009e1"
      },
      "execution_count": null,
      "outputs": [
        {
          "output_type": "stream",
          "name": "stdout",
          "text": [
            "\u001b[1m3/3\u001b[0m \u001b[32m━━━━━━━━━━━━━━━━━━━━\u001b[0m\u001b[37m\u001b[0m \u001b[1m1s\u001b[0m 493ms/step\n"
          ]
        }
      ]
    },
    {
      "cell_type": "code",
      "source": [
        "loss, mae, mape, rmse = model_lstm_5.evaluate(x_test, y_test)\n",
        "print(\"Mean Square Error:\", loss)\n",
        "print(\"Mean Absolute Error:\", mae)\n",
        "print(\"Mean Absolute Percentage Error:\", mape)\n",
        "print(\"Root Mean Squared Error:\", rmse)"
      ],
      "metadata": {
        "colab": {
          "base_uri": "https://localhost:8080/"
        },
        "id": "WvORGxX9IbLd",
        "outputId": "7c2b9f77-2746-4c06-ed95-c507587d5ddb"
      },
      "execution_count": null,
      "outputs": [
        {
          "output_type": "stream",
          "name": "stdout",
          "text": [
            "\u001b[1m3/3\u001b[0m \u001b[32m━━━━━━━━━━━━━━━━━━━━\u001b[0m\u001b[37m\u001b[0m \u001b[1m0s\u001b[0m 29ms/step - loss: 0.0304 - mean_absolute_error: 0.1366 - mean_absolute_percentage_error: 624910.3750 - root_mean_squared_error: 0.1735\n",
            "Mean Square Error: 0.03534186631441116\n",
            "Mean Absolute Error: 0.149057999253273\n",
            "Mean Absolute Percentage Error: 1249793.625\n",
            "Root Mean Squared Error: 0.1879943311214447\n"
          ]
        }
      ]
    },
    {
      "cell_type": "markdown",
      "source": [
        "# Hybrid"
      ],
      "metadata": {
        "id": "WwWFsTy0AZ2A"
      }
    },
    {
      "cell_type": "markdown",
      "source": [
        "## model 1 (CNN=64 LSTM=64)"
      ],
      "metadata": {
        "id": "P38VgKBObJOA"
      }
    },
    {
      "cell_type": "code",
      "source": [
        "lr = 0.0003\n",
        "\n",
        "model_hybrid_1 = Sequential()\n",
        "model_hybrid_1.add(Conv1D(filters=64, kernel_size=1, activation='relu', input_shape=(x_train.shape[1], x_train.shape[2])))\n",
        "# model_hybrid_1.add(MaxPooling1D(pool_size=1))\n",
        "model_hybrid_1.add(LSTM(64, activation='tanh', return_sequences=True))\n",
        "model_hybrid_1.add(Dense(1))\n",
        "model_hybrid_1.compile(loss='mse', optimizer='adam', metrics=[metrics.MeanAbsoluteError(), metrics.MeanAbsolutePercentageError(), metrics.RootMeanSquaredError()])\n",
        "model_hybrid_1.summary()"
      ],
      "metadata": {
        "colab": {
          "base_uri": "https://localhost:8080/",
          "height": 293
        },
        "id": "9MsHNkdgJwin",
        "outputId": "e8d6e075-87c8-462d-9fa3-15c64dae8651"
      },
      "execution_count": null,
      "outputs": [
        {
          "output_type": "stream",
          "name": "stderr",
          "text": [
            "/usr/local/lib/python3.11/dist-packages/keras/src/layers/convolutional/base_conv.py:107: UserWarning: Do not pass an `input_shape`/`input_dim` argument to a layer. When using Sequential models, prefer using an `Input(shape)` object as the first layer in the model instead.\n",
            "  super().__init__(activity_regularizer=activity_regularizer, **kwargs)\n"
          ]
        },
        {
          "output_type": "display_data",
          "data": {
            "text/plain": [
              "\u001b[1mModel: \"sequential_21\"\u001b[0m\n"
            ],
            "text/html": [
              "<pre style=\"white-space:pre;overflow-x:auto;line-height:normal;font-family:Menlo,'DejaVu Sans Mono',consolas,'Courier New',monospace\"><span style=\"font-weight: bold\">Model: \"sequential_21\"</span>\n",
              "</pre>\n"
            ]
          },
          "metadata": {}
        },
        {
          "output_type": "display_data",
          "data": {
            "text/plain": [
              "┏━━━━━━━━━━━━━━━━━━━━━━━━━━━━━━━━━┳━━━━━━━━━━━━━━━━━━━━━━━━┳━━━━━━━━━━━━━━━┓\n",
              "┃\u001b[1m \u001b[0m\u001b[1mLayer (type)                   \u001b[0m\u001b[1m \u001b[0m┃\u001b[1m \u001b[0m\u001b[1mOutput Shape          \u001b[0m\u001b[1m \u001b[0m┃\u001b[1m \u001b[0m\u001b[1m      Param #\u001b[0m\u001b[1m \u001b[0m┃\n",
              "┡━━━━━━━━━━━━━━━━━━━━━━━━━━━━━━━━━╇━━━━━━━━━━━━━━━━━━━━━━━━╇━━━━━━━━━━━━━━━┩\n",
              "│ conv1d_17 (\u001b[38;5;33mConv1D\u001b[0m)              │ (\u001b[38;5;45mNone\u001b[0m, \u001b[38;5;34m7\u001b[0m, \u001b[38;5;34m64\u001b[0m)          │           \u001b[38;5;34m768\u001b[0m │\n",
              "├─────────────────────────────────┼────────────────────────┼───────────────┤\n",
              "│ lstm_20 (\u001b[38;5;33mLSTM\u001b[0m)                  │ (\u001b[38;5;45mNone\u001b[0m, \u001b[38;5;34m7\u001b[0m, \u001b[38;5;34m64\u001b[0m)          │        \u001b[38;5;34m33,024\u001b[0m │\n",
              "├─────────────────────────────────┼────────────────────────┼───────────────┤\n",
              "│ dense_20 (\u001b[38;5;33mDense\u001b[0m)                │ (\u001b[38;5;45mNone\u001b[0m, \u001b[38;5;34m7\u001b[0m, \u001b[38;5;34m1\u001b[0m)           │            \u001b[38;5;34m65\u001b[0m │\n",
              "└─────────────────────────────────┴────────────────────────┴───────────────┘\n"
            ],
            "text/html": [
              "<pre style=\"white-space:pre;overflow-x:auto;line-height:normal;font-family:Menlo,'DejaVu Sans Mono',consolas,'Courier New',monospace\">┏━━━━━━━━━━━━━━━━━━━━━━━━━━━━━━━━━┳━━━━━━━━━━━━━━━━━━━━━━━━┳━━━━━━━━━━━━━━━┓\n",
              "┃<span style=\"font-weight: bold\"> Layer (type)                    </span>┃<span style=\"font-weight: bold\"> Output Shape           </span>┃<span style=\"font-weight: bold\">       Param # </span>┃\n",
              "┡━━━━━━━━━━━━━━━━━━━━━━━━━━━━━━━━━╇━━━━━━━━━━━━━━━━━━━━━━━━╇━━━━━━━━━━━━━━━┩\n",
              "│ conv1d_17 (<span style=\"color: #0087ff; text-decoration-color: #0087ff\">Conv1D</span>)              │ (<span style=\"color: #00d7ff; text-decoration-color: #00d7ff\">None</span>, <span style=\"color: #00af00; text-decoration-color: #00af00\">7</span>, <span style=\"color: #00af00; text-decoration-color: #00af00\">64</span>)          │           <span style=\"color: #00af00; text-decoration-color: #00af00\">768</span> │\n",
              "├─────────────────────────────────┼────────────────────────┼───────────────┤\n",
              "│ lstm_20 (<span style=\"color: #0087ff; text-decoration-color: #0087ff\">LSTM</span>)                  │ (<span style=\"color: #00d7ff; text-decoration-color: #00d7ff\">None</span>, <span style=\"color: #00af00; text-decoration-color: #00af00\">7</span>, <span style=\"color: #00af00; text-decoration-color: #00af00\">64</span>)          │        <span style=\"color: #00af00; text-decoration-color: #00af00\">33,024</span> │\n",
              "├─────────────────────────────────┼────────────────────────┼───────────────┤\n",
              "│ dense_20 (<span style=\"color: #0087ff; text-decoration-color: #0087ff\">Dense</span>)                │ (<span style=\"color: #00d7ff; text-decoration-color: #00d7ff\">None</span>, <span style=\"color: #00af00; text-decoration-color: #00af00\">7</span>, <span style=\"color: #00af00; text-decoration-color: #00af00\">1</span>)           │            <span style=\"color: #00af00; text-decoration-color: #00af00\">65</span> │\n",
              "└─────────────────────────────────┴────────────────────────┴───────────────┘\n",
              "</pre>\n"
            ]
          },
          "metadata": {}
        },
        {
          "output_type": "display_data",
          "data": {
            "text/plain": [
              "\u001b[1m Total params: \u001b[0m\u001b[38;5;34m33,857\u001b[0m (132.25 KB)\n"
            ],
            "text/html": [
              "<pre style=\"white-space:pre;overflow-x:auto;line-height:normal;font-family:Menlo,'DejaVu Sans Mono',consolas,'Courier New',monospace\"><span style=\"font-weight: bold\"> Total params: </span><span style=\"color: #00af00; text-decoration-color: #00af00\">33,857</span> (132.25 KB)\n",
              "</pre>\n"
            ]
          },
          "metadata": {}
        },
        {
          "output_type": "display_data",
          "data": {
            "text/plain": [
              "\u001b[1m Trainable params: \u001b[0m\u001b[38;5;34m33,857\u001b[0m (132.25 KB)\n"
            ],
            "text/html": [
              "<pre style=\"white-space:pre;overflow-x:auto;line-height:normal;font-family:Menlo,'DejaVu Sans Mono',consolas,'Courier New',monospace\"><span style=\"font-weight: bold\"> Trainable params: </span><span style=\"color: #00af00; text-decoration-color: #00af00\">33,857</span> (132.25 KB)\n",
              "</pre>\n"
            ]
          },
          "metadata": {}
        },
        {
          "output_type": "display_data",
          "data": {
            "text/plain": [
              "\u001b[1m Non-trainable params: \u001b[0m\u001b[38;5;34m0\u001b[0m (0.00 B)\n"
            ],
            "text/html": [
              "<pre style=\"white-space:pre;overflow-x:auto;line-height:normal;font-family:Menlo,'DejaVu Sans Mono',consolas,'Courier New',monospace\"><span style=\"font-weight: bold\"> Non-trainable params: </span><span style=\"color: #00af00; text-decoration-color: #00af00\">0</span> (0.00 B)\n",
              "</pre>\n"
            ]
          },
          "metadata": {}
        }
      ]
    },
    {
      "cell_type": "code",
      "source": [
        "model_hybrid_1.fit(\n",
        "    x_train,\n",
        "    y_train,\n",
        "    validation_data=(x_val ,y_val),\n",
        "    epochs=20,\n",
        "    batch_size=42\n",
        ")"
      ],
      "metadata": {
        "colab": {
          "base_uri": "https://localhost:8080/"
        },
        "id": "kGPuFVxbOmbj",
        "outputId": "82cd1c7e-8937-4d4c-b3b4-9534d146e10f"
      },
      "execution_count": null,
      "outputs": [
        {
          "output_type": "stream",
          "name": "stdout",
          "text": [
            "Epoch 1/20\n",
            "\u001b[1m14/14\u001b[0m \u001b[32m━━━━━━━━━━━━━━━━━━━━\u001b[0m\u001b[37m\u001b[0m \u001b[1m4s\u001b[0m 44ms/step - loss: 0.2790 - mean_absolute_error: 0.4757 - mean_absolute_percentage_error: 87.0252 - root_mean_squared_error: 0.5224 - val_loss: 0.0721 - val_mean_absolute_error: 0.2274 - val_mean_absolute_percentage_error: 35.4376 - val_root_mean_squared_error: 0.2685\n",
            "Epoch 2/20\n",
            "\u001b[1m14/14\u001b[0m \u001b[32m━━━━━━━━━━━━━━━━━━━━\u001b[0m\u001b[37m\u001b[0m \u001b[1m0s\u001b[0m 12ms/step - loss: 0.0817 - mean_absolute_error: 0.2314 - mean_absolute_percentage_error: 55.4840 - root_mean_squared_error: 0.2854 - val_loss: 0.0554 - val_mean_absolute_error: 0.1853 - val_mean_absolute_percentage_error: 27.3955 - val_root_mean_squared_error: 0.2354\n",
            "Epoch 3/20\n",
            "\u001b[1m14/14\u001b[0m \u001b[32m━━━━━━━━━━━━━━━━━━━━\u001b[0m\u001b[37m\u001b[0m \u001b[1m0s\u001b[0m 12ms/step - loss: 0.0544 - mean_absolute_error: 0.1870 - mean_absolute_percentage_error: 39.7639 - root_mean_squared_error: 0.2332 - val_loss: 0.0350 - val_mean_absolute_error: 0.1430 - val_mean_absolute_percentage_error: 21.6261 - val_root_mean_squared_error: 0.1872\n",
            "Epoch 4/20\n",
            "\u001b[1m14/14\u001b[0m \u001b[32m━━━━━━━━━━━━━━━━━━━━\u001b[0m\u001b[37m\u001b[0m \u001b[1m0s\u001b[0m 12ms/step - loss: 0.0413 - mean_absolute_error: 0.1602 - mean_absolute_percentage_error: 39.3359 - root_mean_squared_error: 0.2033 - val_loss: 0.0249 - val_mean_absolute_error: 0.1208 - val_mean_absolute_percentage_error: 18.4374 - val_root_mean_squared_error: 0.1578\n",
            "Epoch 5/20\n",
            "\u001b[1m14/14\u001b[0m \u001b[32m━━━━━━━━━━━━━━━━━━━━\u001b[0m\u001b[37m\u001b[0m \u001b[1m0s\u001b[0m 12ms/step - loss: 0.0323 - mean_absolute_error: 0.1412 - mean_absolute_percentage_error: 33.2976 - root_mean_squared_error: 0.1798 - val_loss: 0.0177 - val_mean_absolute_error: 0.1047 - val_mean_absolute_percentage_error: 16.1676 - val_root_mean_squared_error: 0.1332\n",
            "Epoch 6/20\n",
            "\u001b[1m14/14\u001b[0m \u001b[32m━━━━━━━━━━━━━━━━━━━━\u001b[0m\u001b[37m\u001b[0m \u001b[1m0s\u001b[0m 12ms/step - loss: 0.0268 - mean_absolute_error: 0.1296 - mean_absolute_percentage_error: 31.9978 - root_mean_squared_error: 0.1638 - val_loss: 0.0157 - val_mean_absolute_error: 0.1004 - val_mean_absolute_percentage_error: 15.9041 - val_root_mean_squared_error: 0.1252\n",
            "Epoch 7/20\n",
            "\u001b[1m14/14\u001b[0m \u001b[32m━━━━━━━━━━━━━━━━━━━━\u001b[0m\u001b[37m\u001b[0m \u001b[1m0s\u001b[0m 12ms/step - loss: 0.0252 - mean_absolute_error: 0.1246 - mean_absolute_percentage_error: 30.2168 - root_mean_squared_error: 0.1588 - val_loss: 0.0141 - val_mean_absolute_error: 0.0960 - val_mean_absolute_percentage_error: 15.0563 - val_root_mean_squared_error: 0.1186\n",
            "Epoch 8/20\n",
            "\u001b[1m14/14\u001b[0m \u001b[32m━━━━━━━━━━━━━━━━━━━━\u001b[0m\u001b[37m\u001b[0m \u001b[1m0s\u001b[0m 14ms/step - loss: 0.0240 - mean_absolute_error: 0.1211 - mean_absolute_percentage_error: 28.4528 - root_mean_squared_error: 0.1548 - val_loss: 0.0129 - val_mean_absolute_error: 0.0926 - val_mean_absolute_percentage_error: 14.4531 - val_root_mean_squared_error: 0.1137\n",
            "Epoch 9/20\n",
            "\u001b[1m14/14\u001b[0m \u001b[32m━━━━━━━━━━━━━━━━━━━━\u001b[0m\u001b[37m\u001b[0m \u001b[1m0s\u001b[0m 13ms/step - loss: 0.0222 - mean_absolute_error: 0.1167 - mean_absolute_percentage_error: 27.7926 - root_mean_squared_error: 0.1489 - val_loss: 0.0122 - val_mean_absolute_error: 0.0907 - val_mean_absolute_percentage_error: 14.0723 - val_root_mean_squared_error: 0.1105\n",
            "Epoch 10/20\n",
            "\u001b[1m14/14\u001b[0m \u001b[32m━━━━━━━━━━━━━━━━━━━━\u001b[0m\u001b[37m\u001b[0m \u001b[1m0s\u001b[0m 12ms/step - loss: 0.0223 - mean_absolute_error: 0.1186 - mean_absolute_percentage_error: 29.5872 - root_mean_squared_error: 0.1494 - val_loss: 0.0122 - val_mean_absolute_error: 0.0908 - val_mean_absolute_percentage_error: 14.5018 - val_root_mean_squared_error: 0.1104\n",
            "Epoch 11/20\n",
            "\u001b[1m14/14\u001b[0m \u001b[32m━━━━━━━━━━━━━━━━━━━━\u001b[0m\u001b[37m\u001b[0m \u001b[1m0s\u001b[0m 12ms/step - loss: 0.0207 - mean_absolute_error: 0.1123 - mean_absolute_percentage_error: 27.3285 - root_mean_squared_error: 0.1437 - val_loss: 0.0112 - val_mean_absolute_error: 0.0880 - val_mean_absolute_percentage_error: 13.6952 - val_root_mean_squared_error: 0.1060\n",
            "Epoch 12/20\n",
            "\u001b[1m14/14\u001b[0m \u001b[32m━━━━━━━━━━━━━━━━━━━━\u001b[0m\u001b[37m\u001b[0m \u001b[1m0s\u001b[0m 12ms/step - loss: 0.0210 - mean_absolute_error: 0.1140 - mean_absolute_percentage_error: 29.4322 - root_mean_squared_error: 0.1449 - val_loss: 0.0109 - val_mean_absolute_error: 0.0867 - val_mean_absolute_percentage_error: 13.6094 - val_root_mean_squared_error: 0.1043\n",
            "Epoch 13/20\n",
            "\u001b[1m14/14\u001b[0m \u001b[32m━━━━━━━━━━━━━━━━━━━━\u001b[0m\u001b[37m\u001b[0m \u001b[1m0s\u001b[0m 12ms/step - loss: 0.0184 - mean_absolute_error: 0.1060 - mean_absolute_percentage_error: 25.7932 - root_mean_squared_error: 0.1354 - val_loss: 0.0106 - val_mean_absolute_error: 0.0861 - val_mean_absolute_percentage_error: 13.5237 - val_root_mean_squared_error: 0.1032\n",
            "Epoch 14/20\n",
            "\u001b[1m14/14\u001b[0m \u001b[32m━━━━━━━━━━━━━━━━━━━━\u001b[0m\u001b[37m\u001b[0m \u001b[1m0s\u001b[0m 12ms/step - loss: 0.0193 - mean_absolute_error: 0.1086 - mean_absolute_percentage_error: 27.5266 - root_mean_squared_error: 0.1390 - val_loss: 0.0105 - val_mean_absolute_error: 0.0860 - val_mean_absolute_percentage_error: 13.4248 - val_root_mean_squared_error: 0.1025\n",
            "Epoch 15/20\n",
            "\u001b[1m14/14\u001b[0m \u001b[32m━━━━━━━━━━━━━━━━━━━━\u001b[0m\u001b[37m\u001b[0m \u001b[1m0s\u001b[0m 12ms/step - loss: 0.0183 - mean_absolute_error: 0.1063 - mean_absolute_percentage_error: 26.4012 - root_mean_squared_error: 0.1353 - val_loss: 0.0111 - val_mean_absolute_error: 0.0882 - val_mean_absolute_percentage_error: 13.4334 - val_root_mean_squared_error: 0.1052\n",
            "Epoch 16/20\n",
            "\u001b[1m14/14\u001b[0m \u001b[32m━━━━━━━━━━━━━━━━━━━━\u001b[0m\u001b[37m\u001b[0m \u001b[1m0s\u001b[0m 15ms/step - loss: 0.0192 - mean_absolute_error: 0.1084 - mean_absolute_percentage_error: 26.8314 - root_mean_squared_error: 0.1384 - val_loss: 0.0106 - val_mean_absolute_error: 0.0863 - val_mean_absolute_percentage_error: 13.5515 - val_root_mean_squared_error: 0.1031\n",
            "Epoch 17/20\n",
            "\u001b[1m14/14\u001b[0m \u001b[32m━━━━━━━━━━━━━━━━━━━━\u001b[0m\u001b[37m\u001b[0m \u001b[1m0s\u001b[0m 13ms/step - loss: 0.0177 - mean_absolute_error: 0.1053 - mean_absolute_percentage_error: 25.6683 - root_mean_squared_error: 0.1332 - val_loss: 0.0108 - val_mean_absolute_error: 0.0873 - val_mean_absolute_percentage_error: 13.4444 - val_root_mean_squared_error: 0.1037\n",
            "Epoch 18/20\n",
            "\u001b[1m14/14\u001b[0m \u001b[32m━━━━━━━━━━━━━━━━━━━━\u001b[0m\u001b[37m\u001b[0m \u001b[1m0s\u001b[0m 13ms/step - loss: 0.0184 - mean_absolute_error: 0.1065 - mean_absolute_percentage_error: 25.3377 - root_mean_squared_error: 0.1356 - val_loss: 0.0112 - val_mean_absolute_error: 0.0886 - val_mean_absolute_percentage_error: 13.4896 - val_root_mean_squared_error: 0.1057\n",
            "Epoch 19/20\n",
            "\u001b[1m14/14\u001b[0m \u001b[32m━━━━━━━━━━━━━━━━━━━━\u001b[0m\u001b[37m\u001b[0m \u001b[1m0s\u001b[0m 12ms/step - loss: 0.0179 - mean_absolute_error: 0.1051 - mean_absolute_percentage_error: 25.2569 - root_mean_squared_error: 0.1338 - val_loss: 0.0112 - val_mean_absolute_error: 0.0886 - val_mean_absolute_percentage_error: 13.5352 - val_root_mean_squared_error: 0.1059\n",
            "Epoch 20/20\n",
            "\u001b[1m14/14\u001b[0m \u001b[32m━━━━━━━━━━━━━━━━━━━━\u001b[0m\u001b[37m\u001b[0m \u001b[1m0s\u001b[0m 12ms/step - loss: 0.0177 - mean_absolute_error: 0.1044 - mean_absolute_percentage_error: 25.2506 - root_mean_squared_error: 0.1329 - val_loss: 0.0118 - val_mean_absolute_error: 0.0905 - val_mean_absolute_percentage_error: 13.6327 - val_root_mean_squared_error: 0.1087\n"
          ]
        },
        {
          "output_type": "execute_result",
          "data": {
            "text/plain": [
              "<keras.src.callbacks.history.History at 0x7b26eae58050>"
            ]
          },
          "metadata": {},
          "execution_count": 100
        }
      ]
    },
    {
      "cell_type": "code",
      "source": [
        "y_pred = model_hybrid_1.predict(x_test)"
      ],
      "metadata": {
        "colab": {
          "base_uri": "https://localhost:8080/"
        },
        "id": "fnfz_PJ0bR_U",
        "outputId": "2e707431-4811-46f9-d9d0-956f7e3ad684"
      },
      "execution_count": null,
      "outputs": [
        {
          "output_type": "stream",
          "name": "stdout",
          "text": [
            "\u001b[1m3/3\u001b[0m \u001b[32m━━━━━━━━━━━━━━━━━━━━\u001b[0m\u001b[37m\u001b[0m \u001b[1m0s\u001b[0m 100ms/step\n"
          ]
        }
      ]
    },
    {
      "cell_type": "code",
      "source": [
        "loss, mae, mape, rmse = model_hybrid_1.evaluate(x_test, y_test)\n",
        "print(\"model hybrid 1\")\n",
        "print(\"Mean Absolute Error:\", mae)\n",
        "print(\"Mean Square Error:\", loss)\n",
        "print(\"Mean Absolute Percentage Error:\", mape)\n",
        "print(\"Root Mean Squared Error:\", rmse)"
      ],
      "metadata": {
        "colab": {
          "base_uri": "https://localhost:8080/"
        },
        "id": "jDo0k9lMup5g",
        "outputId": "32aa90ff-5f14-4544-e710-6c7c9bdc1777"
      },
      "execution_count": null,
      "outputs": [
        {
          "output_type": "stream",
          "name": "stdout",
          "text": [
            "\u001b[1m3/3\u001b[0m \u001b[32m━━━━━━━━━━━━━━━━━━━━\u001b[0m\u001b[37m\u001b[0m \u001b[1m0s\u001b[0m 16ms/step - loss: 0.0299 - mean_absolute_error: 0.1320 - mean_absolute_percentage_error: 720959.9375 - root_mean_squared_error: 0.1724\n",
            "model hybrid 1\n",
            "Mean Absolute Error: 0.1431223750114441\n",
            "Mean Square Error: 0.03406471014022827\n",
            "Mean Absolute Percentage Error: 1441894.375\n",
            "Root Mean Squared Error: 0.18456627428531647\n"
          ]
        }
      ]
    },
    {
      "cell_type": "markdown",
      "source": [
        "## model 2 (CNN=64 LSTM=32)"
      ],
      "metadata": {
        "id": "0vbxWLIonepv"
      }
    },
    {
      "cell_type": "code",
      "source": [
        "lr = 0.0003\n",
        "\n",
        "model_hybrid_2 = Sequential()\n",
        "model_hybrid_2.add(Conv1D(filters=64, kernel_size=1, activation='relu', input_shape=(x_train.shape[1], x_train.shape[2])))\n",
        "model_hybrid_2.add(LSTM(32, activation='tanh', return_sequences=True))\n",
        "model_hybrid_2.add(Dense(1))\n",
        "model_hybrid_2.compile(loss='mse', optimizer='adam', metrics=[metrics.MeanAbsoluteError(), metrics.MeanAbsolutePercentageError(), metrics.RootMeanSquaredError()])\n",
        "model_hybrid_2.summary()"
      ],
      "metadata": {
        "colab": {
          "base_uri": "https://localhost:8080/",
          "height": 238
        },
        "outputId": "75127e25-fffc-4b21-d299-c625ebad9a76",
        "id": "-AdgXg7unepw"
      },
      "execution_count": null,
      "outputs": [
        {
          "output_type": "display_data",
          "data": {
            "text/plain": [
              "\u001b[1mModel: \"sequential_22\"\u001b[0m\n"
            ],
            "text/html": [
              "<pre style=\"white-space:pre;overflow-x:auto;line-height:normal;font-family:Menlo,'DejaVu Sans Mono',consolas,'Courier New',monospace\"><span style=\"font-weight: bold\">Model: \"sequential_22\"</span>\n",
              "</pre>\n"
            ]
          },
          "metadata": {}
        },
        {
          "output_type": "display_data",
          "data": {
            "text/plain": [
              "┏━━━━━━━━━━━━━━━━━━━━━━━━━━━━━━━━━┳━━━━━━━━━━━━━━━━━━━━━━━━┳━━━━━━━━━━━━━━━┓\n",
              "┃\u001b[1m \u001b[0m\u001b[1mLayer (type)                   \u001b[0m\u001b[1m \u001b[0m┃\u001b[1m \u001b[0m\u001b[1mOutput Shape          \u001b[0m\u001b[1m \u001b[0m┃\u001b[1m \u001b[0m\u001b[1m      Param #\u001b[0m\u001b[1m \u001b[0m┃\n",
              "┡━━━━━━━━━━━━━━━━━━━━━━━━━━━━━━━━━╇━━━━━━━━━━━━━━━━━━━━━━━━╇━━━━━━━━━━━━━━━┩\n",
              "│ conv1d_18 (\u001b[38;5;33mConv1D\u001b[0m)              │ (\u001b[38;5;45mNone\u001b[0m, \u001b[38;5;34m7\u001b[0m, \u001b[38;5;34m64\u001b[0m)          │           \u001b[38;5;34m768\u001b[0m │\n",
              "├─────────────────────────────────┼────────────────────────┼───────────────┤\n",
              "│ lstm_21 (\u001b[38;5;33mLSTM\u001b[0m)                  │ (\u001b[38;5;45mNone\u001b[0m, \u001b[38;5;34m7\u001b[0m, \u001b[38;5;34m32\u001b[0m)          │        \u001b[38;5;34m12,416\u001b[0m │\n",
              "├─────────────────────────────────┼────────────────────────┼───────────────┤\n",
              "│ dense_21 (\u001b[38;5;33mDense\u001b[0m)                │ (\u001b[38;5;45mNone\u001b[0m, \u001b[38;5;34m7\u001b[0m, \u001b[38;5;34m1\u001b[0m)           │            \u001b[38;5;34m33\u001b[0m │\n",
              "└─────────────────────────────────┴────────────────────────┴───────────────┘\n"
            ],
            "text/html": [
              "<pre style=\"white-space:pre;overflow-x:auto;line-height:normal;font-family:Menlo,'DejaVu Sans Mono',consolas,'Courier New',monospace\">┏━━━━━━━━━━━━━━━━━━━━━━━━━━━━━━━━━┳━━━━━━━━━━━━━━━━━━━━━━━━┳━━━━━━━━━━━━━━━┓\n",
              "┃<span style=\"font-weight: bold\"> Layer (type)                    </span>┃<span style=\"font-weight: bold\"> Output Shape           </span>┃<span style=\"font-weight: bold\">       Param # </span>┃\n",
              "┡━━━━━━━━━━━━━━━━━━━━━━━━━━━━━━━━━╇━━━━━━━━━━━━━━━━━━━━━━━━╇━━━━━━━━━━━━━━━┩\n",
              "│ conv1d_18 (<span style=\"color: #0087ff; text-decoration-color: #0087ff\">Conv1D</span>)              │ (<span style=\"color: #00d7ff; text-decoration-color: #00d7ff\">None</span>, <span style=\"color: #00af00; text-decoration-color: #00af00\">7</span>, <span style=\"color: #00af00; text-decoration-color: #00af00\">64</span>)          │           <span style=\"color: #00af00; text-decoration-color: #00af00\">768</span> │\n",
              "├─────────────────────────────────┼────────────────────────┼───────────────┤\n",
              "│ lstm_21 (<span style=\"color: #0087ff; text-decoration-color: #0087ff\">LSTM</span>)                  │ (<span style=\"color: #00d7ff; text-decoration-color: #00d7ff\">None</span>, <span style=\"color: #00af00; text-decoration-color: #00af00\">7</span>, <span style=\"color: #00af00; text-decoration-color: #00af00\">32</span>)          │        <span style=\"color: #00af00; text-decoration-color: #00af00\">12,416</span> │\n",
              "├─────────────────────────────────┼────────────────────────┼───────────────┤\n",
              "│ dense_21 (<span style=\"color: #0087ff; text-decoration-color: #0087ff\">Dense</span>)                │ (<span style=\"color: #00d7ff; text-decoration-color: #00d7ff\">None</span>, <span style=\"color: #00af00; text-decoration-color: #00af00\">7</span>, <span style=\"color: #00af00; text-decoration-color: #00af00\">1</span>)           │            <span style=\"color: #00af00; text-decoration-color: #00af00\">33</span> │\n",
              "└─────────────────────────────────┴────────────────────────┴───────────────┘\n",
              "</pre>\n"
            ]
          },
          "metadata": {}
        },
        {
          "output_type": "display_data",
          "data": {
            "text/plain": [
              "\u001b[1m Total params: \u001b[0m\u001b[38;5;34m13,217\u001b[0m (51.63 KB)\n"
            ],
            "text/html": [
              "<pre style=\"white-space:pre;overflow-x:auto;line-height:normal;font-family:Menlo,'DejaVu Sans Mono',consolas,'Courier New',monospace\"><span style=\"font-weight: bold\"> Total params: </span><span style=\"color: #00af00; text-decoration-color: #00af00\">13,217</span> (51.63 KB)\n",
              "</pre>\n"
            ]
          },
          "metadata": {}
        },
        {
          "output_type": "display_data",
          "data": {
            "text/plain": [
              "\u001b[1m Trainable params: \u001b[0m\u001b[38;5;34m13,217\u001b[0m (51.63 KB)\n"
            ],
            "text/html": [
              "<pre style=\"white-space:pre;overflow-x:auto;line-height:normal;font-family:Menlo,'DejaVu Sans Mono',consolas,'Courier New',monospace\"><span style=\"font-weight: bold\"> Trainable params: </span><span style=\"color: #00af00; text-decoration-color: #00af00\">13,217</span> (51.63 KB)\n",
              "</pre>\n"
            ]
          },
          "metadata": {}
        },
        {
          "output_type": "display_data",
          "data": {
            "text/plain": [
              "\u001b[1m Non-trainable params: \u001b[0m\u001b[38;5;34m0\u001b[0m (0.00 B)\n"
            ],
            "text/html": [
              "<pre style=\"white-space:pre;overflow-x:auto;line-height:normal;font-family:Menlo,'DejaVu Sans Mono',consolas,'Courier New',monospace\"><span style=\"font-weight: bold\"> Non-trainable params: </span><span style=\"color: #00af00; text-decoration-color: #00af00\">0</span> (0.00 B)\n",
              "</pre>\n"
            ]
          },
          "metadata": {}
        }
      ]
    },
    {
      "cell_type": "code",
      "source": [
        "model_hybrid_2.fit(\n",
        "    x_train,\n",
        "    y_train,\n",
        "    validation_data=(x_val ,y_val),\n",
        "    epochs=20,\n",
        "    batch_size=42\n",
        ")"
      ],
      "metadata": {
        "colab": {
          "base_uri": "https://localhost:8080/"
        },
        "outputId": "c5f228bb-ef8c-4d63-cc72-23de81bf0729",
        "id": "_2rBIuusnepw"
      },
      "execution_count": null,
      "outputs": [
        {
          "output_type": "stream",
          "name": "stdout",
          "text": [
            "Epoch 1/20\n",
            "\u001b[1m14/14\u001b[0m \u001b[32m━━━━━━━━━━━━━━━━━━━━\u001b[0m\u001b[37m\u001b[0m \u001b[1m4s\u001b[0m 52ms/step - loss: 0.2160 - mean_absolute_error: 0.4189 - mean_absolute_percentage_error: 74.2413 - root_mean_squared_error: 0.4623 - val_loss: 0.0659 - val_mean_absolute_error: 0.2062 - val_mean_absolute_percentage_error: 31.5760 - val_root_mean_squared_error: 0.2567\n",
            "Epoch 2/20\n",
            "\u001b[1m14/14\u001b[0m \u001b[32m━━━━━━━━━━━━━━━━━━━━\u001b[0m\u001b[37m\u001b[0m \u001b[1m0s\u001b[0m 13ms/step - loss: 0.0742 - mean_absolute_error: 0.2229 - mean_absolute_percentage_error: 51.5422 - root_mean_squared_error: 0.2724 - val_loss: 0.0549 - val_mean_absolute_error: 0.1810 - val_mean_absolute_percentage_error: 27.3135 - val_root_mean_squared_error: 0.2342\n",
            "Epoch 3/20\n",
            "\u001b[1m14/14\u001b[0m \u001b[32m━━━━━━━━━━━━━━━━━━━━\u001b[0m\u001b[37m\u001b[0m \u001b[1m0s\u001b[0m 11ms/step - loss: 0.0561 - mean_absolute_error: 0.1887 - mean_absolute_percentage_error: 40.7201 - root_mean_squared_error: 0.2368 - val_loss: 0.0466 - val_mean_absolute_error: 0.1659 - val_mean_absolute_percentage_error: 24.8434 - val_root_mean_squared_error: 0.2158\n",
            "Epoch 4/20\n",
            "\u001b[1m14/14\u001b[0m \u001b[32m━━━━━━━━━━━━━━━━━━━━\u001b[0m\u001b[37m\u001b[0m \u001b[1m0s\u001b[0m 11ms/step - loss: 0.0448 - mean_absolute_error: 0.1661 - mean_absolute_percentage_error: 35.9984 - root_mean_squared_error: 0.2116 - val_loss: 0.0330 - val_mean_absolute_error: 0.1395 - val_mean_absolute_percentage_error: 21.4442 - val_root_mean_squared_error: 0.1817\n",
            "Epoch 5/20\n",
            "\u001b[1m14/14\u001b[0m \u001b[32m━━━━━━━━━━━━━━━━━━━━\u001b[0m\u001b[37m\u001b[0m \u001b[1m0s\u001b[0m 12ms/step - loss: 0.0379 - mean_absolute_error: 0.1550 - mean_absolute_percentage_error: 37.6909 - root_mean_squared_error: 0.1947 - val_loss: 0.0259 - val_mean_absolute_error: 0.1241 - val_mean_absolute_percentage_error: 18.8042 - val_root_mean_squared_error: 0.1610\n",
            "Epoch 6/20\n",
            "\u001b[1m14/14\u001b[0m \u001b[32m━━━━━━━━━━━━━━━━━━━━\u001b[0m\u001b[37m\u001b[0m \u001b[1m0s\u001b[0m 11ms/step - loss: 0.0297 - mean_absolute_error: 0.1346 - mean_absolute_percentage_error: 30.7767 - root_mean_squared_error: 0.1723 - val_loss: 0.0183 - val_mean_absolute_error: 0.1074 - val_mean_absolute_percentage_error: 16.5791 - val_root_mean_squared_error: 0.1353\n",
            "Epoch 7/20\n",
            "\u001b[1m14/14\u001b[0m \u001b[32m━━━━━━━━━━━━━━━━━━━━\u001b[0m\u001b[37m\u001b[0m \u001b[1m0s\u001b[0m 11ms/step - loss: 0.0255 - mean_absolute_error: 0.1257 - mean_absolute_percentage_error: 29.9769 - root_mean_squared_error: 0.1598 - val_loss: 0.0159 - val_mean_absolute_error: 0.1007 - val_mean_absolute_percentage_error: 16.1018 - val_root_mean_squared_error: 0.1260\n",
            "Epoch 8/20\n",
            "\u001b[1m14/14\u001b[0m \u001b[32m━━━━━━━━━━━━━━━━━━━━\u001b[0m\u001b[37m\u001b[0m \u001b[1m0s\u001b[0m 14ms/step - loss: 0.0241 - mean_absolute_error: 0.1232 - mean_absolute_percentage_error: 30.7147 - root_mean_squared_error: 0.1553 - val_loss: 0.0143 - val_mean_absolute_error: 0.0965 - val_mean_absolute_percentage_error: 15.3728 - val_root_mean_squared_error: 0.1196\n",
            "Epoch 9/20\n",
            "\u001b[1m14/14\u001b[0m \u001b[32m━━━━━━━━━━━━━━━━━━━━\u001b[0m\u001b[37m\u001b[0m \u001b[1m0s\u001b[0m 13ms/step - loss: 0.0222 - mean_absolute_error: 0.1182 - mean_absolute_percentage_error: 29.3815 - root_mean_squared_error: 0.1491 - val_loss: 0.0132 - val_mean_absolute_error: 0.0949 - val_mean_absolute_percentage_error: 14.6731 - val_root_mean_squared_error: 0.1151\n",
            "Epoch 10/20\n",
            "\u001b[1m14/14\u001b[0m \u001b[32m━━━━━━━━━━━━━━━━━━━━\u001b[0m\u001b[37m\u001b[0m \u001b[1m0s\u001b[0m 11ms/step - loss: 0.0223 - mean_absolute_error: 0.1171 - mean_absolute_percentage_error: 29.4477 - root_mean_squared_error: 0.1493 - val_loss: 0.0126 - val_mean_absolute_error: 0.0930 - val_mean_absolute_percentage_error: 14.4122 - val_root_mean_squared_error: 0.1125\n",
            "Epoch 11/20\n",
            "\u001b[1m14/14\u001b[0m \u001b[32m━━━━━━━━━━━━━━━━━━━━\u001b[0m\u001b[37m\u001b[0m \u001b[1m0s\u001b[0m 11ms/step - loss: 0.0215 - mean_absolute_error: 0.1156 - mean_absolute_percentage_error: 27.3883 - root_mean_squared_error: 0.1465 - val_loss: 0.0123 - val_mean_absolute_error: 0.0922 - val_mean_absolute_percentage_error: 14.1804 - val_root_mean_squared_error: 0.1109\n",
            "Epoch 12/20\n",
            "\u001b[1m14/14\u001b[0m \u001b[32m━━━━━━━━━━━━━━━━━━━━\u001b[0m\u001b[37m\u001b[0m \u001b[1m0s\u001b[0m 15ms/step - loss: 0.0210 - mean_absolute_error: 0.1144 - mean_absolute_percentage_error: 27.7227 - root_mean_squared_error: 0.1449 - val_loss: 0.0117 - val_mean_absolute_error: 0.0902 - val_mean_absolute_percentage_error: 13.9802 - val_root_mean_squared_error: 0.1082\n",
            "Epoch 13/20\n",
            "\u001b[1m14/14\u001b[0m \u001b[32m━━━━━━━━━━━━━━━━━━━━\u001b[0m\u001b[37m\u001b[0m \u001b[1m0s\u001b[0m 15ms/step - loss: 0.0209 - mean_absolute_error: 0.1139 - mean_absolute_percentage_error: 29.2858 - root_mean_squared_error: 0.1446 - val_loss: 0.0113 - val_mean_absolute_error: 0.0883 - val_mean_absolute_percentage_error: 13.9237 - val_root_mean_squared_error: 0.1062\n",
            "Epoch 14/20\n",
            "\u001b[1m14/14\u001b[0m \u001b[32m━━━━━━━━━━━━━━━━━━━━\u001b[0m\u001b[37m\u001b[0m \u001b[1m0s\u001b[0m 11ms/step - loss: 0.0196 - mean_absolute_error: 0.1090 - mean_absolute_percentage_error: 27.1404 - root_mean_squared_error: 0.1399 - val_loss: 0.0114 - val_mean_absolute_error: 0.0893 - val_mean_absolute_percentage_error: 13.7305 - val_root_mean_squared_error: 0.1068\n",
            "Epoch 15/20\n",
            "\u001b[1m14/14\u001b[0m \u001b[32m━━━━━━━━━━━━━━━━━━━━\u001b[0m\u001b[37m\u001b[0m \u001b[1m0s\u001b[0m 11ms/step - loss: 0.0210 - mean_absolute_error: 0.1140 - mean_absolute_percentage_error: 28.2328 - root_mean_squared_error: 0.1449 - val_loss: 0.0110 - val_mean_absolute_error: 0.0877 - val_mean_absolute_percentage_error: 13.5731 - val_root_mean_squared_error: 0.1049\n",
            "Epoch 16/20\n",
            "\u001b[1m14/14\u001b[0m \u001b[32m━━━━━━━━━━━━━━━━━━━━\u001b[0m\u001b[37m\u001b[0m \u001b[1m0s\u001b[0m 11ms/step - loss: 0.0202 - mean_absolute_error: 0.1120 - mean_absolute_percentage_error: 28.2403 - root_mean_squared_error: 0.1422 - val_loss: 0.0107 - val_mean_absolute_error: 0.0861 - val_mean_absolute_percentage_error: 13.4422 - val_root_mean_squared_error: 0.1034\n",
            "Epoch 17/20\n",
            "\u001b[1m14/14\u001b[0m \u001b[32m━━━━━━━━━━━━━━━━━━━━\u001b[0m\u001b[37m\u001b[0m \u001b[1m0s\u001b[0m 11ms/step - loss: 0.0207 - mean_absolute_error: 0.1140 - mean_absolute_percentage_error: 27.9542 - root_mean_squared_error: 0.1436 - val_loss: 0.0106 - val_mean_absolute_error: 0.0856 - val_mean_absolute_percentage_error: 13.4078 - val_root_mean_squared_error: 0.1032\n",
            "Epoch 18/20\n",
            "\u001b[1m14/14\u001b[0m \u001b[32m━━━━━━━━━━━━━━━━━━━━\u001b[0m\u001b[37m\u001b[0m \u001b[1m0s\u001b[0m 11ms/step - loss: 0.0190 - mean_absolute_error: 0.1085 - mean_absolute_percentage_error: 25.6986 - root_mean_squared_error: 0.1378 - val_loss: 0.0118 - val_mean_absolute_error: 0.0909 - val_mean_absolute_percentage_error: 13.7674 - val_root_mean_squared_error: 0.1085\n",
            "Epoch 19/20\n",
            "\u001b[1m14/14\u001b[0m \u001b[32m━━━━━━━━━━━━━━━━━━━━\u001b[0m\u001b[37m\u001b[0m \u001b[1m0s\u001b[0m 12ms/step - loss: 0.0194 - mean_absolute_error: 0.1093 - mean_absolute_percentage_error: 27.8986 - root_mean_squared_error: 0.1393 - val_loss: 0.0107 - val_mean_absolute_error: 0.0856 - val_mean_absolute_percentage_error: 13.2262 - val_root_mean_squared_error: 0.1032\n",
            "Epoch 20/20\n",
            "\u001b[1m14/14\u001b[0m \u001b[32m━━━━━━━━━━━━━━━━━━━━\u001b[0m\u001b[37m\u001b[0m \u001b[1m0s\u001b[0m 11ms/step - loss: 0.0195 - mean_absolute_error: 0.1098 - mean_absolute_percentage_error: 26.6380 - root_mean_squared_error: 0.1395 - val_loss: 0.0105 - val_mean_absolute_error: 0.0844 - val_mean_absolute_percentage_error: 13.3076 - val_root_mean_squared_error: 0.1025\n"
          ]
        },
        {
          "output_type": "execute_result",
          "data": {
            "text/plain": [
              "<keras.src.callbacks.history.History at 0x7b26dedcb210>"
            ]
          },
          "metadata": {},
          "execution_count": 104
        }
      ]
    },
    {
      "cell_type": "code",
      "source": [
        "y_pred = model_hybrid_2.predict(x_test)"
      ],
      "metadata": {
        "colab": {
          "base_uri": "https://localhost:8080/"
        },
        "outputId": "463ed340-7a92-4d1c-e91f-83835e54788a",
        "id": "JSSVoDsfnepw"
      },
      "execution_count": null,
      "outputs": [
        {
          "output_type": "stream",
          "name": "stdout",
          "text": [
            "\u001b[1m3/3\u001b[0m \u001b[32m━━━━━━━━━━━━━━━━━━━━\u001b[0m\u001b[37m\u001b[0m \u001b[1m0s\u001b[0m 95ms/step\n"
          ]
        }
      ]
    },
    {
      "cell_type": "code",
      "source": [
        "loss, mae, mape, rmse = model_hybrid_2.evaluate(x_test, y_test)\n",
        "print(\"model hybrid 2\")\n",
        "print(\"Mean Absolute Error:\", mae)\n",
        "print(\"Mean Square Error:\", loss)\n",
        "print(\"Mean Absolute Percentage Error:\", mape)\n",
        "print(\"Root Mean Squared Error:\", rmse)"
      ],
      "metadata": {
        "colab": {
          "base_uri": "https://localhost:8080/"
        },
        "outputId": "241efb4e-4c4d-4e86-c980-d60dbefc673a",
        "id": "4Krmfs_3nepw"
      },
      "execution_count": null,
      "outputs": [
        {
          "output_type": "stream",
          "name": "stdout",
          "text": [
            "\u001b[1m3/3\u001b[0m \u001b[32m━━━━━━━━━━━━━━━━━━━━\u001b[0m\u001b[37m\u001b[0m \u001b[1m0s\u001b[0m 14ms/step - loss: 0.0314 - mean_absolute_error: 0.1412 - mean_absolute_percentage_error: 829121.6250 - root_mean_squared_error: 0.1763\n",
            "model hybrid 2\n",
            "Mean Absolute Error: 0.15275104343891144\n",
            "Mean Square Error: 0.03591059893369675\n",
            "Mean Absolute Percentage Error: 1658214.375\n",
            "Root Mean Squared Error: 0.18950092792510986\n"
          ]
        }
      ]
    },
    {
      "cell_type": "markdown",
      "source": [
        "## model 3 (CNN=32 LSTM=32)"
      ],
      "metadata": {
        "id": "TjLCOssIMiaw"
      }
    },
    {
      "cell_type": "code",
      "source": [
        "lr = 0.0003\n",
        "\n",
        "model_hybrid_3 = Sequential()\n",
        "model_hybrid_3.add(Conv1D(filters=32, kernel_size=1, activation='relu', input_shape=(x_train.shape[1], x_train.shape[2])))\n",
        "model_hybrid_3.add(LSTM(32, activation='tanh', return_sequences=True))\n",
        "model_hybrid_3.add(Dense(1))\n",
        "model_hybrid_3.compile(loss='mse', optimizer='adam', metrics=[metrics.MeanAbsoluteError(), metrics.MeanAbsolutePercentageError(), metrics.RootMeanSquaredError()])\n",
        "model_hybrid_3.summary()"
      ],
      "metadata": {
        "colab": {
          "base_uri": "https://localhost:8080/",
          "height": 238
        },
        "outputId": "c744d7d5-b772-4b0b-aa0e-3057c5b7feff",
        "id": "5PFy2DoZMiaw"
      },
      "execution_count": null,
      "outputs": [
        {
          "output_type": "display_data",
          "data": {
            "text/plain": [
              "\u001b[1mModel: \"sequential_23\"\u001b[0m\n"
            ],
            "text/html": [
              "<pre style=\"white-space:pre;overflow-x:auto;line-height:normal;font-family:Menlo,'DejaVu Sans Mono',consolas,'Courier New',monospace\"><span style=\"font-weight: bold\">Model: \"sequential_23\"</span>\n",
              "</pre>\n"
            ]
          },
          "metadata": {}
        },
        {
          "output_type": "display_data",
          "data": {
            "text/plain": [
              "┏━━━━━━━━━━━━━━━━━━━━━━━━━━━━━━━━━┳━━━━━━━━━━━━━━━━━━━━━━━━┳━━━━━━━━━━━━━━━┓\n",
              "┃\u001b[1m \u001b[0m\u001b[1mLayer (type)                   \u001b[0m\u001b[1m \u001b[0m┃\u001b[1m \u001b[0m\u001b[1mOutput Shape          \u001b[0m\u001b[1m \u001b[0m┃\u001b[1m \u001b[0m\u001b[1m      Param #\u001b[0m\u001b[1m \u001b[0m┃\n",
              "┡━━━━━━━━━━━━━━━━━━━━━━━━━━━━━━━━━╇━━━━━━━━━━━━━━━━━━━━━━━━╇━━━━━━━━━━━━━━━┩\n",
              "│ conv1d_19 (\u001b[38;5;33mConv1D\u001b[0m)              │ (\u001b[38;5;45mNone\u001b[0m, \u001b[38;5;34m7\u001b[0m, \u001b[38;5;34m32\u001b[0m)          │           \u001b[38;5;34m384\u001b[0m │\n",
              "├─────────────────────────────────┼────────────────────────┼───────────────┤\n",
              "│ lstm_22 (\u001b[38;5;33mLSTM\u001b[0m)                  │ (\u001b[38;5;45mNone\u001b[0m, \u001b[38;5;34m7\u001b[0m, \u001b[38;5;34m32\u001b[0m)          │         \u001b[38;5;34m8,320\u001b[0m │\n",
              "├─────────────────────────────────┼────────────────────────┼───────────────┤\n",
              "│ dense_22 (\u001b[38;5;33mDense\u001b[0m)                │ (\u001b[38;5;45mNone\u001b[0m, \u001b[38;5;34m7\u001b[0m, \u001b[38;5;34m1\u001b[0m)           │            \u001b[38;5;34m33\u001b[0m │\n",
              "└─────────────────────────────────┴────────────────────────┴───────────────┘\n"
            ],
            "text/html": [
              "<pre style=\"white-space:pre;overflow-x:auto;line-height:normal;font-family:Menlo,'DejaVu Sans Mono',consolas,'Courier New',monospace\">┏━━━━━━━━━━━━━━━━━━━━━━━━━━━━━━━━━┳━━━━━━━━━━━━━━━━━━━━━━━━┳━━━━━━━━━━━━━━━┓\n",
              "┃<span style=\"font-weight: bold\"> Layer (type)                    </span>┃<span style=\"font-weight: bold\"> Output Shape           </span>┃<span style=\"font-weight: bold\">       Param # </span>┃\n",
              "┡━━━━━━━━━━━━━━━━━━━━━━━━━━━━━━━━━╇━━━━━━━━━━━━━━━━━━━━━━━━╇━━━━━━━━━━━━━━━┩\n",
              "│ conv1d_19 (<span style=\"color: #0087ff; text-decoration-color: #0087ff\">Conv1D</span>)              │ (<span style=\"color: #00d7ff; text-decoration-color: #00d7ff\">None</span>, <span style=\"color: #00af00; text-decoration-color: #00af00\">7</span>, <span style=\"color: #00af00; text-decoration-color: #00af00\">32</span>)          │           <span style=\"color: #00af00; text-decoration-color: #00af00\">384</span> │\n",
              "├─────────────────────────────────┼────────────────────────┼───────────────┤\n",
              "│ lstm_22 (<span style=\"color: #0087ff; text-decoration-color: #0087ff\">LSTM</span>)                  │ (<span style=\"color: #00d7ff; text-decoration-color: #00d7ff\">None</span>, <span style=\"color: #00af00; text-decoration-color: #00af00\">7</span>, <span style=\"color: #00af00; text-decoration-color: #00af00\">32</span>)          │         <span style=\"color: #00af00; text-decoration-color: #00af00\">8,320</span> │\n",
              "├─────────────────────────────────┼────────────────────────┼───────────────┤\n",
              "│ dense_22 (<span style=\"color: #0087ff; text-decoration-color: #0087ff\">Dense</span>)                │ (<span style=\"color: #00d7ff; text-decoration-color: #00d7ff\">None</span>, <span style=\"color: #00af00; text-decoration-color: #00af00\">7</span>, <span style=\"color: #00af00; text-decoration-color: #00af00\">1</span>)           │            <span style=\"color: #00af00; text-decoration-color: #00af00\">33</span> │\n",
              "└─────────────────────────────────┴────────────────────────┴───────────────┘\n",
              "</pre>\n"
            ]
          },
          "metadata": {}
        },
        {
          "output_type": "display_data",
          "data": {
            "text/plain": [
              "\u001b[1m Total params: \u001b[0m\u001b[38;5;34m8,737\u001b[0m (34.13 KB)\n"
            ],
            "text/html": [
              "<pre style=\"white-space:pre;overflow-x:auto;line-height:normal;font-family:Menlo,'DejaVu Sans Mono',consolas,'Courier New',monospace\"><span style=\"font-weight: bold\"> Total params: </span><span style=\"color: #00af00; text-decoration-color: #00af00\">8,737</span> (34.13 KB)\n",
              "</pre>\n"
            ]
          },
          "metadata": {}
        },
        {
          "output_type": "display_data",
          "data": {
            "text/plain": [
              "\u001b[1m Trainable params: \u001b[0m\u001b[38;5;34m8,737\u001b[0m (34.13 KB)\n"
            ],
            "text/html": [
              "<pre style=\"white-space:pre;overflow-x:auto;line-height:normal;font-family:Menlo,'DejaVu Sans Mono',consolas,'Courier New',monospace\"><span style=\"font-weight: bold\"> Trainable params: </span><span style=\"color: #00af00; text-decoration-color: #00af00\">8,737</span> (34.13 KB)\n",
              "</pre>\n"
            ]
          },
          "metadata": {}
        },
        {
          "output_type": "display_data",
          "data": {
            "text/plain": [
              "\u001b[1m Non-trainable params: \u001b[0m\u001b[38;5;34m0\u001b[0m (0.00 B)\n"
            ],
            "text/html": [
              "<pre style=\"white-space:pre;overflow-x:auto;line-height:normal;font-family:Menlo,'DejaVu Sans Mono',consolas,'Courier New',monospace\"><span style=\"font-weight: bold\"> Non-trainable params: </span><span style=\"color: #00af00; text-decoration-color: #00af00\">0</span> (0.00 B)\n",
              "</pre>\n"
            ]
          },
          "metadata": {}
        }
      ]
    },
    {
      "cell_type": "code",
      "source": [
        "model_hybrid_3.fit(\n",
        "    x_train,\n",
        "    y_train,\n",
        "    validation_data=(x_val ,y_val),\n",
        "    epochs=20,\n",
        "    batch_size=42\n",
        ")"
      ],
      "metadata": {
        "colab": {
          "base_uri": "https://localhost:8080/"
        },
        "outputId": "d20907ff-af67-4707-f54d-7e20a4d5f827",
        "id": "TPN6ATh0Miax"
      },
      "execution_count": null,
      "outputs": [
        {
          "output_type": "stream",
          "name": "stdout",
          "text": [
            "Epoch 1/20\n",
            "\u001b[1m14/14\u001b[0m \u001b[32m━━━━━━━━━━━━━━━━━━━━\u001b[0m\u001b[37m\u001b[0m \u001b[1m3s\u001b[0m 43ms/step - loss: 0.1588 - mean_absolute_error: 0.3443 - mean_absolute_percentage_error: 62.9177 - root_mean_squared_error: 0.3963 - val_loss: 0.0671 - val_mean_absolute_error: 0.2209 - val_mean_absolute_percentage_error: 34.5943 - val_root_mean_squared_error: 0.2590\n",
            "Epoch 2/20\n",
            "\u001b[1m14/14\u001b[0m \u001b[32m━━━━━━━━━━━━━━━━━━━━\u001b[0m\u001b[37m\u001b[0m \u001b[1m0s\u001b[0m 11ms/step - loss: 0.0753 - mean_absolute_error: 0.2216 - mean_absolute_percentage_error: 52.4081 - root_mean_squared_error: 0.2742 - val_loss: 0.0475 - val_mean_absolute_error: 0.1662 - val_mean_absolute_percentage_error: 24.8682 - val_root_mean_squared_error: 0.2180\n",
            "Epoch 3/20\n",
            "\u001b[1m14/14\u001b[0m \u001b[32m━━━━━━━━━━━━━━━━━━━━\u001b[0m\u001b[37m\u001b[0m \u001b[1m0s\u001b[0m 11ms/step - loss: 0.0542 - mean_absolute_error: 0.1880 - mean_absolute_percentage_error: 40.6329 - root_mean_squared_error: 0.2328 - val_loss: 0.0353 - val_mean_absolute_error: 0.1436 - val_mean_absolute_percentage_error: 21.8351 - val_root_mean_squared_error: 0.1879\n",
            "Epoch 4/20\n",
            "\u001b[1m14/14\u001b[0m \u001b[32m━━━━━━━━━━━━━━━━━━━━\u001b[0m\u001b[37m\u001b[0m \u001b[1m0s\u001b[0m 11ms/step - loss: 0.0429 - mean_absolute_error: 0.1648 - mean_absolute_percentage_error: 38.3407 - root_mean_squared_error: 0.2071 - val_loss: 0.0271 - val_mean_absolute_error: 0.1254 - val_mean_absolute_percentage_error: 19.1363 - val_root_mean_squared_error: 0.1647\n",
            "Epoch 5/20\n",
            "\u001b[1m14/14\u001b[0m \u001b[32m━━━━━━━━━━━━━━━━━━━━\u001b[0m\u001b[37m\u001b[0m \u001b[1m0s\u001b[0m 18ms/step - loss: 0.0365 - mean_absolute_error: 0.1511 - mean_absolute_percentage_error: 36.3847 - root_mean_squared_error: 0.1910 - val_loss: 0.0207 - val_mean_absolute_error: 0.1117 - val_mean_absolute_percentage_error: 17.2064 - val_root_mean_squared_error: 0.1440\n",
            "Epoch 6/20\n",
            "\u001b[1m14/14\u001b[0m \u001b[32m━━━━━━━━━━━━━━━━━━━━\u001b[0m\u001b[37m\u001b[0m \u001b[1m0s\u001b[0m 20ms/step - loss: 0.0294 - mean_absolute_error: 0.1344 - mean_absolute_percentage_error: 33.4283 - root_mean_squared_error: 0.1714 - val_loss: 0.0179 - val_mean_absolute_error: 0.1066 - val_mean_absolute_percentage_error: 16.2603 - val_root_mean_squared_error: 0.1336\n",
            "Epoch 7/20\n",
            "\u001b[1m14/14\u001b[0m \u001b[32m━━━━━━━━━━━━━━━━━━━━\u001b[0m\u001b[37m\u001b[0m \u001b[1m1s\u001b[0m 16ms/step - loss: 0.0257 - mean_absolute_error: 0.1262 - mean_absolute_percentage_error: 30.7782 - root_mean_squared_error: 0.1601 - val_loss: 0.0161 - val_mean_absolute_error: 0.1023 - val_mean_absolute_percentage_error: 15.8012 - val_root_mean_squared_error: 0.1267\n",
            "Epoch 8/20\n",
            "\u001b[1m14/14\u001b[0m \u001b[32m━━━━━━━━━━━━━━━━━━━━\u001b[0m\u001b[37m\u001b[0m \u001b[1m0s\u001b[0m 18ms/step - loss: 0.0242 - mean_absolute_error: 0.1223 - mean_absolute_percentage_error: 29.5795 - root_mean_squared_error: 0.1555 - val_loss: 0.0154 - val_mean_absolute_error: 0.1009 - val_mean_absolute_percentage_error: 15.3640 - val_root_mean_squared_error: 0.1242\n",
            "Epoch 9/20\n",
            "\u001b[1m14/14\u001b[0m \u001b[32m━━━━━━━━━━━━━━━━━━━━\u001b[0m\u001b[37m\u001b[0m \u001b[1m0s\u001b[0m 20ms/step - loss: 0.0249 - mean_absolute_error: 0.1247 - mean_absolute_percentage_error: 31.8868 - root_mean_squared_error: 0.1577 - val_loss: 0.0138 - val_mean_absolute_error: 0.0950 - val_mean_absolute_percentage_error: 14.8592 - val_root_mean_squared_error: 0.1173\n",
            "Epoch 10/20\n",
            "\u001b[1m14/14\u001b[0m \u001b[32m━━━━━━━━━━━━━━━━━━━━\u001b[0m\u001b[37m\u001b[0m \u001b[1m0s\u001b[0m 18ms/step - loss: 0.0238 - mean_absolute_error: 0.1215 - mean_absolute_percentage_error: 29.5876 - root_mean_squared_error: 0.1541 - val_loss: 0.0128 - val_mean_absolute_error: 0.0921 - val_mean_absolute_percentage_error: 14.3838 - val_root_mean_squared_error: 0.1133\n",
            "Epoch 11/20\n",
            "\u001b[1m14/14\u001b[0m \u001b[32m━━━━━━━━━━━━━━━━━━━━\u001b[0m\u001b[37m\u001b[0m \u001b[1m0s\u001b[0m 19ms/step - loss: 0.0216 - mean_absolute_error: 0.1154 - mean_absolute_percentage_error: 28.5573 - root_mean_squared_error: 0.1470 - val_loss: 0.0121 - val_mean_absolute_error: 0.0900 - val_mean_absolute_percentage_error: 13.8903 - val_root_mean_squared_error: 0.1099\n",
            "Epoch 12/20\n",
            "\u001b[1m14/14\u001b[0m \u001b[32m━━━━━━━━━━━━━━━━━━━━\u001b[0m\u001b[37m\u001b[0m \u001b[1m0s\u001b[0m 11ms/step - loss: 0.0216 - mean_absolute_error: 0.1163 - mean_absolute_percentage_error: 28.4970 - root_mean_squared_error: 0.1470 - val_loss: 0.0124 - val_mean_absolute_error: 0.0916 - val_mean_absolute_percentage_error: 13.8023 - val_root_mean_squared_error: 0.1113\n",
            "Epoch 13/20\n",
            "\u001b[1m14/14\u001b[0m \u001b[32m━━━━━━━━━━━━━━━━━━━━\u001b[0m\u001b[37m\u001b[0m \u001b[1m0s\u001b[0m 12ms/step - loss: 0.0201 - mean_absolute_error: 0.1119 - mean_absolute_percentage_error: 27.9672 - root_mean_squared_error: 0.1417 - val_loss: 0.0113 - val_mean_absolute_error: 0.0882 - val_mean_absolute_percentage_error: 13.3953 - val_root_mean_squared_error: 0.1065\n",
            "Epoch 14/20\n",
            "\u001b[1m14/14\u001b[0m \u001b[32m━━━━━━━━━━━━━━━━━━━━\u001b[0m\u001b[37m\u001b[0m \u001b[1m0s\u001b[0m 11ms/step - loss: 0.0213 - mean_absolute_error: 0.1155 - mean_absolute_percentage_error: 29.5439 - root_mean_squared_error: 0.1460 - val_loss: 0.0109 - val_mean_absolute_error: 0.0855 - val_mean_absolute_percentage_error: 13.5629 - val_root_mean_squared_error: 0.1042\n",
            "Epoch 15/20\n",
            "\u001b[1m14/14\u001b[0m \u001b[32m━━━━━━━━━━━━━━━━━━━━\u001b[0m\u001b[37m\u001b[0m \u001b[1m0s\u001b[0m 12ms/step - loss: 0.0205 - mean_absolute_error: 0.1128 - mean_absolute_percentage_error: 28.7159 - root_mean_squared_error: 0.1432 - val_loss: 0.0104 - val_mean_absolute_error: 0.0842 - val_mean_absolute_percentage_error: 13.2658 - val_root_mean_squared_error: 0.1017\n",
            "Epoch 16/20\n",
            "\u001b[1m14/14\u001b[0m \u001b[32m━━━━━━━━━━━━━━━━━━━━\u001b[0m\u001b[37m\u001b[0m \u001b[1m0s\u001b[0m 11ms/step - loss: 0.0196 - mean_absolute_error: 0.1105 - mean_absolute_percentage_error: 28.1938 - root_mean_squared_error: 0.1400 - val_loss: 0.0102 - val_mean_absolute_error: 0.0844 - val_mean_absolute_percentage_error: 13.1192 - val_root_mean_squared_error: 0.1009\n",
            "Epoch 17/20\n",
            "\u001b[1m14/14\u001b[0m \u001b[32m━━━━━━━━━━━━━━━━━━━━\u001b[0m\u001b[37m\u001b[0m \u001b[1m0s\u001b[0m 12ms/step - loss: 0.0190 - mean_absolute_error: 0.1078 - mean_absolute_percentage_error: 26.9678 - root_mean_squared_error: 0.1377 - val_loss: 0.0107 - val_mean_absolute_error: 0.0866 - val_mean_absolute_percentage_error: 13.1149 - val_root_mean_squared_error: 0.1034\n",
            "Epoch 18/20\n",
            "\u001b[1m14/14\u001b[0m \u001b[32m━━━━━━━━━━━━━━━━━━━━\u001b[0m\u001b[37m\u001b[0m \u001b[1m0s\u001b[0m 11ms/step - loss: 0.0204 - mean_absolute_error: 0.1133 - mean_absolute_percentage_error: 30.0337 - root_mean_squared_error: 0.1427 - val_loss: 0.0100 - val_mean_absolute_error: 0.0836 - val_mean_absolute_percentage_error: 13.0513 - val_root_mean_squared_error: 0.0999\n",
            "Epoch 19/20\n",
            "\u001b[1m14/14\u001b[0m \u001b[32m━━━━━━━━━━━━━━━━━━━━\u001b[0m\u001b[37m\u001b[0m \u001b[1m0s\u001b[0m 11ms/step - loss: 0.0197 - mean_absolute_error: 0.1098 - mean_absolute_percentage_error: 28.7942 - root_mean_squared_error: 0.1404 - val_loss: 0.0104 - val_mean_absolute_error: 0.0858 - val_mean_absolute_percentage_error: 13.0519 - val_root_mean_squared_error: 0.1019\n",
            "Epoch 20/20\n",
            "\u001b[1m14/14\u001b[0m \u001b[32m━━━━━━━━━━━━━━━━━━━━\u001b[0m\u001b[37m\u001b[0m \u001b[1m0s\u001b[0m 12ms/step - loss: 0.0199 - mean_absolute_error: 0.1109 - mean_absolute_percentage_error: 28.7974 - root_mean_squared_error: 0.1410 - val_loss: 0.0100 - val_mean_absolute_error: 0.0841 - val_mean_absolute_percentage_error: 13.0139 - val_root_mean_squared_error: 0.1001\n"
          ]
        },
        {
          "output_type": "execute_result",
          "data": {
            "text/plain": [
              "<keras.src.callbacks.history.History at 0x7b26de8489d0>"
            ]
          },
          "metadata": {},
          "execution_count": 108
        }
      ]
    },
    {
      "cell_type": "code",
      "source": [
        "y_pred = model_hybrid_3.predict(x_test)"
      ],
      "metadata": {
        "colab": {
          "base_uri": "https://localhost:8080/"
        },
        "outputId": "a2932759-7ce4-4326-f520-6eb82f0a4339",
        "id": "z3u1abnzMiax"
      },
      "execution_count": null,
      "outputs": [
        {
          "output_type": "stream",
          "name": "stdout",
          "text": [
            "\u001b[1m3/3\u001b[0m \u001b[32m━━━━━━━━━━━━━━━━━━━━\u001b[0m\u001b[37m\u001b[0m \u001b[1m1s\u001b[0m 204ms/step\n"
          ]
        }
      ]
    },
    {
      "cell_type": "code",
      "source": [
        "loss, mae, mape, rmse = model_hybrid_3.evaluate(x_test, y_test)\n",
        "print(\"model hybrid 3\")\n",
        "print(\"Mean Absolute Error:\", mae)\n",
        "print(\"Mean Square Error:\", loss)\n",
        "print(\"Mean Absolute Percentage Error:\", mape)\n",
        "print(\"Root Mean Squared Error:\", rmse)"
      ],
      "metadata": {
        "colab": {
          "base_uri": "https://localhost:8080/"
        },
        "outputId": "46f5dd1d-0346-4551-c4f8-20fbe4a44ea0",
        "id": "7vr-S383Miay"
      },
      "execution_count": null,
      "outputs": [
        {
          "output_type": "stream",
          "name": "stdout",
          "text": [
            "\u001b[1m3/3\u001b[0m \u001b[32m━━━━━━━━━━━━━━━━━━━━\u001b[0m\u001b[37m\u001b[0m \u001b[1m0s\u001b[0m 14ms/step - loss: 0.0306 - mean_absolute_error: 0.1396 - mean_absolute_percentage_error: 657109.4375 - root_mean_squared_error: 0.1742\n",
            "model hybrid 3\n",
            "Mean Absolute Error: 0.1504223495721817\n",
            "Mean Square Error: 0.03487502783536911\n",
            "Mean Absolute Percentage Error: 1314190.25\n",
            "Root Mean Squared Error: 0.18674856424331665\n"
          ]
        }
      ]
    },
    {
      "cell_type": "markdown",
      "source": [
        "## model 4 (CNN=24 LSTM=12)"
      ],
      "metadata": {
        "id": "0vzThMC3jXvu"
      }
    },
    {
      "cell_type": "code",
      "source": [
        "lr = 0.0003\n",
        "\n",
        "model_hybrid_4 = Sequential()\n",
        "model_hybrid_4.add(Conv1D(filters=24, kernel_size=1, activation='relu', input_shape=(x_train.shape[1], x_train.shape[2])))\n",
        "model_hybrid_4.add(LSTM(12, activation='tanh', return_sequences=True))\n",
        "model_hybrid_4.add(Dense(1))\n",
        "model_hybrid_4.compile(loss='mse', optimizer='adam', metrics=[metrics.MeanAbsoluteError(), metrics.MeanAbsolutePercentageError(), metrics.RootMeanSquaredError()])\n",
        "model_hybrid_4.summary()"
      ],
      "metadata": {
        "colab": {
          "base_uri": "https://localhost:8080/",
          "height": 238
        },
        "outputId": "b4e5bfae-88e0-4daf-ae0a-04083c6f837c",
        "id": "R4aL9H9pjXvv"
      },
      "execution_count": null,
      "outputs": [
        {
          "output_type": "display_data",
          "data": {
            "text/plain": [
              "\u001b[1mModel: \"sequential_24\"\u001b[0m\n"
            ],
            "text/html": [
              "<pre style=\"white-space:pre;overflow-x:auto;line-height:normal;font-family:Menlo,'DejaVu Sans Mono',consolas,'Courier New',monospace\"><span style=\"font-weight: bold\">Model: \"sequential_24\"</span>\n",
              "</pre>\n"
            ]
          },
          "metadata": {}
        },
        {
          "output_type": "display_data",
          "data": {
            "text/plain": [
              "┏━━━━━━━━━━━━━━━━━━━━━━━━━━━━━━━━━┳━━━━━━━━━━━━━━━━━━━━━━━━┳━━━━━━━━━━━━━━━┓\n",
              "┃\u001b[1m \u001b[0m\u001b[1mLayer (type)                   \u001b[0m\u001b[1m \u001b[0m┃\u001b[1m \u001b[0m\u001b[1mOutput Shape          \u001b[0m\u001b[1m \u001b[0m┃\u001b[1m \u001b[0m\u001b[1m      Param #\u001b[0m\u001b[1m \u001b[0m┃\n",
              "┡━━━━━━━━━━━━━━━━━━━━━━━━━━━━━━━━━╇━━━━━━━━━━━━━━━━━━━━━━━━╇━━━━━━━━━━━━━━━┩\n",
              "│ conv1d_20 (\u001b[38;5;33mConv1D\u001b[0m)              │ (\u001b[38;5;45mNone\u001b[0m, \u001b[38;5;34m7\u001b[0m, \u001b[38;5;34m24\u001b[0m)          │           \u001b[38;5;34m288\u001b[0m │\n",
              "├─────────────────────────────────┼────────────────────────┼───────────────┤\n",
              "│ lstm_23 (\u001b[38;5;33mLSTM\u001b[0m)                  │ (\u001b[38;5;45mNone\u001b[0m, \u001b[38;5;34m7\u001b[0m, \u001b[38;5;34m12\u001b[0m)          │         \u001b[38;5;34m1,776\u001b[0m │\n",
              "├─────────────────────────────────┼────────────────────────┼───────────────┤\n",
              "│ dense_23 (\u001b[38;5;33mDense\u001b[0m)                │ (\u001b[38;5;45mNone\u001b[0m, \u001b[38;5;34m7\u001b[0m, \u001b[38;5;34m1\u001b[0m)           │            \u001b[38;5;34m13\u001b[0m │\n",
              "└─────────────────────────────────┴────────────────────────┴───────────────┘\n"
            ],
            "text/html": [
              "<pre style=\"white-space:pre;overflow-x:auto;line-height:normal;font-family:Menlo,'DejaVu Sans Mono',consolas,'Courier New',monospace\">┏━━━━━━━━━━━━━━━━━━━━━━━━━━━━━━━━━┳━━━━━━━━━━━━━━━━━━━━━━━━┳━━━━━━━━━━━━━━━┓\n",
              "┃<span style=\"font-weight: bold\"> Layer (type)                    </span>┃<span style=\"font-weight: bold\"> Output Shape           </span>┃<span style=\"font-weight: bold\">       Param # </span>┃\n",
              "┡━━━━━━━━━━━━━━━━━━━━━━━━━━━━━━━━━╇━━━━━━━━━━━━━━━━━━━━━━━━╇━━━━━━━━━━━━━━━┩\n",
              "│ conv1d_20 (<span style=\"color: #0087ff; text-decoration-color: #0087ff\">Conv1D</span>)              │ (<span style=\"color: #00d7ff; text-decoration-color: #00d7ff\">None</span>, <span style=\"color: #00af00; text-decoration-color: #00af00\">7</span>, <span style=\"color: #00af00; text-decoration-color: #00af00\">24</span>)          │           <span style=\"color: #00af00; text-decoration-color: #00af00\">288</span> │\n",
              "├─────────────────────────────────┼────────────────────────┼───────────────┤\n",
              "│ lstm_23 (<span style=\"color: #0087ff; text-decoration-color: #0087ff\">LSTM</span>)                  │ (<span style=\"color: #00d7ff; text-decoration-color: #00d7ff\">None</span>, <span style=\"color: #00af00; text-decoration-color: #00af00\">7</span>, <span style=\"color: #00af00; text-decoration-color: #00af00\">12</span>)          │         <span style=\"color: #00af00; text-decoration-color: #00af00\">1,776</span> │\n",
              "├─────────────────────────────────┼────────────────────────┼───────────────┤\n",
              "│ dense_23 (<span style=\"color: #0087ff; text-decoration-color: #0087ff\">Dense</span>)                │ (<span style=\"color: #00d7ff; text-decoration-color: #00d7ff\">None</span>, <span style=\"color: #00af00; text-decoration-color: #00af00\">7</span>, <span style=\"color: #00af00; text-decoration-color: #00af00\">1</span>)           │            <span style=\"color: #00af00; text-decoration-color: #00af00\">13</span> │\n",
              "└─────────────────────────────────┴────────────────────────┴───────────────┘\n",
              "</pre>\n"
            ]
          },
          "metadata": {}
        },
        {
          "output_type": "display_data",
          "data": {
            "text/plain": [
              "\u001b[1m Total params: \u001b[0m\u001b[38;5;34m2,077\u001b[0m (8.11 KB)\n"
            ],
            "text/html": [
              "<pre style=\"white-space:pre;overflow-x:auto;line-height:normal;font-family:Menlo,'DejaVu Sans Mono',consolas,'Courier New',monospace\"><span style=\"font-weight: bold\"> Total params: </span><span style=\"color: #00af00; text-decoration-color: #00af00\">2,077</span> (8.11 KB)\n",
              "</pre>\n"
            ]
          },
          "metadata": {}
        },
        {
          "output_type": "display_data",
          "data": {
            "text/plain": [
              "\u001b[1m Trainable params: \u001b[0m\u001b[38;5;34m2,077\u001b[0m (8.11 KB)\n"
            ],
            "text/html": [
              "<pre style=\"white-space:pre;overflow-x:auto;line-height:normal;font-family:Menlo,'DejaVu Sans Mono',consolas,'Courier New',monospace\"><span style=\"font-weight: bold\"> Trainable params: </span><span style=\"color: #00af00; text-decoration-color: #00af00\">2,077</span> (8.11 KB)\n",
              "</pre>\n"
            ]
          },
          "metadata": {}
        },
        {
          "output_type": "display_data",
          "data": {
            "text/plain": [
              "\u001b[1m Non-trainable params: \u001b[0m\u001b[38;5;34m0\u001b[0m (0.00 B)\n"
            ],
            "text/html": [
              "<pre style=\"white-space:pre;overflow-x:auto;line-height:normal;font-family:Menlo,'DejaVu Sans Mono',consolas,'Courier New',monospace\"><span style=\"font-weight: bold\"> Non-trainable params: </span><span style=\"color: #00af00; text-decoration-color: #00af00\">0</span> (0.00 B)\n",
              "</pre>\n"
            ]
          },
          "metadata": {}
        }
      ]
    },
    {
      "cell_type": "code",
      "source": [
        "model_hybrid_4.fit(\n",
        "    x_train,\n",
        "    y_train,\n",
        "    validation_data=(x_val ,y_val),\n",
        "    epochs=20,\n",
        "    batch_size=42\n",
        ")"
      ],
      "metadata": {
        "colab": {
          "base_uri": "https://localhost:8080/"
        },
        "outputId": "8d66278b-8915-4fc0-8c8b-e4a7de45a359",
        "id": "-NnJ_dahjXvv"
      },
      "execution_count": null,
      "outputs": [
        {
          "output_type": "stream",
          "name": "stdout",
          "text": [
            "Epoch 1/20\n",
            "\u001b[1m14/14\u001b[0m \u001b[32m━━━━━━━━━━━━━━━━━━━━\u001b[0m\u001b[37m\u001b[0m \u001b[1m3s\u001b[0m 41ms/step - loss: 0.4096 - mean_absolute_error: 0.6138 - mean_absolute_percentage_error: 113.4865 - root_mean_squared_error: 0.6394 - val_loss: 0.2986 - val_mean_absolute_error: 0.5380 - val_mean_absolute_percentage_error: 81.3885 - val_root_mean_squared_error: 0.5465\n",
            "Epoch 2/20\n",
            "\u001b[1m14/14\u001b[0m \u001b[32m━━━━━━━━━━━━━━━━━━━━\u001b[0m\u001b[37m\u001b[0m \u001b[1m0s\u001b[0m 11ms/step - loss: 0.2243 - mean_absolute_error: 0.4391 - mean_absolute_percentage_error: 77.3612 - root_mean_squared_error: 0.4732 - val_loss: 0.1337 - val_mean_absolute_error: 0.3404 - val_mean_absolute_percentage_error: 50.7640 - val_root_mean_squared_error: 0.3656\n",
            "Epoch 3/20\n",
            "\u001b[1m14/14\u001b[0m \u001b[32m━━━━━━━━━━━━━━━━━━━━\u001b[0m\u001b[37m\u001b[0m \u001b[1m0s\u001b[0m 13ms/step - loss: 0.1077 - mean_absolute_error: 0.2812 - mean_absolute_percentage_error: 48.9930 - root_mean_squared_error: 0.3270 - val_loss: 0.0523 - val_mean_absolute_error: 0.1782 - val_mean_absolute_percentage_error: 26.9570 - val_root_mean_squared_error: 0.2287\n",
            "Epoch 4/20\n",
            "\u001b[1m14/14\u001b[0m \u001b[32m━━━━━━━━━━━━━━━━━━━━\u001b[0m\u001b[37m\u001b[0m \u001b[1m0s\u001b[0m 10ms/step - loss: 0.0558 - mean_absolute_error: 0.1871 - mean_absolute_percentage_error: 41.0456 - root_mean_squared_error: 0.2362 - val_loss: 0.0479 - val_mean_absolute_error: 0.1794 - val_mean_absolute_percentage_error: 27.9565 - val_root_mean_squared_error: 0.2189\n",
            "Epoch 5/20\n",
            "\u001b[1m14/14\u001b[0m \u001b[32m━━━━━━━━━━━━━━━━━━━━\u001b[0m\u001b[37m\u001b[0m \u001b[1m0s\u001b[0m 11ms/step - loss: 0.0521 - mean_absolute_error: 0.1811 - mean_absolute_percentage_error: 43.6053 - root_mean_squared_error: 0.2281 - val_loss: 0.0414 - val_mean_absolute_error: 0.1585 - val_mean_absolute_percentage_error: 24.2726 - val_root_mean_squared_error: 0.2035\n",
            "Epoch 6/20\n",
            "\u001b[1m14/14\u001b[0m \u001b[32m━━━━━━━━━━━━━━━━━━━━\u001b[0m\u001b[37m\u001b[0m \u001b[1m0s\u001b[0m 14ms/step - loss: 0.0481 - mean_absolute_error: 0.1725 - mean_absolute_percentage_error: 41.2341 - root_mean_squared_error: 0.2193 - val_loss: 0.0377 - val_mean_absolute_error: 0.1503 - val_mean_absolute_percentage_error: 22.9761 - val_root_mean_squared_error: 0.1941\n",
            "Epoch 7/20\n",
            "\u001b[1m14/14\u001b[0m \u001b[32m━━━━━━━━━━━━━━━━━━━━\u001b[0m\u001b[37m\u001b[0m \u001b[1m0s\u001b[0m 10ms/step - loss: 0.0427 - mean_absolute_error: 0.1624 - mean_absolute_percentage_error: 38.3816 - root_mean_squared_error: 0.2065 - val_loss: 0.0338 - val_mean_absolute_error: 0.1426 - val_mean_absolute_percentage_error: 21.9405 - val_root_mean_squared_error: 0.1839\n",
            "Epoch 8/20\n",
            "\u001b[1m14/14\u001b[0m \u001b[32m━━━━━━━━━━━━━━━━━━━━\u001b[0m\u001b[37m\u001b[0m \u001b[1m0s\u001b[0m 10ms/step - loss: 0.0386 - mean_absolute_error: 0.1548 - mean_absolute_percentage_error: 35.9495 - root_mean_squared_error: 0.1963 - val_loss: 0.0302 - val_mean_absolute_error: 0.1347 - val_mean_absolute_percentage_error: 20.7648 - val_root_mean_squared_error: 0.1739\n",
            "Epoch 9/20\n",
            "\u001b[1m14/14\u001b[0m \u001b[32m━━━━━━━━━━━━━━━━━━━━\u001b[0m\u001b[37m\u001b[0m \u001b[1m0s\u001b[0m 10ms/step - loss: 0.0377 - mean_absolute_error: 0.1522 - mean_absolute_percentage_error: 35.6387 - root_mean_squared_error: 0.1940 - val_loss: 0.0266 - val_mean_absolute_error: 0.1260 - val_mean_absolute_percentage_error: 19.4437 - val_root_mean_squared_error: 0.1630\n",
            "Epoch 10/20\n",
            "\u001b[1m14/14\u001b[0m \u001b[32m━━━━━━━━━━━━━━━━━━━━\u001b[0m\u001b[37m\u001b[0m \u001b[1m0s\u001b[0m 11ms/step - loss: 0.0324 - mean_absolute_error: 0.1415 - mean_absolute_percentage_error: 32.8166 - root_mean_squared_error: 0.1801 - val_loss: 0.0226 - val_mean_absolute_error: 0.1166 - val_mean_absolute_percentage_error: 18.0303 - val_root_mean_squared_error: 0.1504\n",
            "Epoch 11/20\n",
            "\u001b[1m14/14\u001b[0m \u001b[32m━━━━━━━━━━━━━━━━━━━━\u001b[0m\u001b[37m\u001b[0m \u001b[1m0s\u001b[0m 10ms/step - loss: 0.0293 - mean_absolute_error: 0.1343 - mean_absolute_percentage_error: 32.0685 - root_mean_squared_error: 0.1713 - val_loss: 0.0185 - val_mean_absolute_error: 0.1069 - val_mean_absolute_percentage_error: 16.6255 - val_root_mean_squared_error: 0.1362\n",
            "Epoch 12/20\n",
            "\u001b[1m14/14\u001b[0m \u001b[32m━━━━━━━━━━━━━━━━━━━━\u001b[0m\u001b[37m\u001b[0m \u001b[1m0s\u001b[0m 14ms/step - loss: 0.0272 - mean_absolute_error: 0.1293 - mean_absolute_percentage_error: 31.6667 - root_mean_squared_error: 0.1650 - val_loss: 0.0157 - val_mean_absolute_error: 0.0997 - val_mean_absolute_percentage_error: 15.6927 - val_root_mean_squared_error: 0.1254\n",
            "Epoch 13/20\n",
            "\u001b[1m14/14\u001b[0m \u001b[32m━━━━━━━━━━━━━━━━━━━━\u001b[0m\u001b[37m\u001b[0m \u001b[1m0s\u001b[0m 11ms/step - loss: 0.0261 - mean_absolute_error: 0.1265 - mean_absolute_percentage_error: 31.7190 - root_mean_squared_error: 0.1616 - val_loss: 0.0141 - val_mean_absolute_error: 0.0952 - val_mean_absolute_percentage_error: 14.8815 - val_root_mean_squared_error: 0.1186\n",
            "Epoch 14/20\n",
            "\u001b[1m14/14\u001b[0m \u001b[32m━━━━━━━━━━━━━━━━━━━━\u001b[0m\u001b[37m\u001b[0m \u001b[1m0s\u001b[0m 15ms/step - loss: 0.0235 - mean_absolute_error: 0.1206 - mean_absolute_percentage_error: 29.4722 - root_mean_squared_error: 0.1532 - val_loss: 0.0134 - val_mean_absolute_error: 0.0935 - val_mean_absolute_percentage_error: 14.5025 - val_root_mean_squared_error: 0.1156\n",
            "Epoch 15/20\n",
            "\u001b[1m14/14\u001b[0m \u001b[32m━━━━━━━━━━━━━━━━━━━━\u001b[0m\u001b[37m\u001b[0m \u001b[1m0s\u001b[0m 16ms/step - loss: 0.0236 - mean_absolute_error: 0.1216 - mean_absolute_percentage_error: 31.0918 - root_mean_squared_error: 0.1535 - val_loss: 0.0126 - val_mean_absolute_error: 0.0902 - val_mean_absolute_percentage_error: 14.2389 - val_root_mean_squared_error: 0.1125\n",
            "Epoch 16/20\n",
            "\u001b[1m14/14\u001b[0m \u001b[32m━━━━━━━━━━━━━━━━━━━━\u001b[0m\u001b[37m\u001b[0m \u001b[1m0s\u001b[0m 20ms/step - loss: 0.0246 - mean_absolute_error: 0.1243 - mean_absolute_percentage_error: 31.6202 - root_mean_squared_error: 0.1569 - val_loss: 0.0121 - val_mean_absolute_error: 0.0891 - val_mean_absolute_percentage_error: 13.8684 - val_root_mean_squared_error: 0.1101\n",
            "Epoch 17/20\n",
            "\u001b[1m14/14\u001b[0m \u001b[32m━━━━━━━━━━━━━━━━━━━━\u001b[0m\u001b[37m\u001b[0m \u001b[1m0s\u001b[0m 15ms/step - loss: 0.0229 - mean_absolute_error: 0.1187 - mean_absolute_percentage_error: 29.2748 - root_mean_squared_error: 0.1512 - val_loss: 0.0117 - val_mean_absolute_error: 0.0875 - val_mean_absolute_percentage_error: 13.6978 - val_root_mean_squared_error: 0.1083\n",
            "Epoch 18/20\n",
            "\u001b[1m14/14\u001b[0m \u001b[32m━━━━━━━━━━━━━━━━━━━━\u001b[0m\u001b[37m\u001b[0m \u001b[1m0s\u001b[0m 16ms/step - loss: 0.0226 - mean_absolute_error: 0.1182 - mean_absolute_percentage_error: 29.5620 - root_mean_squared_error: 0.1504 - val_loss: 0.0114 - val_mean_absolute_error: 0.0865 - val_mean_absolute_percentage_error: 13.5536 - val_root_mean_squared_error: 0.1068\n",
            "Epoch 19/20\n",
            "\u001b[1m14/14\u001b[0m \u001b[32m━━━━━━━━━━━━━━━━━━━━\u001b[0m\u001b[37m\u001b[0m \u001b[1m0s\u001b[0m 18ms/step - loss: 0.0228 - mean_absolute_error: 0.1193 - mean_absolute_percentage_error: 30.6164 - root_mean_squared_error: 0.1511 - val_loss: 0.0112 - val_mean_absolute_error: 0.0854 - val_mean_absolute_percentage_error: 13.4730 - val_root_mean_squared_error: 0.1056\n",
            "Epoch 20/20\n",
            "\u001b[1m14/14\u001b[0m \u001b[32m━━━━━━━━━━━━━━━━━━━━\u001b[0m\u001b[37m\u001b[0m \u001b[1m0s\u001b[0m 19ms/step - loss: 0.0220 - mean_absolute_error: 0.1167 - mean_absolute_percentage_error: 30.0459 - root_mean_squared_error: 0.1484 - val_loss: 0.0110 - val_mean_absolute_error: 0.0853 - val_mean_absolute_percentage_error: 13.3349 - val_root_mean_squared_error: 0.1048\n"
          ]
        },
        {
          "output_type": "execute_result",
          "data": {
            "text/plain": [
              "<keras.src.callbacks.history.History at 0x7b26d24e7990>"
            ]
          },
          "metadata": {},
          "execution_count": 112
        }
      ]
    },
    {
      "cell_type": "code",
      "source": [
        "y_pred = model_hybrid_4.predict(x_test)"
      ],
      "metadata": {
        "colab": {
          "base_uri": "https://localhost:8080/"
        },
        "outputId": "7385867b-5ffe-4f84-f687-2f5bb0fb3967",
        "id": "MQRTjjOUjXvv"
      },
      "execution_count": null,
      "outputs": [
        {
          "output_type": "stream",
          "name": "stdout",
          "text": [
            "\u001b[1m3/3\u001b[0m \u001b[32m━━━━━━━━━━━━━━━━━━━━\u001b[0m\u001b[37m\u001b[0m \u001b[1m1s\u001b[0m 138ms/step\n"
          ]
        }
      ]
    },
    {
      "cell_type": "code",
      "source": [
        "loss, mae, mape, rmse = model_hybrid_4.evaluate(x_test, y_test)\n",
        "print(\"model hybrid 4\")\n",
        "print(\"Mean Absolute Error:\", mae)\n",
        "print(\"Mean Square Error:\", loss)\n",
        "print(\"Mean Absolute Percentage Error:\", mape)\n",
        "print(\"Root Mean Squared Error:\", rmse)"
      ],
      "metadata": {
        "colab": {
          "base_uri": "https://localhost:8080/"
        },
        "outputId": "922ee419-bac0-4c20-9e8f-17d65351626e",
        "id": "z0JpUoDkjXvv"
      },
      "execution_count": null,
      "outputs": [
        {
          "output_type": "stream",
          "name": "stdout",
          "text": [
            "\u001b[1m3/3\u001b[0m \u001b[32m━━━━━━━━━━━━━━━━━━━━\u001b[0m\u001b[37m\u001b[0m \u001b[1m0s\u001b[0m 14ms/step - loss: 0.0318 - mean_absolute_error: 0.1435 - mean_absolute_percentage_error: 894792.2500 - root_mean_squared_error: 0.1772\n",
            "model hybrid 4\n",
            "Mean Absolute Error: 0.15604597330093384\n",
            "Mean Square Error: 0.03708365187048912\n",
            "Mean Absolute Percentage Error: 1789555.5\n",
            "Root Mean Squared Error: 0.19257116317749023\n"
          ]
        }
      ]
    },
    {
      "cell_type": "code",
      "source": [],
      "metadata": {
        "id": "cEuOEpBejr1T"
      },
      "execution_count": null,
      "outputs": []
    },
    {
      "cell_type": "markdown",
      "source": [
        "## model 5 (CNN=24 LSTM=12)"
      ],
      "metadata": {
        "id": "oBfra-yJGSER"
      }
    },
    {
      "cell_type": "code",
      "source": [
        "lr = 0.0003\n",
        "\n",
        "model_hybrid_5 = Sequential()\n",
        "model_hybrid_5.add(Conv1D(filters=256, kernel_size=1, activation='relu', input_shape=(x_train.shape[1], x_train.shape[2])))\n",
        "model_hybrid_5.add(LSTM(128, activation='tanh', return_sequences=True))\n",
        "model_hybrid_5.add(Dense(1))\n",
        "model_hybrid_5.compile(loss='mse', optimizer='adam', metrics=[metrics.MeanAbsoluteError(), metrics.MeanAbsolutePercentageError(), metrics.RootMeanSquaredError()])\n",
        "model_hybrid_5.summary()"
      ],
      "metadata": {
        "colab": {
          "base_uri": "https://localhost:8080/",
          "height": 238
        },
        "outputId": "75c44cdd-bdfe-47d8-dade-83862ba88e61",
        "id": "bH5CNM7cGSES"
      },
      "execution_count": null,
      "outputs": [
        {
          "output_type": "display_data",
          "data": {
            "text/plain": [
              "\u001b[1mModel: \"sequential_25\"\u001b[0m\n"
            ],
            "text/html": [
              "<pre style=\"white-space:pre;overflow-x:auto;line-height:normal;font-family:Menlo,'DejaVu Sans Mono',consolas,'Courier New',monospace\"><span style=\"font-weight: bold\">Model: \"sequential_25\"</span>\n",
              "</pre>\n"
            ]
          },
          "metadata": {}
        },
        {
          "output_type": "display_data",
          "data": {
            "text/plain": [
              "┏━━━━━━━━━━━━━━━━━━━━━━━━━━━━━━━━━┳━━━━━━━━━━━━━━━━━━━━━━━━┳━━━━━━━━━━━━━━━┓\n",
              "┃\u001b[1m \u001b[0m\u001b[1mLayer (type)                   \u001b[0m\u001b[1m \u001b[0m┃\u001b[1m \u001b[0m\u001b[1mOutput Shape          \u001b[0m\u001b[1m \u001b[0m┃\u001b[1m \u001b[0m\u001b[1m      Param #\u001b[0m\u001b[1m \u001b[0m┃\n",
              "┡━━━━━━━━━━━━━━━━━━━━━━━━━━━━━━━━━╇━━━━━━━━━━━━━━━━━━━━━━━━╇━━━━━━━━━━━━━━━┩\n",
              "│ conv1d_21 (\u001b[38;5;33mConv1D\u001b[0m)              │ (\u001b[38;5;45mNone\u001b[0m, \u001b[38;5;34m7\u001b[0m, \u001b[38;5;34m256\u001b[0m)         │         \u001b[38;5;34m3,072\u001b[0m │\n",
              "├─────────────────────────────────┼────────────────────────┼───────────────┤\n",
              "│ lstm_24 (\u001b[38;5;33mLSTM\u001b[0m)                  │ (\u001b[38;5;45mNone\u001b[0m, \u001b[38;5;34m7\u001b[0m, \u001b[38;5;34m128\u001b[0m)         │       \u001b[38;5;34m197,120\u001b[0m │\n",
              "├─────────────────────────────────┼────────────────────────┼───────────────┤\n",
              "│ dense_24 (\u001b[38;5;33mDense\u001b[0m)                │ (\u001b[38;5;45mNone\u001b[0m, \u001b[38;5;34m7\u001b[0m, \u001b[38;5;34m1\u001b[0m)           │           \u001b[38;5;34m129\u001b[0m │\n",
              "└─────────────────────────────────┴────────────────────────┴───────────────┘\n"
            ],
            "text/html": [
              "<pre style=\"white-space:pre;overflow-x:auto;line-height:normal;font-family:Menlo,'DejaVu Sans Mono',consolas,'Courier New',monospace\">┏━━━━━━━━━━━━━━━━━━━━━━━━━━━━━━━━━┳━━━━━━━━━━━━━━━━━━━━━━━━┳━━━━━━━━━━━━━━━┓\n",
              "┃<span style=\"font-weight: bold\"> Layer (type)                    </span>┃<span style=\"font-weight: bold\"> Output Shape           </span>┃<span style=\"font-weight: bold\">       Param # </span>┃\n",
              "┡━━━━━━━━━━━━━━━━━━━━━━━━━━━━━━━━━╇━━━━━━━━━━━━━━━━━━━━━━━━╇━━━━━━━━━━━━━━━┩\n",
              "│ conv1d_21 (<span style=\"color: #0087ff; text-decoration-color: #0087ff\">Conv1D</span>)              │ (<span style=\"color: #00d7ff; text-decoration-color: #00d7ff\">None</span>, <span style=\"color: #00af00; text-decoration-color: #00af00\">7</span>, <span style=\"color: #00af00; text-decoration-color: #00af00\">256</span>)         │         <span style=\"color: #00af00; text-decoration-color: #00af00\">3,072</span> │\n",
              "├─────────────────────────────────┼────────────────────────┼───────────────┤\n",
              "│ lstm_24 (<span style=\"color: #0087ff; text-decoration-color: #0087ff\">LSTM</span>)                  │ (<span style=\"color: #00d7ff; text-decoration-color: #00d7ff\">None</span>, <span style=\"color: #00af00; text-decoration-color: #00af00\">7</span>, <span style=\"color: #00af00; text-decoration-color: #00af00\">128</span>)         │       <span style=\"color: #00af00; text-decoration-color: #00af00\">197,120</span> │\n",
              "├─────────────────────────────────┼────────────────────────┼───────────────┤\n",
              "│ dense_24 (<span style=\"color: #0087ff; text-decoration-color: #0087ff\">Dense</span>)                │ (<span style=\"color: #00d7ff; text-decoration-color: #00d7ff\">None</span>, <span style=\"color: #00af00; text-decoration-color: #00af00\">7</span>, <span style=\"color: #00af00; text-decoration-color: #00af00\">1</span>)           │           <span style=\"color: #00af00; text-decoration-color: #00af00\">129</span> │\n",
              "└─────────────────────────────────┴────────────────────────┴───────────────┘\n",
              "</pre>\n"
            ]
          },
          "metadata": {}
        },
        {
          "output_type": "display_data",
          "data": {
            "text/plain": [
              "\u001b[1m Total params: \u001b[0m\u001b[38;5;34m200,321\u001b[0m (782.50 KB)\n"
            ],
            "text/html": [
              "<pre style=\"white-space:pre;overflow-x:auto;line-height:normal;font-family:Menlo,'DejaVu Sans Mono',consolas,'Courier New',monospace\"><span style=\"font-weight: bold\"> Total params: </span><span style=\"color: #00af00; text-decoration-color: #00af00\">200,321</span> (782.50 KB)\n",
              "</pre>\n"
            ]
          },
          "metadata": {}
        },
        {
          "output_type": "display_data",
          "data": {
            "text/plain": [
              "\u001b[1m Trainable params: \u001b[0m\u001b[38;5;34m200,321\u001b[0m (782.50 KB)\n"
            ],
            "text/html": [
              "<pre style=\"white-space:pre;overflow-x:auto;line-height:normal;font-family:Menlo,'DejaVu Sans Mono',consolas,'Courier New',monospace\"><span style=\"font-weight: bold\"> Trainable params: </span><span style=\"color: #00af00; text-decoration-color: #00af00\">200,321</span> (782.50 KB)\n",
              "</pre>\n"
            ]
          },
          "metadata": {}
        },
        {
          "output_type": "display_data",
          "data": {
            "text/plain": [
              "\u001b[1m Non-trainable params: \u001b[0m\u001b[38;5;34m0\u001b[0m (0.00 B)\n"
            ],
            "text/html": [
              "<pre style=\"white-space:pre;overflow-x:auto;line-height:normal;font-family:Menlo,'DejaVu Sans Mono',consolas,'Courier New',monospace\"><span style=\"font-weight: bold\"> Non-trainable params: </span><span style=\"color: #00af00; text-decoration-color: #00af00\">0</span> (0.00 B)\n",
              "</pre>\n"
            ]
          },
          "metadata": {}
        }
      ]
    },
    {
      "cell_type": "code",
      "source": [
        "model_hybrid_5.fit(\n",
        "    x_train,\n",
        "    y_train,\n",
        "    validation_data=(x_val ,y_val),\n",
        "    epochs=20,\n",
        "    batch_size=42\n",
        ")"
      ],
      "metadata": {
        "colab": {
          "base_uri": "https://localhost:8080/"
        },
        "outputId": "2b364f05-4e91-4633-dae8-50a221b0516f",
        "id": "PzOmRPFEGSET"
      },
      "execution_count": null,
      "outputs": [
        {
          "output_type": "stream",
          "name": "stdout",
          "text": [
            "Epoch 1/20\n",
            "\u001b[1m14/14\u001b[0m \u001b[32m━━━━━━━━━━━━━━━━━━━━\u001b[0m\u001b[37m\u001b[0m \u001b[1m3s\u001b[0m 57ms/step - loss: 0.1554 - mean_absolute_error: 0.3318 - mean_absolute_percentage_error: 65.2598 - root_mean_squared_error: 0.3878 - val_loss: 0.0570 - val_mean_absolute_error: 0.1967 - val_mean_absolute_percentage_error: 28.7708 - val_root_mean_squared_error: 0.2388\n",
            "Epoch 2/20\n",
            "\u001b[1m14/14\u001b[0m \u001b[32m━━━━━━━━━━━━━━━━━━━━\u001b[0m\u001b[37m\u001b[0m \u001b[1m1s\u001b[0m 30ms/step - loss: 0.0482 - mean_absolute_error: 0.1760 - mean_absolute_percentage_error: 34.5001 - root_mean_squared_error: 0.2192 - val_loss: 0.0238 - val_mean_absolute_error: 0.1212 - val_mean_absolute_percentage_error: 19.1041 - val_root_mean_squared_error: 0.1544\n",
            "Epoch 3/20\n",
            "\u001b[1m14/14\u001b[0m \u001b[32m━━━━━━━━━━━━━━━━━━━━\u001b[0m\u001b[37m\u001b[0m \u001b[1m1s\u001b[0m 27ms/step - loss: 0.0284 - mean_absolute_error: 0.1315 - mean_absolute_percentage_error: 30.8105 - root_mean_squared_error: 0.1685 - val_loss: 0.0165 - val_mean_absolute_error: 0.1044 - val_mean_absolute_percentage_error: 16.0515 - val_root_mean_squared_error: 0.1286\n",
            "Epoch 4/20\n",
            "\u001b[1m14/14\u001b[0m \u001b[32m━━━━━━━━━━━━━━━━━━━━\u001b[0m\u001b[37m\u001b[0m \u001b[1m1s\u001b[0m 25ms/step - loss: 0.0247 - mean_absolute_error: 0.1235 - mean_absolute_percentage_error: 30.8027 - root_mean_squared_error: 0.1573 - val_loss: 0.0142 - val_mean_absolute_error: 0.0982 - val_mean_absolute_percentage_error: 15.1778 - val_root_mean_squared_error: 0.1192\n",
            "Epoch 5/20\n",
            "\u001b[1m14/14\u001b[0m \u001b[32m━━━━━━━━━━━━━━━━━━━━\u001b[0m\u001b[37m\u001b[0m \u001b[1m0s\u001b[0m 25ms/step - loss: 0.0224 - mean_absolute_error: 0.1168 - mean_absolute_percentage_error: 27.6145 - root_mean_squared_error: 0.1495 - val_loss: 0.0138 - val_mean_absolute_error: 0.0975 - val_mean_absolute_percentage_error: 14.7486 - val_root_mean_squared_error: 0.1173\n",
            "Epoch 6/20\n",
            "\u001b[1m14/14\u001b[0m \u001b[32m━━━━━━━━━━━━━━━━━━━━\u001b[0m\u001b[37m\u001b[0m \u001b[1m1s\u001b[0m 31ms/step - loss: 0.0218 - mean_absolute_error: 0.1170 - mean_absolute_percentage_error: 27.7874 - root_mean_squared_error: 0.1478 - val_loss: 0.0121 - val_mean_absolute_error: 0.0917 - val_mean_absolute_percentage_error: 14.0307 - val_root_mean_squared_error: 0.1099\n",
            "Epoch 7/20\n",
            "\u001b[1m14/14\u001b[0m \u001b[32m━━━━━━━━━━━━━━━━━━━━\u001b[0m\u001b[37m\u001b[0m \u001b[1m1s\u001b[0m 52ms/step - loss: 0.0202 - mean_absolute_error: 0.1121 - mean_absolute_percentage_error: 28.2497 - root_mean_squared_error: 0.1421 - val_loss: 0.0114 - val_mean_absolute_error: 0.0889 - val_mean_absolute_percentage_error: 14.0796 - val_root_mean_squared_error: 0.1068\n",
            "Epoch 8/20\n",
            "\u001b[1m14/14\u001b[0m \u001b[32m━━━━━━━━━━━━━━━━━━━━\u001b[0m\u001b[37m\u001b[0m \u001b[1m1s\u001b[0m 51ms/step - loss: 0.0196 - mean_absolute_error: 0.1098 - mean_absolute_percentage_error: 26.6350 - root_mean_squared_error: 0.1401 - val_loss: 0.0117 - val_mean_absolute_error: 0.0910 - val_mean_absolute_percentage_error: 13.8612 - val_root_mean_squared_error: 0.1083\n",
            "Epoch 9/20\n",
            "\u001b[1m14/14\u001b[0m \u001b[32m━━━━━━━━━━━━━━━━━━━━\u001b[0m\u001b[37m\u001b[0m \u001b[1m1s\u001b[0m 36ms/step - loss: 0.0195 - mean_absolute_error: 0.1107 - mean_absolute_percentage_error: 27.0301 - root_mean_squared_error: 0.1397 - val_loss: 0.0116 - val_mean_absolute_error: 0.0901 - val_mean_absolute_percentage_error: 13.7730 - val_root_mean_squared_error: 0.1076\n",
            "Epoch 10/20\n",
            "\u001b[1m14/14\u001b[0m \u001b[32m━━━━━━━━━━━━━━━━━━━━\u001b[0m\u001b[37m\u001b[0m \u001b[1m0s\u001b[0m 28ms/step - loss: 0.0193 - mean_absolute_error: 0.1085 - mean_absolute_percentage_error: 27.0451 - root_mean_squared_error: 0.1387 - val_loss: 0.0111 - val_mean_absolute_error: 0.0873 - val_mean_absolute_percentage_error: 13.7928 - val_root_mean_squared_error: 0.1053\n",
            "Epoch 11/20\n",
            "\u001b[1m14/14\u001b[0m \u001b[32m━━━━━━━━━━━━━━━━━━━━\u001b[0m\u001b[37m\u001b[0m \u001b[1m1s\u001b[0m 25ms/step - loss: 0.0188 - mean_absolute_error: 0.1082 - mean_absolute_percentage_error: 28.5534 - root_mean_squared_error: 0.1370 - val_loss: 0.0110 - val_mean_absolute_error: 0.0877 - val_mean_absolute_percentage_error: 13.6192 - val_root_mean_squared_error: 0.1047\n",
            "Epoch 12/20\n",
            "\u001b[1m14/14\u001b[0m \u001b[32m━━━━━━━━━━━━━━━━━━━━\u001b[0m\u001b[37m\u001b[0m \u001b[1m1s\u001b[0m 43ms/step - loss: 0.0190 - mean_absolute_error: 0.1081 - mean_absolute_percentage_error: 27.0539 - root_mean_squared_error: 0.1378 - val_loss: 0.0129 - val_mean_absolute_error: 0.0951 - val_mean_absolute_percentage_error: 14.2121 - val_root_mean_squared_error: 0.1138\n",
            "Epoch 13/20\n",
            "\u001b[1m14/14\u001b[0m \u001b[32m━━━━━━━━━━━━━━━━━━━━\u001b[0m\u001b[37m\u001b[0m \u001b[1m1s\u001b[0m 41ms/step - loss: 0.0184 - mean_absolute_error: 0.1072 - mean_absolute_percentage_error: 25.0523 - root_mean_squared_error: 0.1355 - val_loss: 0.0133 - val_mean_absolute_error: 0.0961 - val_mean_absolute_percentage_error: 14.3129 - val_root_mean_squared_error: 0.1153\n",
            "Epoch 14/20\n",
            "\u001b[1m14/14\u001b[0m \u001b[32m━━━━━━━━━━━━━━━━━━━━\u001b[0m\u001b[37m\u001b[0m \u001b[1m1s\u001b[0m 50ms/step - loss: 0.0167 - mean_absolute_error: 0.1014 - mean_absolute_percentage_error: 24.6566 - root_mean_squared_error: 0.1291 - val_loss: 0.0112 - val_mean_absolute_error: 0.0882 - val_mean_absolute_percentage_error: 13.6389 - val_root_mean_squared_error: 0.1059\n",
            "Epoch 15/20\n",
            "\u001b[1m14/14\u001b[0m \u001b[32m━━━━━━━━━━━━━━━━━━━━\u001b[0m\u001b[37m\u001b[0m \u001b[1m1s\u001b[0m 53ms/step - loss: 0.0167 - mean_absolute_error: 0.1016 - mean_absolute_percentage_error: 24.8651 - root_mean_squared_error: 0.1292 - val_loss: 0.0118 - val_mean_absolute_error: 0.0901 - val_mean_absolute_percentage_error: 13.6796 - val_root_mean_squared_error: 0.1084\n",
            "Epoch 16/20\n",
            "\u001b[1m14/14\u001b[0m \u001b[32m━━━━━━━━━━━━━━━━━━━━\u001b[0m\u001b[37m\u001b[0m \u001b[1m1s\u001b[0m 69ms/step - loss: 0.0166 - mean_absolute_error: 0.1001 - mean_absolute_percentage_error: 24.6727 - root_mean_squared_error: 0.1287 - val_loss: 0.0113 - val_mean_absolute_error: 0.0884 - val_mean_absolute_percentage_error: 13.8236 - val_root_mean_squared_error: 0.1064\n",
            "Epoch 17/20\n",
            "\u001b[1m14/14\u001b[0m \u001b[32m━━━━━━━━━━━━━━━━━━━━\u001b[0m\u001b[37m\u001b[0m \u001b[1m1s\u001b[0m 27ms/step - loss: 0.0160 - mean_absolute_error: 0.0983 - mean_absolute_percentage_error: 24.2409 - root_mean_squared_error: 0.1264 - val_loss: 0.0116 - val_mean_absolute_error: 0.0882 - val_mean_absolute_percentage_error: 13.9720 - val_root_mean_squared_error: 0.1076\n",
            "Epoch 18/20\n",
            "\u001b[1m14/14\u001b[0m \u001b[32m━━━━━━━━━━━━━━━━━━━━\u001b[0m\u001b[37m\u001b[0m \u001b[1m1s\u001b[0m 32ms/step - loss: 0.0156 - mean_absolute_error: 0.0976 - mean_absolute_percentage_error: 23.7514 - root_mean_squared_error: 0.1248 - val_loss: 0.0117 - val_mean_absolute_error: 0.0895 - val_mean_absolute_percentage_error: 13.7103 - val_root_mean_squared_error: 0.1082\n",
            "Epoch 19/20\n",
            "\u001b[1m14/14\u001b[0m \u001b[32m━━━━━━━━━━━━━━━━━━━━\u001b[0m\u001b[37m\u001b[0m \u001b[1m1s\u001b[0m 51ms/step - loss: 0.0161 - mean_absolute_error: 0.0999 - mean_absolute_percentage_error: 24.4359 - root_mean_squared_error: 0.1270 - val_loss: 0.0122 - val_mean_absolute_error: 0.0914 - val_mean_absolute_percentage_error: 13.8915 - val_root_mean_squared_error: 0.1106\n",
            "Epoch 20/20\n",
            "\u001b[1m14/14\u001b[0m \u001b[32m━━━━━━━━━━━━━━━━━━━━\u001b[0m\u001b[37m\u001b[0m \u001b[1m1s\u001b[0m 50ms/step - loss: 0.0151 - mean_absolute_error: 0.0967 - mean_absolute_percentage_error: 23.1253 - root_mean_squared_error: 0.1228 - val_loss: 0.0117 - val_mean_absolute_error: 0.0889 - val_mean_absolute_percentage_error: 13.8651 - val_root_mean_squared_error: 0.1080\n"
          ]
        },
        {
          "output_type": "execute_result",
          "data": {
            "text/plain": [
              "<keras.src.callbacks.history.History at 0x7b26db926010>"
            ]
          },
          "metadata": {},
          "execution_count": 116
        }
      ]
    },
    {
      "cell_type": "code",
      "source": [
        "y_pred = model_hybrid_4.predict(x_test)"
      ],
      "metadata": {
        "colab": {
          "base_uri": "https://localhost:8080/"
        },
        "outputId": "2d499a1a-ddeb-496a-f550-4d5241ad74c2",
        "id": "PxOXuJXKGSET"
      },
      "execution_count": null,
      "outputs": [
        {
          "output_type": "stream",
          "name": "stdout",
          "text": [
            "\u001b[1m3/3\u001b[0m \u001b[32m━━━━━━━━━━━━━━━━━━━━\u001b[0m\u001b[37m\u001b[0m \u001b[1m0s\u001b[0m 13ms/step\n"
          ]
        }
      ]
    },
    {
      "cell_type": "code",
      "source": [
        "loss, mae, mape, rmse = model_hybrid_5.evaluate(x_test, y_test)\n",
        "print(\"model hybrid 5\")\n",
        "print(\"Mean Absolute Error:\", mae)\n",
        "print(\"Mean Square Error:\", loss)\n",
        "print(\"Mean Absolute Percentage Error:\", mape)\n",
        "print(\"Root Mean Squared Error:\", rmse)"
      ],
      "metadata": {
        "colab": {
          "base_uri": "https://localhost:8080/"
        },
        "outputId": "5879ca8e-5e88-49c2-e49f-44714d62adf4",
        "id": "_OBp9lNTGSET"
      },
      "execution_count": null,
      "outputs": [
        {
          "output_type": "stream",
          "name": "stdout",
          "text": [
            "\u001b[1m3/3\u001b[0m \u001b[32m━━━━━━━━━━━━━━━━━━━━\u001b[0m\u001b[37m\u001b[0m \u001b[1m0s\u001b[0m 16ms/step - loss: 0.0306 - mean_absolute_error: 0.1322 - mean_absolute_percentage_error: 600888.7500 - root_mean_squared_error: 0.1742\n",
            "model hybrid 5\n",
            "Mean Absolute Error: 0.14359210431575775\n",
            "Mean Square Error: 0.03529002144932747\n",
            "Mean Absolute Percentage Error: 1201751.375\n",
            "Root Mean Squared Error: 0.18785639107227325\n"
          ]
        }
      ]
    },
    {
      "cell_type": "code",
      "source": [],
      "metadata": {
        "id": "1MxnQtdJGSET"
      },
      "execution_count": null,
      "outputs": []
    },
    {
      "cell_type": "markdown",
      "source": [
        "## model 6 (CNN=24 LSTM=12)"
      ],
      "metadata": {
        "id": "8mKrCw9vJ_GZ"
      }
    },
    {
      "cell_type": "code",
      "source": [
        "lr = 0.0003\n",
        "\n",
        "model_hybrid_6 = Sequential()\n",
        "model_hybrid_6.add(Conv1D(filters=256, kernel_size=1, activation='relu', input_shape=(x_train.shape[1], x_train.shape[2])))\n",
        "model_hybrid_6.add(LSTM(64, activation='tanh', return_sequences=True))\n",
        "model_hybrid_6.add(Dense(1))\n",
        "model_hybrid_6.compile(loss='mse', optimizer='adam', metrics=[metrics.MeanAbsoluteError(), metrics.MeanAbsolutePercentageError(), metrics.RootMeanSquaredError()])\n",
        "model_hybrid_6.summary()"
      ],
      "metadata": {
        "colab": {
          "base_uri": "https://localhost:8080/",
          "height": 293
        },
        "outputId": "73c607be-1a52-4627-f48b-0f9d9e881784",
        "id": "gf0gsoD1J_Ga"
      },
      "execution_count": null,
      "outputs": [
        {
          "output_type": "stream",
          "name": "stderr",
          "text": [
            "/usr/local/lib/python3.11/dist-packages/keras/src/layers/convolutional/base_conv.py:107: UserWarning: Do not pass an `input_shape`/`input_dim` argument to a layer. When using Sequential models, prefer using an `Input(shape)` object as the first layer in the model instead.\n",
            "  super().__init__(activity_regularizer=activity_regularizer, **kwargs)\n"
          ]
        },
        {
          "output_type": "display_data",
          "data": {
            "text/plain": [
              "\u001b[1mModel: \"sequential_26\"\u001b[0m\n"
            ],
            "text/html": [
              "<pre style=\"white-space:pre;overflow-x:auto;line-height:normal;font-family:Menlo,'DejaVu Sans Mono',consolas,'Courier New',monospace\"><span style=\"font-weight: bold\">Model: \"sequential_26\"</span>\n",
              "</pre>\n"
            ]
          },
          "metadata": {}
        },
        {
          "output_type": "display_data",
          "data": {
            "text/plain": [
              "┏━━━━━━━━━━━━━━━━━━━━━━━━━━━━━━━━━┳━━━━━━━━━━━━━━━━━━━━━━━━┳━━━━━━━━━━━━━━━┓\n",
              "┃\u001b[1m \u001b[0m\u001b[1mLayer (type)                   \u001b[0m\u001b[1m \u001b[0m┃\u001b[1m \u001b[0m\u001b[1mOutput Shape          \u001b[0m\u001b[1m \u001b[0m┃\u001b[1m \u001b[0m\u001b[1m      Param #\u001b[0m\u001b[1m \u001b[0m┃\n",
              "┡━━━━━━━━━━━━━━━━━━━━━━━━━━━━━━━━━╇━━━━━━━━━━━━━━━━━━━━━━━━╇━━━━━━━━━━━━━━━┩\n",
              "│ conv1d_22 (\u001b[38;5;33mConv1D\u001b[0m)              │ (\u001b[38;5;45mNone\u001b[0m, \u001b[38;5;34m7\u001b[0m, \u001b[38;5;34m256\u001b[0m)         │         \u001b[38;5;34m3,072\u001b[0m │\n",
              "├─────────────────────────────────┼────────────────────────┼───────────────┤\n",
              "│ lstm_25 (\u001b[38;5;33mLSTM\u001b[0m)                  │ (\u001b[38;5;45mNone\u001b[0m, \u001b[38;5;34m7\u001b[0m, \u001b[38;5;34m64\u001b[0m)          │        \u001b[38;5;34m82,176\u001b[0m │\n",
              "├─────────────────────────────────┼────────────────────────┼───────────────┤\n",
              "│ dense_25 (\u001b[38;5;33mDense\u001b[0m)                │ (\u001b[38;5;45mNone\u001b[0m, \u001b[38;5;34m7\u001b[0m, \u001b[38;5;34m1\u001b[0m)           │            \u001b[38;5;34m65\u001b[0m │\n",
              "└─────────────────────────────────┴────────────────────────┴───────────────┘\n"
            ],
            "text/html": [
              "<pre style=\"white-space:pre;overflow-x:auto;line-height:normal;font-family:Menlo,'DejaVu Sans Mono',consolas,'Courier New',monospace\">┏━━━━━━━━━━━━━━━━━━━━━━━━━━━━━━━━━┳━━━━━━━━━━━━━━━━━━━━━━━━┳━━━━━━━━━━━━━━━┓\n",
              "┃<span style=\"font-weight: bold\"> Layer (type)                    </span>┃<span style=\"font-weight: bold\"> Output Shape           </span>┃<span style=\"font-weight: bold\">       Param # </span>┃\n",
              "┡━━━━━━━━━━━━━━━━━━━━━━━━━━━━━━━━━╇━━━━━━━━━━━━━━━━━━━━━━━━╇━━━━━━━━━━━━━━━┩\n",
              "│ conv1d_22 (<span style=\"color: #0087ff; text-decoration-color: #0087ff\">Conv1D</span>)              │ (<span style=\"color: #00d7ff; text-decoration-color: #00d7ff\">None</span>, <span style=\"color: #00af00; text-decoration-color: #00af00\">7</span>, <span style=\"color: #00af00; text-decoration-color: #00af00\">256</span>)         │         <span style=\"color: #00af00; text-decoration-color: #00af00\">3,072</span> │\n",
              "├─────────────────────────────────┼────────────────────────┼───────────────┤\n",
              "│ lstm_25 (<span style=\"color: #0087ff; text-decoration-color: #0087ff\">LSTM</span>)                  │ (<span style=\"color: #00d7ff; text-decoration-color: #00d7ff\">None</span>, <span style=\"color: #00af00; text-decoration-color: #00af00\">7</span>, <span style=\"color: #00af00; text-decoration-color: #00af00\">64</span>)          │        <span style=\"color: #00af00; text-decoration-color: #00af00\">82,176</span> │\n",
              "├─────────────────────────────────┼────────────────────────┼───────────────┤\n",
              "│ dense_25 (<span style=\"color: #0087ff; text-decoration-color: #0087ff\">Dense</span>)                │ (<span style=\"color: #00d7ff; text-decoration-color: #00d7ff\">None</span>, <span style=\"color: #00af00; text-decoration-color: #00af00\">7</span>, <span style=\"color: #00af00; text-decoration-color: #00af00\">1</span>)           │            <span style=\"color: #00af00; text-decoration-color: #00af00\">65</span> │\n",
              "└─────────────────────────────────┴────────────────────────┴───────────────┘\n",
              "</pre>\n"
            ]
          },
          "metadata": {}
        },
        {
          "output_type": "display_data",
          "data": {
            "text/plain": [
              "\u001b[1m Total params: \u001b[0m\u001b[38;5;34m85,313\u001b[0m (333.25 KB)\n"
            ],
            "text/html": [
              "<pre style=\"white-space:pre;overflow-x:auto;line-height:normal;font-family:Menlo,'DejaVu Sans Mono',consolas,'Courier New',monospace\"><span style=\"font-weight: bold\"> Total params: </span><span style=\"color: #00af00; text-decoration-color: #00af00\">85,313</span> (333.25 KB)\n",
              "</pre>\n"
            ]
          },
          "metadata": {}
        },
        {
          "output_type": "display_data",
          "data": {
            "text/plain": [
              "\u001b[1m Trainable params: \u001b[0m\u001b[38;5;34m85,313\u001b[0m (333.25 KB)\n"
            ],
            "text/html": [
              "<pre style=\"white-space:pre;overflow-x:auto;line-height:normal;font-family:Menlo,'DejaVu Sans Mono',consolas,'Courier New',monospace\"><span style=\"font-weight: bold\"> Trainable params: </span><span style=\"color: #00af00; text-decoration-color: #00af00\">85,313</span> (333.25 KB)\n",
              "</pre>\n"
            ]
          },
          "metadata": {}
        },
        {
          "output_type": "display_data",
          "data": {
            "text/plain": [
              "\u001b[1m Non-trainable params: \u001b[0m\u001b[38;5;34m0\u001b[0m (0.00 B)\n"
            ],
            "text/html": [
              "<pre style=\"white-space:pre;overflow-x:auto;line-height:normal;font-family:Menlo,'DejaVu Sans Mono',consolas,'Courier New',monospace\"><span style=\"font-weight: bold\"> Non-trainable params: </span><span style=\"color: #00af00; text-decoration-color: #00af00\">0</span> (0.00 B)\n",
              "</pre>\n"
            ]
          },
          "metadata": {}
        }
      ]
    },
    {
      "cell_type": "code",
      "source": [
        "model_hybrid_6.fit(\n",
        "    x_train,\n",
        "    y_train,\n",
        "    validation_data=(x_val ,y_val),\n",
        "    epochs=20,\n",
        "    batch_size=42\n",
        ")"
      ],
      "metadata": {
        "colab": {
          "base_uri": "https://localhost:8080/"
        },
        "outputId": "1f1e593c-faf2-4503-ea52-67eac34afef8",
        "id": "Eg1WdeFnJ_Ga"
      },
      "execution_count": null,
      "outputs": [
        {
          "output_type": "stream",
          "name": "stdout",
          "text": [
            "Epoch 1/20\n",
            "\u001b[1m14/14\u001b[0m \u001b[32m━━━━━━━━━━━━━━━━━━━━\u001b[0m\u001b[37m\u001b[0m \u001b[1m4s\u001b[0m 80ms/step - loss: 0.1779 - mean_absolute_error: 0.3537 - mean_absolute_percentage_error: 68.4362 - root_mean_squared_error: 0.4131 - val_loss: 0.0463 - val_mean_absolute_error: 0.1650 - val_mean_absolute_percentage_error: 24.6192 - val_root_mean_squared_error: 0.2151\n",
            "Epoch 2/20\n",
            "\u001b[1m14/14\u001b[0m \u001b[32m━━━━━━━━━━━━━━━━━━━━\u001b[0m\u001b[37m\u001b[0m \u001b[1m1s\u001b[0m 69ms/step - loss: 0.0480 - mean_absolute_error: 0.1741 - mean_absolute_percentage_error: 35.3113 - root_mean_squared_error: 0.2190 - val_loss: 0.0293 - val_mean_absolute_error: 0.1322 - val_mean_absolute_percentage_error: 20.5583 - val_root_mean_squared_error: 0.1711\n",
            "Epoch 3/20\n",
            "\u001b[1m14/14\u001b[0m \u001b[32m━━━━━━━━━━━━━━━━━━━━\u001b[0m\u001b[37m\u001b[0m \u001b[1m1s\u001b[0m 72ms/step - loss: 0.0349 - mean_absolute_error: 0.1473 - mean_absolute_percentage_error: 34.9322 - root_mean_squared_error: 0.1867 - val_loss: 0.0244 - val_mean_absolute_error: 0.1230 - val_mean_absolute_percentage_error: 18.2944 - val_root_mean_squared_error: 0.1562\n",
            "Epoch 4/20\n",
            "\u001b[1m14/14\u001b[0m \u001b[32m━━━━━━━━━━━━━━━━━━━━\u001b[0m\u001b[37m\u001b[0m \u001b[1m1s\u001b[0m 19ms/step - loss: 0.0272 - mean_absolute_error: 0.1297 - mean_absolute_percentage_error: 30.7682 - root_mean_squared_error: 0.1649 - val_loss: 0.0165 - val_mean_absolute_error: 0.1028 - val_mean_absolute_percentage_error: 16.1317 - val_root_mean_squared_error: 0.1283\n",
            "Epoch 5/20\n",
            "\u001b[1m14/14\u001b[0m \u001b[32m━━━━━━━━━━━━━━━━━━━━\u001b[0m\u001b[37m\u001b[0m \u001b[1m0s\u001b[0m 18ms/step - loss: 0.0246 - mean_absolute_error: 0.1234 - mean_absolute_percentage_error: 30.9269 - root_mean_squared_error: 0.1570 - val_loss: 0.0145 - val_mean_absolute_error: 0.0978 - val_mean_absolute_percentage_error: 15.3521 - val_root_mean_squared_error: 0.1206\n",
            "Epoch 6/20\n",
            "\u001b[1m14/14\u001b[0m \u001b[32m━━━━━━━━━━━━━━━━━━━━\u001b[0m\u001b[37m\u001b[0m \u001b[1m0s\u001b[0m 19ms/step - loss: 0.0233 - mean_absolute_error: 0.1196 - mean_absolute_percentage_error: 31.1925 - root_mean_squared_error: 0.1526 - val_loss: 0.0138 - val_mean_absolute_error: 0.0967 - val_mean_absolute_percentage_error: 14.7879 - val_root_mean_squared_error: 0.1175\n",
            "Epoch 7/20\n",
            "\u001b[1m14/14\u001b[0m \u001b[32m━━━━━━━━━━━━━━━━━━━━\u001b[0m\u001b[37m\u001b[0m \u001b[1m0s\u001b[0m 18ms/step - loss: 0.0221 - mean_absolute_error: 0.1168 - mean_absolute_percentage_error: 28.9717 - root_mean_squared_error: 0.1488 - val_loss: 0.0133 - val_mean_absolute_error: 0.0953 - val_mean_absolute_percentage_error: 14.4573 - val_root_mean_squared_error: 0.1152\n",
            "Epoch 8/20\n",
            "\u001b[1m14/14\u001b[0m \u001b[32m━━━━━━━━━━━━━━━━━━━━\u001b[0m\u001b[37m\u001b[0m \u001b[1m0s\u001b[0m 18ms/step - loss: 0.0212 - mean_absolute_error: 0.1143 - mean_absolute_percentage_error: 27.7621 - root_mean_squared_error: 0.1454 - val_loss: 0.0126 - val_mean_absolute_error: 0.0931 - val_mean_absolute_percentage_error: 14.1267 - val_root_mean_squared_error: 0.1124\n",
            "Epoch 9/20\n",
            "\u001b[1m14/14\u001b[0m \u001b[32m━━━━━━━━━━━━━━━━━━━━\u001b[0m\u001b[37m\u001b[0m \u001b[1m0s\u001b[0m 21ms/step - loss: 0.0201 - mean_absolute_error: 0.1108 - mean_absolute_percentage_error: 27.3841 - root_mean_squared_error: 0.1417 - val_loss: 0.0118 - val_mean_absolute_error: 0.0903 - val_mean_absolute_percentage_error: 13.7567 - val_root_mean_squared_error: 0.1084\n",
            "Epoch 10/20\n",
            "\u001b[1m14/14\u001b[0m \u001b[32m━━━━━━━━━━━━━━━━━━━━\u001b[0m\u001b[37m\u001b[0m \u001b[1m0s\u001b[0m 18ms/step - loss: 0.0190 - mean_absolute_error: 0.1085 - mean_absolute_percentage_error: 27.1073 - root_mean_squared_error: 0.1380 - val_loss: 0.0110 - val_mean_absolute_error: 0.0876 - val_mean_absolute_percentage_error: 13.5175 - val_root_mean_squared_error: 0.1049\n",
            "Epoch 11/20\n",
            "\u001b[1m14/14\u001b[0m \u001b[32m━━━━━━━━━━━━━━━━━━━━\u001b[0m\u001b[37m\u001b[0m \u001b[1m0s\u001b[0m 17ms/step - loss: 0.0190 - mean_absolute_error: 0.1091 - mean_absolute_percentage_error: 27.0202 - root_mean_squared_error: 0.1378 - val_loss: 0.0105 - val_mean_absolute_error: 0.0858 - val_mean_absolute_percentage_error: 13.4084 - val_root_mean_squared_error: 0.1027\n",
            "Epoch 12/20\n",
            "\u001b[1m14/14\u001b[0m \u001b[32m━━━━━━━━━━━━━━━━━━━━\u001b[0m\u001b[37m\u001b[0m \u001b[1m0s\u001b[0m 18ms/step - loss: 0.0177 - mean_absolute_error: 0.1049 - mean_absolute_percentage_error: 25.2334 - root_mean_squared_error: 0.1331 - val_loss: 0.0112 - val_mean_absolute_error: 0.0889 - val_mean_absolute_percentage_error: 13.5170 - val_root_mean_squared_error: 0.1057\n",
            "Epoch 13/20\n",
            "\u001b[1m14/14\u001b[0m \u001b[32m━━━━━━━━━━━━━━━━━━━━\u001b[0m\u001b[37m\u001b[0m \u001b[1m0s\u001b[0m 19ms/step - loss: 0.0177 - mean_absolute_error: 0.1049 - mean_absolute_percentage_error: 27.0912 - root_mean_squared_error: 0.1331 - val_loss: 0.0118 - val_mean_absolute_error: 0.0912 - val_mean_absolute_percentage_error: 13.7238 - val_root_mean_squared_error: 0.1084\n",
            "Epoch 14/20\n",
            "\u001b[1m14/14\u001b[0m \u001b[32m━━━━━━━━━━━━━━━━━━━━\u001b[0m\u001b[37m\u001b[0m \u001b[1m0s\u001b[0m 17ms/step - loss: 0.0165 - mean_absolute_error: 0.1015 - mean_absolute_percentage_error: 25.5519 - root_mean_squared_error: 0.1285 - val_loss: 0.0105 - val_mean_absolute_error: 0.0859 - val_mean_absolute_percentage_error: 13.3634 - val_root_mean_squared_error: 0.1027\n",
            "Epoch 15/20\n",
            "\u001b[1m14/14\u001b[0m \u001b[32m━━━━━━━━━━━━━━━━━━━━\u001b[0m\u001b[37m\u001b[0m \u001b[1m0s\u001b[0m 18ms/step - loss: 0.0171 - mean_absolute_error: 0.1021 - mean_absolute_percentage_error: 23.9445 - root_mean_squared_error: 0.1306 - val_loss: 0.0114 - val_mean_absolute_error: 0.0901 - val_mean_absolute_percentage_error: 13.7108 - val_root_mean_squared_error: 0.1066\n",
            "Epoch 16/20\n",
            "\u001b[1m14/14\u001b[0m \u001b[32m━━━━━━━━━━━━━━━━━━━━\u001b[0m\u001b[37m\u001b[0m \u001b[1m0s\u001b[0m 19ms/step - loss: 0.0168 - mean_absolute_error: 0.1025 - mean_absolute_percentage_error: 25.8586 - root_mean_squared_error: 0.1296 - val_loss: 0.0108 - val_mean_absolute_error: 0.0868 - val_mean_absolute_percentage_error: 13.5559 - val_root_mean_squared_error: 0.1040\n",
            "Epoch 17/20\n",
            "\u001b[1m14/14\u001b[0m \u001b[32m━━━━━━━━━━━━━━━━━━━━\u001b[0m\u001b[37m\u001b[0m \u001b[1m0s\u001b[0m 18ms/step - loss: 0.0172 - mean_absolute_error: 0.1025 - mean_absolute_percentage_error: 26.2145 - root_mean_squared_error: 0.1310 - val_loss: 0.0111 - val_mean_absolute_error: 0.0890 - val_mean_absolute_percentage_error: 13.6503 - val_root_mean_squared_error: 0.1055\n",
            "Epoch 18/20\n",
            "\u001b[1m14/14\u001b[0m \u001b[32m━━━━━━━━━━━━━━━━━━━━\u001b[0m\u001b[37m\u001b[0m \u001b[1m0s\u001b[0m 18ms/step - loss: 0.0162 - mean_absolute_error: 0.0999 - mean_absolute_percentage_error: 24.5364 - root_mean_squared_error: 0.1271 - val_loss: 0.0112 - val_mean_absolute_error: 0.0890 - val_mean_absolute_percentage_error: 13.7151 - val_root_mean_squared_error: 0.1057\n",
            "Epoch 19/20\n",
            "\u001b[1m14/14\u001b[0m \u001b[32m━━━━━━━━━━━━━━━━━━━━\u001b[0m\u001b[37m\u001b[0m \u001b[1m0s\u001b[0m 18ms/step - loss: 0.0161 - mean_absolute_error: 0.0999 - mean_absolute_percentage_error: 23.8062 - root_mean_squared_error: 0.1268 - val_loss: 0.0113 - val_mean_absolute_error: 0.0893 - val_mean_absolute_percentage_error: 13.8124 - val_root_mean_squared_error: 0.1062\n",
            "Epoch 20/20\n",
            "\u001b[1m14/14\u001b[0m \u001b[32m━━━━━━━━━━━━━━━━━━━━\u001b[0m\u001b[37m\u001b[0m \u001b[1m0s\u001b[0m 20ms/step - loss: 0.0156 - mean_absolute_error: 0.0978 - mean_absolute_percentage_error: 24.1620 - root_mean_squared_error: 0.1248 - val_loss: 0.0115 - val_mean_absolute_error: 0.0898 - val_mean_absolute_percentage_error: 13.9545 - val_root_mean_squared_error: 0.1071\n"
          ]
        },
        {
          "output_type": "execute_result",
          "data": {
            "text/plain": [
              "<keras.src.callbacks.history.History at 0x7b26db897990>"
            ]
          },
          "metadata": {},
          "execution_count": 120
        }
      ]
    },
    {
      "cell_type": "code",
      "source": [
        "y_pred = model_hybrid_6.predict(x_test)"
      ],
      "metadata": {
        "colab": {
          "base_uri": "https://localhost:8080/"
        },
        "outputId": "c0b139e5-9990-43a0-bb1d-a8d833ef4339",
        "id": "yUEeSocEJ_Ga"
      },
      "execution_count": null,
      "outputs": [
        {
          "output_type": "stream",
          "name": "stdout",
          "text": [
            "\u001b[1m3/3\u001b[0m \u001b[32m━━━━━━━━━━━━━━━━━━━━\u001b[0m\u001b[37m\u001b[0m \u001b[1m0s\u001b[0m 102ms/step\n"
          ]
        }
      ]
    },
    {
      "cell_type": "code",
      "source": [
        "loss, mae, mape, rmse = model_hybrid_6.evaluate(x_test, y_test)\n",
        "print(\"model hybrid 5\")\n",
        "print(\"Mean Absolute Error:\", mae)\n",
        "print(\"Mean Square Error:\", loss)\n",
        "print(\"Mean Absolute Percentage Error:\", mape)\n",
        "print(\"Root Mean Squared Error:\", rmse)"
      ],
      "metadata": {
        "colab": {
          "base_uri": "https://localhost:8080/"
        },
        "outputId": "30a56051-1b12-4a50-b0cb-3a1c50b6a236",
        "id": "SyjLm3YuJ_Gb"
      },
      "execution_count": null,
      "outputs": [
        {
          "output_type": "stream",
          "name": "stdout",
          "text": [
            "\u001b[1m3/3\u001b[0m \u001b[32m━━━━━━━━━━━━━━━━━━━━\u001b[0m\u001b[37m\u001b[0m \u001b[1m0s\u001b[0m 21ms/step - loss: 0.0327 - mean_absolute_error: 0.1349 - mean_absolute_percentage_error: 597823.8125 - root_mean_squared_error: 0.1798\n",
            "model hybrid 5\n",
            "Mean Absolute Error: 0.14960673451423645\n",
            "Mean Square Error: 0.03958747908473015\n",
            "Mean Absolute Percentage Error: 1195621.875\n",
            "Root Mean Squared Error: 0.19896602630615234\n"
          ]
        }
      ]
    },
    {
      "cell_type": "code",
      "source": [],
      "metadata": {
        "id": "-9b6UROJJ_Gb"
      },
      "execution_count": null,
      "outputs": []
    }
  ]
}